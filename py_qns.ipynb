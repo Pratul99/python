{
 "cells": [
  {
   "cell_type": "code",
   "execution_count": null,
   "id": "e8f17296",
   "metadata": {},
   "outputs": [
    {
     "name": "stdout",
     "output_type": "stream",
     "text": [
      "26\n"
     ]
    }
   ],
   "source": [
    "# Given the code below, insert the correct method on line 3 in order to get the index at which the substring Bitcoin starts.\n",
    "\n",
    "my_string = \"In 2010, someone paid 10k Bitcoin for two pizzas.\"\n",
    "print(my_string.find(\"Bitcoin\"))"
   ]
  },
  {
   "cell_type": "code",
   "execution_count": 2,
   "id": "b007d410",
   "metadata": {},
   "outputs": [
    {
     "name": "stdout",
     "output_type": "stream",
     "text": [
      "False\n"
     ]
    }
   ],
   "source": [
    "# Given the code below, insert the correct method on line 3 in order to check of the string starts with the letter X.\n",
    "\n",
    "my_string = \"In 2010, someone paid 10k Bitcoin for two pizzas.\"\n",
    "print(my_string.startswith(\"X\"))"
   ]
  },
  {
   "cell_type": "code",
   "execution_count": 3,
   "id": "664bd70a",
   "metadata": {},
   "outputs": [
    {
     "name": "stdout",
     "output_type": "stream",
     "text": [
      "iN 2010, SOMEONE PAID 10K bITCOIN FOR TWO PIZZAS.\n"
     ]
    }
   ],
   "source": [
    "# Given the code below, insert the correct method on line 3 in order to convert all uppercase letters to lowercase and all lowercase letters to uppercase.\n",
    "\n",
    "my_string = \"In 2010, someone paid 10k Bitcoin for two pizzas.\"\n",
    "print(my_string.swapcase())"
   ]
  },
  {
   "cell_type": "code",
   "execution_count": 4,
   "id": "65826b60",
   "metadata": {},
   "outputs": [
    {
     "name": "stdout",
     "output_type": "stream",
     "text": [
      "In2010,someonepaid10kBitcoinfortwopizzas.\n"
     ]
    }
   ],
   "source": [
    "# Given the code below, insert the correct method on line 3 in order to remove all spaces (single Space characters from the keyboard) from the string.\n",
    "\n",
    "my_string = \"In 2010, someone paid 10k Bitcoin for two pizzas.\"\n",
    "print(my_string.replace(\" \", \"\"))"
   ]
  },
  {
   "cell_type": "code",
   "execution_count": 5,
   "id": "a3eb250d",
   "metadata": {},
   "outputs": [
    {
     "name": "stdout",
     "output_type": "stream",
     "text": [
      "['In 2010', ' someone paid 10k Bitcoin for two pizzas.']\n"
     ]
    }
   ],
   "source": [
    "# Given the code below, insert the correct method on line 3 in order to split the entire string in two parts, using the comma as a delimiter.\n",
    "\n",
    "my_string = \"In 2010, someone paid 10k Bitcoin for two pizzas.\"\n",
    "print(my_string.split(\",\"))"
   ]
  },
  {
   "cell_type": "code",
   "execution_count": 6,
   "id": "a7dc26a2",
   "metadata": {},
   "outputs": [
    {
     "name": "stdout",
     "output_type": "stream",
     "text": [
      "I&n& &2&0&1&0&,& &s&o&m&e&o&n&e& &p&a&i&d& &1&0&k& &B&i&t&c&o&i&n& &f&o&r& &t&w&o& &p&i&z&z&a&s&.\n"
     ]
    }
   ],
   "source": [
    "# Given the code below, insert the correct method on line 3 in order to join the characters of the string using the & symbol as a delimiter.\n",
    "\n",
    "my_string = \"In 2010, someone paid 10k Bitcoin for two pizzas.\"\n",
    "print(\"&\".join(my_string))"
   ]
  },
  {
   "cell_type": "code",
   "execution_count": 7,
   "id": "708c4250",
   "metadata": {},
   "outputs": [
    {
     "name": "stdout",
     "output_type": "stream",
     "text": [
      "In 2010, Someone Paid 10K Bitcoin For Two Pizzas.\n"
     ]
    }
   ],
   "source": [
    "# Given the code below, insert the correct method on line 3 in order to convert the first letter of each word in the string to uppercase.\n",
    "\n",
    "my_string = \"In 2010, someone paid 10k Bitcoin for two pizzas.\"\n",
    "print(my_string.title())"
   ]
  },
  {
   "cell_type": "code",
   "execution_count": 8,
   "id": "c65f4884",
   "metadata": {},
   "outputs": [
    {
     "name": "stdout",
     "output_type": "stream",
     "text": [
      "In 2010, someone paid 10k Bitcoin for two pizzas.\n"
     ]
    }
   ],
   "source": [
    "# Given the code below, use string formatting with the % operator on line 3 to map the values of 2010, 10k and Bitcoin to the corresponding formatting operators.\n",
    "\n",
    "my_string = \"In %s, someone paid %s %s for two pizzas.\"\n",
    "print(my_string % (\"2010\",\"10k\",\"Bitcoin\"))"
   ]
  },
  {
   "cell_type": "code",
   "execution_count": 9,
   "id": "6a98ff26",
   "metadata": {},
   "outputs": [
    {
     "name": "stdout",
     "output_type": "stream",
     "text": [
      "True\n"
     ]
    }
   ],
   "source": [
    "# Given the code below, use the correct function on line 3 in order to obtain the distance between num1 and 0.\n",
    "\n",
    "num1 = -11\n",
    "num2 = abs(num1)\n",
    "print(num2 == 11) #should result in True"
   ]
  },
  {
   "cell_type": "code",
   "execution_count": 3,
   "id": "812f6144",
   "metadata": {},
   "outputs": [
    {
     "name": "stdout",
     "output_type": "stream",
     "text": [
      "False\n"
     ]
    }
   ],
   "source": [
    "result = bool(150 % (10 ** 2 / 2))\n",
    "print(result) "
   ]
  },
  {
   "cell_type": "code",
   "execution_count": 13,
   "id": "9f08a96b",
   "metadata": {},
   "outputs": [
    {
     "name": "stdout",
     "output_type": "stream",
     "text": [
      "[10, 10.5, 20, 30, 'Python', 'Ruby']\n"
     ]
    }
   ],
   "source": [
    "# Given the code below, use the correct code on line 3 in order to remove the element of my_list located at index 5.\n",
    "\n",
    "my_list = [10, 10.5, 20, 30, 'Python', 'Java', 'Ruby']\n",
    "my_list.pop(5)\n",
    "print(my_list)"
   ]
  },
  {
   "cell_type": "markdown",
   "id": "1b2e0e72",
   "metadata": {},
   "source": [
    "# Difference between pop and remove function in python.\n",
    "Both .pop() and .remove() are list methods in Python used to delete elements, but they work in different ways. Let’s break it down clearly.\n",
    "\n",
    "| Feature                    | `.pop()`                                                    | `.remove()`                                       |\n",
    "| -------------------------- | ----------------------------------------------------------- | ------------------------------------------------- |\n",
    "| **Purpose**                | Removes an element **at a given index** (position).         | Removes the **first matching value** in the list. |\n",
    "| **Argument**               | Takes an **index** (default is `-1`, meaning last element). | Takes a **value** (not an index).                 |\n",
    "| **Return Value**           | Returns the element that was removed.                       | Returns `None`.                                   |\n",
    "| **Error if not found**     | Raises `IndexError` if index is out of range.               | Raises `ValueError` if value is not in the list.  |\n",
    "| **Changes List In-Place?** | ✅ Yes                                                       | ✅ Yes                                             |\n"
   ]
  },
  {
   "cell_type": "code",
   "execution_count": 4,
   "id": "42e8cb3f",
   "metadata": {},
   "outputs": [
    {
     "name": "stdout",
     "output_type": "stream",
     "text": [
      "[10, 10.5, 20, 30, 77, 'Python', 'Java', 'Ruby']\n"
     ]
    }
   ],
   "source": [
    "# Given the code below, use the correct method on line 3 in order to insert the element 77 at index 4 in my_list.\n",
    "\n",
    "my_list = [10, 10.5, 20, 30, 'Python', 'Java', 'Ruby']\n",
    "my_list.insert(4, 77)\n",
    "\n",
    "print(my_list)"
   ]
  },
  {
   "cell_type": "code",
   "execution_count": 5,
   "id": "78decaf7",
   "metadata": {},
   "outputs": [
    {
     "name": "stdout",
     "output_type": "stream",
     "text": [
      "[10, 10.5, 20, 30, 'Python', 'Java', 'Ruby', 100, 101, 102]\n"
     ]
    }
   ],
   "source": [
    "# Given the code below, use the correct method on line 3 in order to concatenate my_list with [100, 101, 102], by adding the latter at the end of my_list.\n",
    "my_list = [10, 10.5, 20, 30, 'Python', 'Java', 'Ruby']\n",
    "my_list.extend([100, 101, 102])\n",
    "\n",
    "print(my_list)"
   ]
  },
  {
   "cell_type": "code",
   "execution_count": 6,
   "id": "88b621ab",
   "metadata": {},
   "outputs": [
    {
     "name": "stdout",
     "output_type": "stream",
     "text": [
      "[10, 10.5, 11.01, 19.25, 20, 25.6, 29.99, 30]\n"
     ]
    }
   ],
   "source": [
    "# Given the code below, use the correct function on line 3 in order to sort the elements of my_list in ascending order.\n",
    "my_list = [10, 10.5, 20, 30, 25.6, 19.25, 11.01, 29.99]\n",
    "asc = sorted(my_list)\n",
    " \n",
    "print(asc)"
   ]
  },
  {
   "cell_type": "code",
   "execution_count": 7,
   "id": "13b41975",
   "metadata": {},
   "outputs": [
    {
     "name": "stdout",
     "output_type": "stream",
     "text": [
      "[30, 29.99, 25.6, 20, 19.25, 11.01, 10.5, 10]\n"
     ]
    }
   ],
   "source": [
    "# Given the code below, use the correct function (and argument) on line 3 in order to sort the elements of my_list in descending order.\n",
    "my_list = [10, 10.5, 20, 30, 25.6, 19.25, 11.01, 29.99]\n",
    "asc = sorted(my_list, reverse = True)\n",
    "\n",
    "print(asc)"
   ]
  },
  {
   "cell_type": "code",
   "execution_count": 8,
   "id": "ca631cce",
   "metadata": {},
   "outputs": [
    {
     "name": "stdout",
     "output_type": "stream",
     "text": [
      "10\n"
     ]
    }
   ],
   "source": [
    "# Given the code below, use the correct function on line 3 in order to find out the smallest number in my_list.\n",
    "my_list = [10, 10.5, 20, 30, 25.6, 19.25, 11.01, 29.99]\n",
    "small = min(my_list)\n",
    "\n",
    "print(small)"
   ]
  },
  {
   "cell_type": "code",
   "execution_count": 9,
   "id": "c79f3eb1",
   "metadata": {},
   "outputs": [
    {
     "name": "stdout",
     "output_type": "stream",
     "text": [
      "[]\n"
     ]
    }
   ],
   "source": [
    "# Given the code below, use the correct method on line 3 in order to delete all the elements from my_list and obtain an empty list.\n",
    "\n",
    "my_list = [10, 10.5, 20, 30, 25.6, 19.25, 11.01, 29.99]\n",
    "my_list.clear()\n",
    "\n",
    "print(my_list)"
   ]
  },
  {
   "cell_type": "code",
   "execution_count": 11,
   "id": "3126beab",
   "metadata": {},
   "outputs": [
    {
     "name": "stdout",
     "output_type": "stream",
     "text": [
      "[10, 10.5, 20, 30, 25.6, 19.25, 11.01, 29.99, 30.01, 30.02, 30.03, 10, 10.5, 20, 30, 25.6, 19.25, 11.01, 29.99, 30.01, 30.02, 30.03]\n"
     ]
    }
   ],
   "source": [
    "# Given the code below, use the correct operators and parentheses on line 3 in order to add the elements of [30.01, 30.02, 30.03] to my_list and multiply the resulting list by 2.\n",
    "\n",
    "my_list = [10, 10.5, 20, 30, 25.6, 19.25, 11.01, 29.99]\n",
    "add = (my_list + [30.01, 30.02, 30.03]) * 2\n",
    "\n",
    "print(add)"
   ]
  },
  {
   "cell_type": "code",
   "execution_count": 12,
   "id": "c272063b",
   "metadata": {},
   "outputs": [
    {
     "name": "stdout",
     "output_type": "stream",
     "text": [
      "['Ruby', 20]\n"
     ]
    }
   ],
   "source": [
    "# Given the code below, use the correct code on line 3 in order to return every fourth element of my_list starting with the last element of the list.\n",
    "my_list = [10, 10.5, 20, 30, 'Python', 'Java', 'Ruby']\n",
    "my_slice = my_list[::-4]\n",
    "\n",
    "print(my_slice) #['Ruby', 20]"
   ]
  },
  {
   "cell_type": "code",
   "execution_count": 1,
   "id": "692ccbe8",
   "metadata": {},
   "outputs": [
    {
     "name": "stdout",
     "output_type": "stream",
     "text": [
      "Romania, Poland, Estonia\n"
     ]
    }
   ],
   "source": [
    "# Given the code below, write code in order to perform tuple assignment on line 3 and obtain the results below.\n",
    "\n",
    "my_tup = (\"Romania\", \"Poland\", \"Estonia\")\n",
    "(ro, po, es) = my_tup\n",
    "\n",
    "print(ro + \", \" + po + \", \" + es) #returns 'Romania, Poland, Estonia'"
   ]
  },
  {
   "cell_type": "code",
   "execution_count": 4,
   "id": "99ba6096",
   "metadata": {},
   "outputs": [
    {
     "name": "stdout",
     "output_type": "stream",
     "text": [
      "Slovenia\n"
     ]
    }
   ],
   "source": [
    "# Given the code below, use the correct method on line 3 in order to find out the last element of my_tup in alphabetical order.\n",
    "\n",
    "my_tup = (\"Romania\", \"Poland\", \"Estonia\", \"Bulgaria\", \"Slovakia\", \"Slovenia\", \"Hungary\")\n",
    "last = max(my_tup)\n",
    "\n",
    "print(last) #should return Slovenia"
   ]
  },
  {
   "cell_type": "code",
   "execution_count": 6,
   "id": "20b588a9",
   "metadata": {},
   "outputs": [
    {
     "name": "stdout",
     "output_type": "stream",
     "text": [
      "('Estonia', 'Bulgaria', 'Slovakia', 'Slovenia', 'Hungary')\n"
     ]
    }
   ],
   "source": [
    "# Given the code below, use the correct slice on line 3 in order to return all the elements of my_tup, except the first two of them, using a negative index.\n",
    "my_tup = (\"Romania\", \"Poland\", \"Estonia\", \"Bulgaria\", \"Slovakia\", \"Slovenia\", \"Hungary\")\n",
    "my_slice = my_tup[-5:]\n",
    "\n",
    "print(my_slice)"
   ]
  },
  {
   "cell_type": "code",
   "execution_count": 10,
   "id": "e7de3937",
   "metadata": {},
   "outputs": [
    {
     "name": "stdout",
     "output_type": "stream",
     "text": [
      "Stellar\n"
     ]
    }
   ],
   "source": [
    "# Given the code below, use the correct code on line 3 in order to return the value associated with key 4. This time, use a method as a solution for this exercise!\n",
    "\n",
    "crypto = {1: \"Bitcoin\", 2: \"Ethereum\", 3: \"Litecoin\", 4: \"Stellar\", 5: \"XRP\"}\n",
    "value = crypto.get(4)\n",
    "\n",
    "print(value)"
   ]
  },
  {
   "cell_type": "code",
   "execution_count": 9,
   "id": "6a18ded8",
   "metadata": {},
   "outputs": [
    {
     "name": "stdout",
     "output_type": "stream",
     "text": [
      "Cardano\n"
     ]
    }
   ],
   "source": [
    "# Given the code below, use the correct code on line 3 in order to update the value associated with key 4 to \"Cardano\".\n",
    "\n",
    "crypto = {1: \"Bitcoin\", 2: \"Ethereum\", 3: \"Litecoin\", 4: \"Stellar\", 5: \"XRP\"}\n",
    "crypto.update({4: \"Cardano\"})\n",
    "\n",
    "print(crypto[4])"
   ]
  },
  {
   "cell_type": "code",
   "execution_count": 11,
   "id": "65f0d32f",
   "metadata": {},
   "outputs": [
    {
     "name": "stdout",
     "output_type": "stream",
     "text": [
      "Monero\n"
     ]
    }
   ],
   "source": [
    "# Given the code below, use the correct code on line 3 in order to add a new key-value pair to the dictionary: 6: \"Monero\"\n",
    "\n",
    "crypto = {1: \"Bitcoin\", 2: \"Ethereum\", 3: \"Litecoin\", 4: \"Stellar\", 5: \"XRP\"}\n",
    "crypto[6] = \"Monero\" \n",
    " \n",
    "print(crypto[6])"
   ]
  },
  {
   "cell_type": "code",
   "execution_count": 12,
   "id": "25a02429",
   "metadata": {},
   "outputs": [
    {
     "name": "stdout",
     "output_type": "stream",
     "text": [
      "5\n"
     ]
    }
   ],
   "source": [
    "# Given the code below, use the correct code on line 3 in order to return the number of key-value pairs in the dictionary.\n",
    "\n",
    "crypto = {1: \"Bitcoin\", 2: \"Ethereum\", 3: \"Litecoin\", 4: \"Stellar\", 5: \"XRP\"}\n",
    "number = len(crypto)\n",
    "\n",
    "print(number)"
   ]
  },
  {
   "cell_type": "code",
   "execution_count": 13,
   "id": "362f633b",
   "metadata": {},
   "outputs": [
    {
     "name": "stdout",
     "output_type": "stream",
     "text": [
      "{1: 'Bitcoin', 2: 'Ethereum', 4: 'Stellar', 5: 'XRP'}\n"
     ]
    }
   ],
   "source": [
    "# Given the code below, use the correct code on line 3 in order to delete the key-value pair associated with key 3. Do not use a method as a solution for this exercise!\n",
    "crypto = {1: \"Bitcoin\", 2: \"Ethereum\", 3: \"Litecoin\", 4: \"Stellar\", 5: \"XRP\"}\n",
    " \n",
    "del crypto[3]\n",
    " \n",
    "print(crypto)"
   ]
  },
  {
   "cell_type": "code",
   "execution_count": 16,
   "id": "ecf48ce5",
   "metadata": {},
   "outputs": [
    {
     "name": "stdout",
     "output_type": "stream",
     "text": [
      "True\n"
     ]
    }
   ],
   "source": [
    "# Given the code below, use the correct code on line 3 in order to verify that 7 is not a key in the dictionary.Given the code below, use the correct code on line 3 in order to verify that 7 is not a key in the dictionary.\n",
    "\n",
    "crypto = {1: \"Bitcoin\", 2: \"Ethereum\", 3: \"Litecoin\", 4: \"Stellar\", 5: \"XRP\"}\n",
    "check = 7 not in crypto\n",
    " \n",
    "print(check)"
   ]
  },
  {
   "cell_type": "code",
   "execution_count": 18,
   "id": "2cb81514",
   "metadata": {},
   "outputs": [
    {
     "name": "stdout",
     "output_type": "stream",
     "text": [
      "15\n"
     ]
    }
   ],
   "source": [
    "# Given the code below, use the correct function on line 3 in order to get the sum of all the keys in the dictionary.\n",
    "crypto = {1: \"Bitcoin\", 2: \"Ethereum\", 3: \"Litecoin\", 4: \"Stellar\", 5: \"XRP\"}\n",
    "add = sum(crypto)\n",
    " \n",
    "print(add)"
   ]
  },
  {
   "cell_type": "code",
   "execution_count": 19,
   "id": "9f8bf387",
   "metadata": {},
   "outputs": [
    {
     "name": "stdout",
     "output_type": "stream",
     "text": [
      "4\n"
     ]
    }
   ],
   "source": [
    "# Given the code below, use the correct method on line 3 in order to return and remove an arbitrary key-value pair from the dictionary.\n",
    "\n",
    "crypto = {1: \"Bitcoin\", 2: \"Ethereum\", 3: \"Litecoin\", 4: \"Stellar\", 5: \"XRP\"}\n",
    "crypto.popitem()\n",
    " \n",
    "print(len(crypto))"
   ]
  },
  {
   "cell_type": "code",
   "execution_count": 20,
   "id": "4ec85168",
   "metadata": {},
   "outputs": [
    {
     "name": "stdout",
     "output_type": "stream",
     "text": [
      "0xa\n"
     ]
    }
   ],
   "source": [
    "# Given the code below, use the correct function on line 3 in order to convert value to a hexadecimal representation.\n",
    "value = 10\n",
    "conv = hex(value)\n",
    "\n",
    "print(conv)"
   ]
  },
  {
   "cell_type": "code",
   "execution_count": 21,
   "id": "91e28026",
   "metadata": {},
   "outputs": [
    {
     "name": "stdout",
     "output_type": "stream",
     "text": [
      "10\n"
     ]
    }
   ],
   "source": [
    "# Given the code below, use the correct function on line 3 in order to convert value from binary to decimal notation.\n",
    "value = '0b1010'\n",
    "conv = int(value, 2)\n",
    "\n",
    "print(conv)"
   ]
  },
  {
   "cell_type": "code",
   "execution_count": 22,
   "id": "a9b1337c",
   "metadata": {},
   "outputs": [
    {
     "name": "stdout",
     "output_type": "stream",
     "text": [
      "10\n"
     ]
    }
   ],
   "source": [
    "# Given the code below, use the correct function on line 3 in order to convert value from hexadecimal to decimal notation.\n",
    "value = '0xa'\n",
    "conv = int(value, 16)\n",
    "\n",
    "print(conv)"
   ]
  },
  {
   "cell_type": "code",
   "execution_count": 26,
   "id": "ba35e627",
   "metadata": {},
   "outputs": [
    {
     "name": "stdout",
     "output_type": "stream",
     "text": [
      "True!\n"
     ]
    }
   ],
   "source": [
    "x = \"The days of Python 2 are almost over. Python 3 is the king now.\"\n",
    "\n",
    "if type(x) == str and x[0] == \"T\":\n",
    "    print(\"True!\")"
   ]
  },
  {
   "cell_type": "code",
   "execution_count": 27,
   "id": "2e884876",
   "metadata": {},
   "outputs": [
    {
     "name": "stdout",
     "output_type": "stream",
     "text": [
      "True!\n"
     ]
    }
   ],
   "source": [
    "x = \"The days of Python 2 are almost over. Python 3 is the king now.\"\n",
    " \n",
    "if type(x) is str and x.startswith(\"T\"):\n",
    "    print(\"True!\")"
   ]
  },
  {
   "cell_type": "code",
   "execution_count": 46,
   "id": "83186331",
   "metadata": {},
   "outputs": [
    {
     "name": "stdout",
     "output_type": "stream",
     "text": [
      "True!\n"
     ]
    }
   ],
   "source": [
    "x = \"The days of Python 2 are almost over. Python 3 is the king now.\"\n",
    "\n",
    "\n",
    "if \"z\" in x or x.count(\"y\") >= 2:\n",
    "    print(\"True!\")"
   ]
  },
  {
   "cell_type": "code",
   "execution_count": 47,
   "id": "406bf0da",
   "metadata": {},
   "outputs": [
    {
     "name": "stdout",
     "output_type": "stream",
     "text": [
      "False!\n"
     ]
    }
   ],
   "source": [
    "# Considering the code below, write code that prints out True! if the index of the first occurrence of letter f is less than 10 and prints out False! if the same condition is not satisfied.\n",
    "\n",
    "x = \"The days of Python 2 are almost over. Python 3 is the king now.\"\n",
    "\n",
    "if x.index(\"f\") > 10:\n",
    "    print(\"True!\")\n",
    "else:\n",
    "    print(\"False!\")"
   ]
  },
  {
   "cell_type": "code",
   "execution_count": 54,
   "id": "495e6e04",
   "metadata": {},
   "outputs": [
    {
     "name": "stdout",
     "output_type": "stream",
     "text": [
      "False!\n"
     ]
    }
   ],
   "source": [
    "# Considering the code below, write code that prints out True! if the last 3 characters of the string are all digits and prints out False! otherwise.\n",
    "\n",
    "x = \"The days of Python 2 are almost over. Python 3 is the king now.\"\n",
    "\n",
    "if x[-3:].isalnum():\n",
    "    print(\"True!\")\n",
    "else:\n",
    "    print(\"False!\")"
   ]
  },
  {
   "cell_type": "code",
   "execution_count": 58,
   "id": "31ce33e5",
   "metadata": {},
   "outputs": [
    {
     "name": "stdout",
     "output_type": "stream",
     "text": [
      "False!\n"
     ]
    }
   ],
   "source": [
    "x = [115, 115.9, 116.01, [\"length\", \"width\", \"height\"], 109, 115, 119.5, [\"length\", \"width\", \"height\"]]\n",
    "\n",
    "if len(x) >= 8 and x[6] == float():\n",
    "    print(\"True!\")\n",
    "else:\n",
    "    print(\"False!\")"
   ]
  },
  {
   "cell_type": "code",
   "execution_count": 57,
   "id": "4c737dce",
   "metadata": {},
   "outputs": [
    {
     "name": "stdout",
     "output_type": "stream",
     "text": [
      "True!\n"
     ]
    }
   ],
   "source": [
    "x = [115, 115.9, 116.01, [\"length\", \"width\", \"height\"], 109, 115, 119.5, [\"length\", \"width\", \"height\"]]\n",
    "\n",
    "if len(x) >= 8 and type(x[6]) is float:\n",
    "    print(\"True!\")\n",
    "else:\n",
    "    print(\"False!\")"
   ]
  },
  {
   "cell_type": "code",
   "execution_count": 59,
   "id": "ca9498ef",
   "metadata": {},
   "outputs": [
    {
     "name": "stdout",
     "output_type": "stream",
     "text": [
      "True!\n"
     ]
    }
   ],
   "source": [
    "# Considering the code below, write code that prints out True! if x has at least 8 elements and the element positioned at index 6 is a floating-point number and prints out False! otherwise.\n",
    "\n",
    "x = [115, 115.9, 116.01, [\"length\", \"width\", \"height\"], 109, 115, 119.5, [\"length\", \"width\", \"height\"]]\n",
    "\n",
    "if len(x) >= 8 and type(x[6]) is float:\n",
    "    print(\"True!\")\n",
    "else:\n",
    "    print(\"False!\")"
   ]
  },
  {
   "cell_type": "code",
   "execution_count": 60,
   "id": "552bdb49",
   "metadata": {},
   "outputs": [
    {
     "name": "stdout",
     "output_type": "stream",
     "text": [
      "True!\n"
     ]
    }
   ],
   "source": [
    "# Considering the code below, write code that prints out True! if the second string of the first list in x ends with the letter h and the first string of the second list in x also ends with the letter h, and prints out False! otherwise.\n",
    "\n",
    "x = [115, 115.9, 116.01, [\"length\", \"width\", \"height\"], 109, 115, 119.5, [\"length\", \"width\", \"height\"]]\n",
    "\n",
    "if x[3][1].endswith(\"h\")  and x[7][1].endswith(\"h\"):\n",
    "    \n",
    "    print(\"True!\")\n",
    "else:\n",
    "    print(\"False!\")"
   ]
  },
  {
   "cell_type": "code",
   "execution_count": 71,
   "id": "755f8367",
   "metadata": {},
   "outputs": [
    {
     "name": "stdout",
     "output_type": "stream",
     "text": [
      "False!\n",
      "2\n"
     ]
    }
   ],
   "source": [
    "x = [115, 115.9, 116.01, 109, 115, 119.5, [\"length\", \"width\", \"height\"]]\n",
    "\n",
    "''' largest first max 3\n",
    "<=\n",
    "smallest next min 3'''\n",
    "\n",
    "if max(x[:3]) <= min(x[3:6]):\n",
    "    print(\"True!\")\n",
    "else:\n",
    "    print(\"False!\")\n",
    "\n",
    "print(len(x[:2]))"
   ]
  },
  {
   "cell_type": "code",
   "execution_count": null,
   "id": "96877903",
   "metadata": {},
   "outputs": [
    {
     "name": "stdout",
     "output_type": "stream",
     "text": [
      "True!\n"
     ]
    }
   ],
   "source": [
    "x = [115, 115.9, 116.01, 109, 115, 119.5, [\"length\", \"width\", \"height\"]]\n",
    "\n",
    "if x.count(115) >= 1 or x[0] == 115:\n",
    "    print(\"True!\")\n",
    "else:\n",
    "    print(\"False!\")"
   ]
  },
  {
   "cell_type": "code",
   "execution_count": 83,
   "id": "14856686",
   "metadata": {},
   "outputs": [
    {
     "name": "stdout",
     "output_type": "stream",
     "text": [
      "True!\n"
     ]
    }
   ],
   "source": [
    "# if the value associated with key number 5 is Perl or the number of key-value pairs in the dictionary divided by 5 returns a remainder less than 2. Otherwise, print out False!\n",
    "x = {1: \"Python\", 2: \"Java\", 3: \"Javascript\", 4: \"Ruby\", 5: \"Perl\", 6: \"C#\", 7: \"C++\"}\n",
    "\n",
    "if x[5] == \"Perl\" or len(x)/5 > 2:\n",
    "    print(\"True!\")\n",
    "else:\n",
    "    print(\"False!\")\n",
    "\n"
   ]
  },
  {
   "cell_type": "code",
   "execution_count": 86,
   "id": "8cc8b562",
   "metadata": {},
   "outputs": [
    {
     "name": "stdout",
     "output_type": "stream",
     "text": [
      "True!\n"
     ]
    }
   ],
   "source": [
    "# True! if 3 is a key in the dictionary and the smallest value (alphabetically) in the dictionary is C#. Otherwise, print out False!\n",
    "\n",
    "x = {1: \"Python\", 2: \"Java\", 3: \"Javascript\", 4: \"Ruby\", 5: \"Perl\", 6: \"C#\", 7: \"C++\"}\n",
    "\n",
    "if 3 in x and sorted(x.values())[0] == \"C#\":\n",
    "    print(\"True!\")\n",
    "else:\n",
    "    print(\"False!\")\n"
   ]
  },
  {
   "cell_type": "code",
   "execution_count": 92,
   "id": "bd0c6631",
   "metadata": {},
   "outputs": [
    {
     "name": "stdout",
     "output_type": "stream",
     "text": [
      "False!\n"
     ]
    }
   ],
   "source": [
    "# write code that prints out True! if the last character of the largest (alphabetically) value in the dictionary is n. Otherwise, print out False!\n",
    "\n",
    "x = {1: \"Python\", 2: \"Java\", 3: \"Javascript\", 4: \"Ruby\", 5: \"Perl\", 6: \"C#\", 7: \"C++\"}\n",
    "\n",
    "if max(sorted(x.values()))[-1] == \"n\" :\n",
    "    print(\"True!\")\n",
    "else:\n",
    "    print(\"False!\")\n"
   ]
  },
  {
   "cell_type": "code",
   "execution_count": 102,
   "id": "8f856562",
   "metadata": {},
   "outputs": [
    {
     "name": "stdout",
     "output_type": "stream",
     "text": [
      "6\n"
     ]
    }
   ],
   "source": [
    "x = {1: \"Python\", 2: \"Java\", 3: \"Javascript\", 4: \"Ruby\", 5: \"Perl\", 6: \"C#\", 7: \"C++\"}\n",
    "\n",
    "print((sorted(x.keys()))[-2])"
   ]
  },
  {
   "cell_type": "code",
   "execution_count": 103,
   "id": "98880836",
   "metadata": {},
   "outputs": [
    {
     "name": "stdout",
     "output_type": "stream",
     "text": [
      "True!\n"
     ]
    }
   ],
   "source": [
    "# If the largest key in the dictionary divided by the second largest key in the dictionary returns a remainder equal to the smallest key in the dictionary. Otherwise, print out False!\n",
    "\n",
    "x = {1: \"Python\", 2: \"Java\", 3: \"Javascript\", 4: \"Ruby\", 5: \"Perl\", 6: \"C#\", 7: \"C++\"}\n",
    "\n",
    "if max(sorted(x.keys())) % sorted(x.keys())[-2] == min(sorted(x.keys())):\n",
    "    print(\"True!\")\n",
    "else:\n",
    "    print(\"False!\")\n"
   ]
  },
  {
   "cell_type": "code",
   "execution_count": 116,
   "id": "93091a17",
   "metadata": {},
   "outputs": [
    {
     "name": "stdout",
     "output_type": "stream",
     "text": [
      "False!\n"
     ]
    }
   ],
   "source": [
    "'''Considering the code below, write code that prints out True! if the sum of all the keys in the dictionary is less than the number of \n",
    "characters of the string obtained by concatenating the values associated with the first 5 keys in the dictionary. Otherwise, print out False!'''\n",
    "\n",
    "x = {1: \"Python\", 2: \"Java\", 3: \"Javascript\", 4: \"Ruby\", 5: \"Perl\", 6: \"C#\", 7: \"C++\"}\n",
    "\n",
    "if sum(x.keys()) < len(\"\".join(sorted(x.values())[:5])):\n",
    "    print(\"True!\")\n",
    "else:\n",
    "    print(\"False!\")"
   ]
  },
  {
   "cell_type": "code",
   "execution_count": 126,
   "id": "5b326e60",
   "metadata": {},
   "outputs": [
    {
     "name": "stdout",
     "output_type": "stream",
     "text": [
      "None!\n"
     ]
    }
   ],
   "source": [
    "\"\"\"Considering the code below, write code that prints out True! if the 3rd element of the first range is less than 2, prints out False! if the \n",
    "5th element of the first range is 5, \n",
    "and prints out None! otherwise.\"\"\"\n",
    "\n",
    "x = [list(range(5)), list(range(5,9)), list(range(1,10,3))]\n",
    "\n",
    "if x[0][3] < 2:\n",
    "    print(\"True!\")\n",
    "\n",
    "elif x[0][4] == 5:\n",
    "    print(\"False!\")\n",
    "else:\n",
    "    print(\"None!\")\n",
    "\n"
   ]
  },
  {
   "cell_type": "code",
   "execution_count": 123,
   "id": "020104a7",
   "metadata": {},
   "outputs": [
    {
     "name": "stdout",
     "output_type": "stream",
     "text": [
      "range(0, 5)\n"
     ]
    }
   ],
   "source": [
    "print(range(5))"
   ]
  },
  {
   "cell_type": "code",
   "execution_count": null,
   "id": "1314f575",
   "metadata": {},
   "outputs": [],
   "source": []
  }
 ],
 "metadata": {
  "kernelspec": {
   "display_name": "venv",
   "language": "python",
   "name": "python3"
  },
  "language_info": {
   "codemirror_mode": {
    "name": "ipython",
    "version": 3
   },
   "file_extension": ".py",
   "mimetype": "text/x-python",
   "name": "python",
   "nbconvert_exporter": "python",
   "pygments_lexer": "ipython3",
   "version": "3.13.5"
  }
 },
 "nbformat": 4,
 "nbformat_minor": 5
}
