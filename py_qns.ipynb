{
 "cells": [
  {
   "cell_type": "code",
   "execution_count": null,
   "id": "e8f17296",
   "metadata": {},
   "outputs": [
    {
     "name": "stdout",
     "output_type": "stream",
     "text": [
      "26\n"
     ]
    }
   ],
   "source": [
    "# Given the code below, insert the correct method on line 3 in order to get the index at which the substring Bitcoin starts.\n",
    "\n",
    "my_string = \"In 2010, someone paid 10k Bitcoin for two pizzas.\"\n",
    "print(my_string.find(\"Bitcoin\"))"
   ]
  },
  {
   "cell_type": "code",
   "execution_count": 2,
   "id": "b007d410",
   "metadata": {},
   "outputs": [
    {
     "name": "stdout",
     "output_type": "stream",
     "text": [
      "False\n"
     ]
    }
   ],
   "source": [
    "# Given the code below, insert the correct method on line 3 in order to check of the string starts with the letter X.\n",
    "\n",
    "my_string = \"In 2010, someone paid 10k Bitcoin for two pizzas.\"\n",
    "print(my_string.startswith(\"X\"))"
   ]
  },
  {
   "cell_type": "code",
   "execution_count": 3,
   "id": "664bd70a",
   "metadata": {},
   "outputs": [
    {
     "name": "stdout",
     "output_type": "stream",
     "text": [
      "iN 2010, SOMEONE PAID 10K bITCOIN FOR TWO PIZZAS.\n"
     ]
    }
   ],
   "source": [
    "# Given the code below, insert the correct method on line 3 in order to convert all uppercase letters to lowercase and all lowercase letters to uppercase.\n",
    "\n",
    "my_string = \"In 2010, someone paid 10k Bitcoin for two pizzas.\"\n",
    "print(my_string.swapcase())"
   ]
  },
  {
   "cell_type": "code",
   "execution_count": 4,
   "id": "65826b60",
   "metadata": {},
   "outputs": [
    {
     "name": "stdout",
     "output_type": "stream",
     "text": [
      "In2010,someonepaid10kBitcoinfortwopizzas.\n"
     ]
    }
   ],
   "source": [
    "# Given the code below, insert the correct method on line 3 in order to remove all spaces (single Space characters from the keyboard) from the string.\n",
    "\n",
    "my_string = \"In 2010, someone paid 10k Bitcoin for two pizzas.\"\n",
    "print(my_string.replace(\" \", \"\"))"
   ]
  },
  {
   "cell_type": "code",
   "execution_count": 5,
   "id": "a3eb250d",
   "metadata": {},
   "outputs": [
    {
     "name": "stdout",
     "output_type": "stream",
     "text": [
      "['In 2010', ' someone paid 10k Bitcoin for two pizzas.']\n"
     ]
    }
   ],
   "source": [
    "# Given the code below, insert the correct method on line 3 in order to split the entire string in two parts, using the comma as a delimiter.\n",
    "\n",
    "my_string = \"In 2010, someone paid 10k Bitcoin for two pizzas.\"\n",
    "print(my_string.split(\",\"))"
   ]
  },
  {
   "cell_type": "code",
   "execution_count": 6,
   "id": "a7dc26a2",
   "metadata": {},
   "outputs": [
    {
     "name": "stdout",
     "output_type": "stream",
     "text": [
      "I&n& &2&0&1&0&,& &s&o&m&e&o&n&e& &p&a&i&d& &1&0&k& &B&i&t&c&o&i&n& &f&o&r& &t&w&o& &p&i&z&z&a&s&.\n"
     ]
    }
   ],
   "source": [
    "# Given the code below, insert the correct method on line 3 in order to join the characters of the string using the & symbol as a delimiter.\n",
    "\n",
    "my_string = \"In 2010, someone paid 10k Bitcoin for two pizzas.\"\n",
    "print(\"&\".join(my_string))"
   ]
  },
  {
   "cell_type": "code",
   "execution_count": 7,
   "id": "708c4250",
   "metadata": {},
   "outputs": [
    {
     "name": "stdout",
     "output_type": "stream",
     "text": [
      "In 2010, Someone Paid 10K Bitcoin For Two Pizzas.\n"
     ]
    }
   ],
   "source": [
    "# Given the code below, insert the correct method on line 3 in order to convert the first letter of each word in the string to uppercase.\n",
    "\n",
    "my_string = \"In 2010, someone paid 10k Bitcoin for two pizzas.\"\n",
    "print(my_string.title())"
   ]
  },
  {
   "cell_type": "code",
   "execution_count": 8,
   "id": "c65f4884",
   "metadata": {},
   "outputs": [
    {
     "name": "stdout",
     "output_type": "stream",
     "text": [
      "In 2010, someone paid 10k Bitcoin for two pizzas.\n"
     ]
    }
   ],
   "source": [
    "# Given the code below, use string formatting with the % operator on line 3 to map the values of 2010, 10k and Bitcoin to the corresponding formatting operators.\n",
    "\n",
    "my_string = \"In %s, someone paid %s %s for two pizzas.\"\n",
    "print(my_string % (\"2010\",\"10k\",\"Bitcoin\"))"
   ]
  },
  {
   "cell_type": "code",
   "execution_count": 9,
   "id": "6a98ff26",
   "metadata": {},
   "outputs": [
    {
     "name": "stdout",
     "output_type": "stream",
     "text": [
      "True\n"
     ]
    }
   ],
   "source": [
    "# Given the code below, use the correct function on line 3 in order to obtain the distance between num1 and 0.\n",
    "\n",
    "num1 = -11\n",
    "num2 = abs(num1)\n",
    "print(num2 == 11) #should result in True"
   ]
  },
  {
   "cell_type": "code",
   "execution_count": 3,
   "id": "812f6144",
   "metadata": {},
   "outputs": [
    {
     "name": "stdout",
     "output_type": "stream",
     "text": [
      "False\n"
     ]
    }
   ],
   "source": [
    "result = bool(150 % (10 ** 2 / 2))\n",
    "print(result) "
   ]
  },
  {
   "cell_type": "code",
   "execution_count": 13,
   "id": "9f08a96b",
   "metadata": {},
   "outputs": [
    {
     "name": "stdout",
     "output_type": "stream",
     "text": [
      "[10, 10.5, 20, 30, 'Python', 'Ruby']\n"
     ]
    }
   ],
   "source": [
    "# Given the code below, use the correct code on line 3 in order to remove the element of my_list located at index 5.\n",
    "\n",
    "my_list = [10, 10.5, 20, 30, 'Python', 'Java', 'Ruby']\n",
    "my_list.pop(5)\n",
    "print(my_list)"
   ]
  },
  {
   "cell_type": "markdown",
   "id": "1b2e0e72",
   "metadata": {},
   "source": [
    "# Difference between pop and remove function in python.\n",
    "Both .pop() and .remove() are list methods in Python used to delete elements, but they work in different ways. Let’s break it down clearly.\n",
    "\n",
    "| Feature                    | `.pop()`                                                    | `.remove()`                                       |\n",
    "| -------------------------- | ----------------------------------------------------------- | ------------------------------------------------- |\n",
    "| **Purpose**                | Removes an element **at a given index** (position).         | Removes the **first matching value** in the list. |\n",
    "| **Argument**               | Takes an **index** (default is `-1`, meaning last element). | Takes a **value** (not an index).                 |\n",
    "| **Return Value**           | Returns the element that was removed.                       | Returns `None`.                                   |\n",
    "| **Error if not found**     | Raises `IndexError` if index is out of range.               | Raises `ValueError` if value is not in the list.  |\n",
    "| **Changes List In-Place?** | ✅ Yes                                                       | ✅ Yes                                             |\n"
   ]
  },
  {
   "cell_type": "code",
   "execution_count": 4,
   "id": "42e8cb3f",
   "metadata": {},
   "outputs": [
    {
     "name": "stdout",
     "output_type": "stream",
     "text": [
      "[10, 10.5, 20, 30, 77, 'Python', 'Java', 'Ruby']\n"
     ]
    }
   ],
   "source": [
    "# Given the code below, use the correct method on line 3 in order to insert the element 77 at index 4 in my_list.\n",
    "\n",
    "my_list = [10, 10.5, 20, 30, 'Python', 'Java', 'Ruby']\n",
    "my_list.insert(4, 77)\n",
    "\n",
    "print(my_list)"
   ]
  },
  {
   "cell_type": "code",
   "execution_count": 5,
   "id": "78decaf7",
   "metadata": {},
   "outputs": [
    {
     "name": "stdout",
     "output_type": "stream",
     "text": [
      "[10, 10.5, 20, 30, 'Python', 'Java', 'Ruby', 100, 101, 102]\n"
     ]
    }
   ],
   "source": [
    "# Given the code below, use the correct method on line 3 in order to concatenate my_list with [100, 101, 102], by adding the latter at the end of my_list.\n",
    "my_list = [10, 10.5, 20, 30, 'Python', 'Java', 'Ruby']\n",
    "my_list.extend([100, 101, 102])\n",
    "\n",
    "print(my_list)"
   ]
  },
  {
   "cell_type": "code",
   "execution_count": 6,
   "id": "88b621ab",
   "metadata": {},
   "outputs": [
    {
     "name": "stdout",
     "output_type": "stream",
     "text": [
      "[10, 10.5, 11.01, 19.25, 20, 25.6, 29.99, 30]\n"
     ]
    }
   ],
   "source": [
    "# Given the code below, use the correct function on line 3 in order to sort the elements of my_list in ascending order.\n",
    "my_list = [10, 10.5, 20, 30, 25.6, 19.25, 11.01, 29.99]\n",
    "asc = sorted(my_list)\n",
    " \n",
    "print(asc)"
   ]
  },
  {
   "cell_type": "code",
   "execution_count": 7,
   "id": "13b41975",
   "metadata": {},
   "outputs": [
    {
     "name": "stdout",
     "output_type": "stream",
     "text": [
      "[30, 29.99, 25.6, 20, 19.25, 11.01, 10.5, 10]\n"
     ]
    }
   ],
   "source": [
    "# Given the code below, use the correct function (and argument) on line 3 in order to sort the elements of my_list in descending order.\n",
    "my_list = [10, 10.5, 20, 30, 25.6, 19.25, 11.01, 29.99]\n",
    "asc = sorted(my_list, reverse = True)\n",
    "\n",
    "print(asc)"
   ]
  },
  {
   "cell_type": "code",
   "execution_count": 8,
   "id": "ca631cce",
   "metadata": {},
   "outputs": [
    {
     "name": "stdout",
     "output_type": "stream",
     "text": [
      "10\n"
     ]
    }
   ],
   "source": [
    "# Given the code below, use the correct function on line 3 in order to find out the smallest number in my_list.\n",
    "my_list = [10, 10.5, 20, 30, 25.6, 19.25, 11.01, 29.99]\n",
    "small = min(my_list)\n",
    "\n",
    "print(small)"
   ]
  },
  {
   "cell_type": "code",
   "execution_count": 9,
   "id": "c79f3eb1",
   "metadata": {},
   "outputs": [
    {
     "name": "stdout",
     "output_type": "stream",
     "text": [
      "[]\n"
     ]
    }
   ],
   "source": [
    "# Given the code below, use the correct method on line 3 in order to delete all the elements from my_list and obtain an empty list.\n",
    "\n",
    "my_list = [10, 10.5, 20, 30, 25.6, 19.25, 11.01, 29.99]\n",
    "my_list.clear()\n",
    "\n",
    "print(my_list)"
   ]
  },
  {
   "cell_type": "code",
   "execution_count": 11,
   "id": "3126beab",
   "metadata": {},
   "outputs": [
    {
     "name": "stdout",
     "output_type": "stream",
     "text": [
      "[10, 10.5, 20, 30, 25.6, 19.25, 11.01, 29.99, 30.01, 30.02, 30.03, 10, 10.5, 20, 30, 25.6, 19.25, 11.01, 29.99, 30.01, 30.02, 30.03]\n"
     ]
    }
   ],
   "source": [
    "# Given the code below, use the correct operators and parentheses on line 3 in order to add the elements of [30.01, 30.02, 30.03] to my_list and multiply the resulting list by 2.\n",
    "\n",
    "my_list = [10, 10.5, 20, 30, 25.6, 19.25, 11.01, 29.99]\n",
    "add = (my_list + [30.01, 30.02, 30.03]) * 2\n",
    "\n",
    "print(add)"
   ]
  },
  {
   "cell_type": "code",
   "execution_count": 12,
   "id": "c272063b",
   "metadata": {},
   "outputs": [
    {
     "name": "stdout",
     "output_type": "stream",
     "text": [
      "['Ruby', 20]\n"
     ]
    }
   ],
   "source": [
    "# Given the code below, use the correct code on line 3 in order to return every fourth element of my_list starting with the last element of the list.\n",
    "my_list = [10, 10.5, 20, 30, 'Python', 'Java', 'Ruby']\n",
    "my_slice = my_list[::-4]\n",
    "\n",
    "print(my_slice) #['Ruby', 20]"
   ]
  },
  {
   "cell_type": "code",
   "execution_count": 1,
   "id": "692ccbe8",
   "metadata": {},
   "outputs": [
    {
     "name": "stdout",
     "output_type": "stream",
     "text": [
      "Romania, Poland, Estonia\n"
     ]
    }
   ],
   "source": [
    "# Given the code below, write code in order to perform tuple assignment on line 3 and obtain the results below.\n",
    "\n",
    "my_tup = (\"Romania\", \"Poland\", \"Estonia\")\n",
    "(ro, po, es) = my_tup\n",
    "\n",
    "print(ro + \", \" + po + \", \" + es) #returns 'Romania, Poland, Estonia'"
   ]
  },
  {
   "cell_type": "code",
   "execution_count": 4,
   "id": "99ba6096",
   "metadata": {},
   "outputs": [
    {
     "name": "stdout",
     "output_type": "stream",
     "text": [
      "Slovenia\n"
     ]
    }
   ],
   "source": [
    "# Given the code below, use the correct method on line 3 in order to find out the last element of my_tup in alphabetical order.\n",
    "\n",
    "my_tup = (\"Romania\", \"Poland\", \"Estonia\", \"Bulgaria\", \"Slovakia\", \"Slovenia\", \"Hungary\")\n",
    "last = max(my_tup)\n",
    "\n",
    "print(last) #should return Slovenia"
   ]
  },
  {
   "cell_type": "code",
   "execution_count": 6,
   "id": "20b588a9",
   "metadata": {},
   "outputs": [
    {
     "name": "stdout",
     "output_type": "stream",
     "text": [
      "('Estonia', 'Bulgaria', 'Slovakia', 'Slovenia', 'Hungary')\n"
     ]
    }
   ],
   "source": [
    "# Given the code below, use the correct slice on line 3 in order to return all the elements of my_tup, except the first two of them, using a negative index.\n",
    "my_tup = (\"Romania\", \"Poland\", \"Estonia\", \"Bulgaria\", \"Slovakia\", \"Slovenia\", \"Hungary\")\n",
    "my_slice = my_tup[-5:]\n",
    "\n",
    "print(my_slice)"
   ]
  },
  {
   "cell_type": "code",
   "execution_count": 10,
   "id": "e7de3937",
   "metadata": {},
   "outputs": [
    {
     "name": "stdout",
     "output_type": "stream",
     "text": [
      "Stellar\n"
     ]
    }
   ],
   "source": [
    "# Given the code below, use the correct code on line 3 in order to return the value associated with key 4. This time, use a method as a solution for this exercise!\n",
    "\n",
    "crypto = {1: \"Bitcoin\", 2: \"Ethereum\", 3: \"Litecoin\", 4: \"Stellar\", 5: \"XRP\"}\n",
    "value = crypto.get(4)\n",
    "\n",
    "print(value)"
   ]
  },
  {
   "cell_type": "code",
   "execution_count": 9,
   "id": "6a18ded8",
   "metadata": {},
   "outputs": [
    {
     "name": "stdout",
     "output_type": "stream",
     "text": [
      "Cardano\n"
     ]
    }
   ],
   "source": [
    "# Given the code below, use the correct code on line 3 in order to update the value associated with key 4 to \"Cardano\".\n",
    "\n",
    "crypto = {1: \"Bitcoin\", 2: \"Ethereum\", 3: \"Litecoin\", 4: \"Stellar\", 5: \"XRP\"}\n",
    "crypto.update({4: \"Cardano\"})\n",
    "\n",
    "print(crypto[4])"
   ]
  },
  {
   "cell_type": "code",
   "execution_count": 11,
   "id": "65f0d32f",
   "metadata": {},
   "outputs": [
    {
     "name": "stdout",
     "output_type": "stream",
     "text": [
      "Monero\n"
     ]
    }
   ],
   "source": [
    "# Given the code below, use the correct code on line 3 in order to add a new key-value pair to the dictionary: 6: \"Monero\"\n",
    "\n",
    "crypto = {1: \"Bitcoin\", 2: \"Ethereum\", 3: \"Litecoin\", 4: \"Stellar\", 5: \"XRP\"}\n",
    "crypto[6] = \"Monero\" \n",
    " \n",
    "print(crypto[6])"
   ]
  },
  {
   "cell_type": "code",
   "execution_count": 12,
   "id": "25a02429",
   "metadata": {},
   "outputs": [
    {
     "name": "stdout",
     "output_type": "stream",
     "text": [
      "5\n"
     ]
    }
   ],
   "source": [
    "# Given the code below, use the correct code on line 3 in order to return the number of key-value pairs in the dictionary.\n",
    "\n",
    "crypto = {1: \"Bitcoin\", 2: \"Ethereum\", 3: \"Litecoin\", 4: \"Stellar\", 5: \"XRP\"}\n",
    "number = len(crypto)\n",
    "\n",
    "print(number)"
   ]
  },
  {
   "cell_type": "code",
   "execution_count": 13,
   "id": "362f633b",
   "metadata": {},
   "outputs": [
    {
     "name": "stdout",
     "output_type": "stream",
     "text": [
      "{1: 'Bitcoin', 2: 'Ethereum', 4: 'Stellar', 5: 'XRP'}\n"
     ]
    }
   ],
   "source": [
    "# Given the code below, use the correct code on line 3 in order to delete the key-value pair associated with key 3. Do not use a method as a solution for this exercise!\n",
    "crypto = {1: \"Bitcoin\", 2: \"Ethereum\", 3: \"Litecoin\", 4: \"Stellar\", 5: \"XRP\"}\n",
    " \n",
    "del crypto[3]\n",
    " \n",
    "print(crypto)"
   ]
  },
  {
   "cell_type": "code",
   "execution_count": 16,
   "id": "ecf48ce5",
   "metadata": {},
   "outputs": [
    {
     "name": "stdout",
     "output_type": "stream",
     "text": [
      "True\n"
     ]
    }
   ],
   "source": [
    "# Given the code below, use the correct code on line 3 in order to verify that 7 is not a key in the dictionary.Given the code below, use the correct code on line 3 in order to verify that 7 is not a key in the dictionary.\n",
    "\n",
    "crypto = {1: \"Bitcoin\", 2: \"Ethereum\", 3: \"Litecoin\", 4: \"Stellar\", 5: \"XRP\"}\n",
    "check = 7 not in crypto\n",
    " \n",
    "print(check)"
   ]
  },
  {
   "cell_type": "code",
   "execution_count": 18,
   "id": "2cb81514",
   "metadata": {},
   "outputs": [
    {
     "name": "stdout",
     "output_type": "stream",
     "text": [
      "15\n"
     ]
    }
   ],
   "source": [
    "# Given the code below, use the correct function on line 3 in order to get the sum of all the keys in the dictionary.\n",
    "crypto = {1: \"Bitcoin\", 2: \"Ethereum\", 3: \"Litecoin\", 4: \"Stellar\", 5: \"XRP\"}\n",
    "add = sum(crypto)\n",
    " \n",
    "print(add)"
   ]
  },
  {
   "cell_type": "code",
   "execution_count": 19,
   "id": "9f8bf387",
   "metadata": {},
   "outputs": [
    {
     "name": "stdout",
     "output_type": "stream",
     "text": [
      "4\n"
     ]
    }
   ],
   "source": [
    "# Given the code below, use the correct method on line 3 in order to return and remove an arbitrary key-value pair from the dictionary.\n",
    "\n",
    "crypto = {1: \"Bitcoin\", 2: \"Ethereum\", 3: \"Litecoin\", 4: \"Stellar\", 5: \"XRP\"}\n",
    "crypto.popitem()\n",
    " \n",
    "print(len(crypto))"
   ]
  },
  {
   "cell_type": "code",
   "execution_count": 20,
   "id": "4ec85168",
   "metadata": {},
   "outputs": [
    {
     "name": "stdout",
     "output_type": "stream",
     "text": [
      "0xa\n"
     ]
    }
   ],
   "source": [
    "# Given the code below, use the correct function on line 3 in order to convert value to a hexadecimal representation.\n",
    "value = 10\n",
    "conv = hex(value)\n",
    "\n",
    "print(conv)"
   ]
  },
  {
   "cell_type": "code",
   "execution_count": 21,
   "id": "91e28026",
   "metadata": {},
   "outputs": [
    {
     "name": "stdout",
     "output_type": "stream",
     "text": [
      "10\n"
     ]
    }
   ],
   "source": [
    "# Given the code below, use the correct function on line 3 in order to convert value from binary to decimal notation.\n",
    "value = '0b1010'\n",
    "conv = int(value, 2)\n",
    "\n",
    "print(conv)"
   ]
  },
  {
   "cell_type": "code",
   "execution_count": 22,
   "id": "a9b1337c",
   "metadata": {},
   "outputs": [
    {
     "name": "stdout",
     "output_type": "stream",
     "text": [
      "10\n"
     ]
    }
   ],
   "source": [
    "# Given the code below, use the correct function on line 3 in order to convert value from hexadecimal to decimal notation.\n",
    "value = '0xa'\n",
    "conv = int(value, 16)\n",
    "\n",
    "print(conv)"
   ]
  },
  {
   "cell_type": "code",
   "execution_count": 26,
   "id": "ba35e627",
   "metadata": {},
   "outputs": [
    {
     "name": "stdout",
     "output_type": "stream",
     "text": [
      "True!\n"
     ]
    }
   ],
   "source": [
    "x = \"The days of Python 2 are almost over. Python 3 is the king now.\"\n",
    "\n",
    "if type(x) == str and x[0] == \"T\":\n",
    "    print(\"True!\")"
   ]
  },
  {
   "cell_type": "code",
   "execution_count": 27,
   "id": "2e884876",
   "metadata": {},
   "outputs": [
    {
     "name": "stdout",
     "output_type": "stream",
     "text": [
      "True!\n"
     ]
    }
   ],
   "source": [
    "x = \"The days of Python 2 are almost over. Python 3 is the king now.\"\n",
    " \n",
    "if type(x) is str and x.startswith(\"T\"):\n",
    "    print(\"True!\")"
   ]
  },
  {
   "cell_type": "code",
   "execution_count": 46,
   "id": "83186331",
   "metadata": {},
   "outputs": [
    {
     "name": "stdout",
     "output_type": "stream",
     "text": [
      "True!\n"
     ]
    }
   ],
   "source": [
    "x = \"The days of Python 2 are almost over. Python 3 is the king now.\"\n",
    "\n",
    "\n",
    "if \"z\" in x or x.count(\"y\") >= 2:\n",
    "    print(\"True!\")"
   ]
  },
  {
   "cell_type": "code",
   "execution_count": 47,
   "id": "406bf0da",
   "metadata": {},
   "outputs": [
    {
     "name": "stdout",
     "output_type": "stream",
     "text": [
      "False!\n"
     ]
    }
   ],
   "source": [
    "# Considering the code below, write code that prints out True! if the index of the first occurrence of letter f is less than 10 and prints out False! if the same condition is not satisfied.\n",
    "\n",
    "x = \"The days of Python 2 are almost over. Python 3 is the king now.\"\n",
    "\n",
    "if x.index(\"f\") > 10:\n",
    "    print(\"True!\")\n",
    "else:\n",
    "    print(\"False!\")"
   ]
  },
  {
   "cell_type": "code",
   "execution_count": 54,
   "id": "495e6e04",
   "metadata": {},
   "outputs": [
    {
     "name": "stdout",
     "output_type": "stream",
     "text": [
      "False!\n"
     ]
    }
   ],
   "source": [
    "# Considering the code below, write code that prints out True! if the last 3 characters of the string are all digits and prints out False! otherwise.\n",
    "\n",
    "x = \"The days of Python 2 are almost over. Python 3 is the king now.\"\n",
    "\n",
    "if x[-3:].isalnum():\n",
    "    print(\"True!\")\n",
    "else:\n",
    "    print(\"False!\")"
   ]
  },
  {
   "cell_type": "code",
   "execution_count": 58,
   "id": "31ce33e5",
   "metadata": {},
   "outputs": [
    {
     "name": "stdout",
     "output_type": "stream",
     "text": [
      "False!\n"
     ]
    }
   ],
   "source": [
    "x = [115, 115.9, 116.01, [\"length\", \"width\", \"height\"], 109, 115, 119.5, [\"length\", \"width\", \"height\"]]\n",
    "\n",
    "if len(x) >= 8 and x[6] == float():\n",
    "    print(\"True!\")\n",
    "else:\n",
    "    print(\"False!\")"
   ]
  },
  {
   "cell_type": "code",
   "execution_count": 57,
   "id": "4c737dce",
   "metadata": {},
   "outputs": [
    {
     "name": "stdout",
     "output_type": "stream",
     "text": [
      "True!\n"
     ]
    }
   ],
   "source": [
    "x = [115, 115.9, 116.01, [\"length\", \"width\", \"height\"], 109, 115, 119.5, [\"length\", \"width\", \"height\"]]\n",
    "\n",
    "if len(x) >= 8 and type(x[6]) is float:\n",
    "    print(\"True!\")\n",
    "else:\n",
    "    print(\"False!\")"
   ]
  },
  {
   "cell_type": "code",
   "execution_count": 59,
   "id": "ca9498ef",
   "metadata": {},
   "outputs": [
    {
     "name": "stdout",
     "output_type": "stream",
     "text": [
      "True!\n"
     ]
    }
   ],
   "source": [
    "# Considering the code below, write code that prints out True! if x has at least 8 elements and the element positioned at index 6 is a floating-point number and prints out False! otherwise.\n",
    "\n",
    "x = [115, 115.9, 116.01, [\"length\", \"width\", \"height\"], 109, 115, 119.5, [\"length\", \"width\", \"height\"]]\n",
    "\n",
    "if len(x) >= 8 and type(x[6]) is float:\n",
    "    print(\"True!\")\n",
    "else:\n",
    "    print(\"False!\")"
   ]
  },
  {
   "cell_type": "code",
   "execution_count": 60,
   "id": "552bdb49",
   "metadata": {},
   "outputs": [
    {
     "name": "stdout",
     "output_type": "stream",
     "text": [
      "True!\n"
     ]
    }
   ],
   "source": [
    "# Considering the code below, write code that prints out True! if the second string of the first list in x ends with the letter h and the first string of the second list in x also ends with the letter h, and prints out False! otherwise.\n",
    "\n",
    "x = [115, 115.9, 116.01, [\"length\", \"width\", \"height\"], 109, 115, 119.5, [\"length\", \"width\", \"height\"]]\n",
    "\n",
    "if x[3][1].endswith(\"h\")  and x[7][1].endswith(\"h\"):\n",
    "    \n",
    "    print(\"True!\")\n",
    "else:\n",
    "    print(\"False!\")"
   ]
  },
  {
   "cell_type": "code",
   "execution_count": 71,
   "id": "755f8367",
   "metadata": {},
   "outputs": [
    {
     "name": "stdout",
     "output_type": "stream",
     "text": [
      "False!\n",
      "2\n"
     ]
    }
   ],
   "source": [
    "x = [115, 115.9, 116.01, 109, 115, 119.5, [\"length\", \"width\", \"height\"]]\n",
    "\n",
    "''' largest first max 3\n",
    "<=\n",
    "smallest next min 3'''\n",
    "\n",
    "if max(x[:3]) <= min(x[3:6]):\n",
    "    print(\"True!\")\n",
    "else:\n",
    "    print(\"False!\")\n",
    "\n",
    "print(len(x[:2]))"
   ]
  },
  {
   "cell_type": "code",
   "execution_count": null,
   "id": "96877903",
   "metadata": {},
   "outputs": [
    {
     "name": "stdout",
     "output_type": "stream",
     "text": [
      "True!\n"
     ]
    }
   ],
   "source": [
    "x = [115, 115.9, 116.01, 109, 115, 119.5, [\"length\", \"width\", \"height\"]]\n",
    "\n",
    "if x.count(115) >= 1 or x[0] == 115:\n",
    "    print(\"True!\")\n",
    "else:\n",
    "    print(\"False!\")"
   ]
  },
  {
   "cell_type": "code",
   "execution_count": 83,
   "id": "14856686",
   "metadata": {},
   "outputs": [
    {
     "name": "stdout",
     "output_type": "stream",
     "text": [
      "True!\n"
     ]
    }
   ],
   "source": [
    "# if the value associated with key number 5 is Perl or the number of key-value pairs in the dictionary divided by 5 returns a remainder less than 2. Otherwise, print out False!\n",
    "x = {1: \"Python\", 2: \"Java\", 3: \"Javascript\", 4: \"Ruby\", 5: \"Perl\", 6: \"C#\", 7: \"C++\"}\n",
    "\n",
    "if x[5] == \"Perl\" or len(x)/5 > 2:\n",
    "    print(\"True!\")\n",
    "else:\n",
    "    print(\"False!\")\n",
    "\n"
   ]
  },
  {
   "cell_type": "code",
   "execution_count": 86,
   "id": "8cc8b562",
   "metadata": {},
   "outputs": [
    {
     "name": "stdout",
     "output_type": "stream",
     "text": [
      "True!\n"
     ]
    }
   ],
   "source": [
    "# True! if 3 is a key in the dictionary and the smallest value (alphabetically) in the dictionary is C#. Otherwise, print out False!\n",
    "\n",
    "x = {1: \"Python\", 2: \"Java\", 3: \"Javascript\", 4: \"Ruby\", 5: \"Perl\", 6: \"C#\", 7: \"C++\"}\n",
    "\n",
    "if 3 in x and sorted(x.values())[0] == \"C#\":\n",
    "    print(\"True!\")\n",
    "else:\n",
    "    print(\"False!\")\n"
   ]
  },
  {
   "cell_type": "code",
   "execution_count": 92,
   "id": "bd0c6631",
   "metadata": {},
   "outputs": [
    {
     "name": "stdout",
     "output_type": "stream",
     "text": [
      "False!\n"
     ]
    }
   ],
   "source": [
    "# write code that prints out True! if the last character of the largest (alphabetically) value in the dictionary is n. Otherwise, print out False!\n",
    "\n",
    "x = {1: \"Python\", 2: \"Java\", 3: \"Javascript\", 4: \"Ruby\", 5: \"Perl\", 6: \"C#\", 7: \"C++\"}\n",
    "\n",
    "if max(sorted(x.values()))[-1] == \"n\" :\n",
    "    print(\"True!\")\n",
    "else:\n",
    "    print(\"False!\")\n"
   ]
  },
  {
   "cell_type": "code",
   "execution_count": 102,
   "id": "8f856562",
   "metadata": {},
   "outputs": [
    {
     "name": "stdout",
     "output_type": "stream",
     "text": [
      "6\n"
     ]
    }
   ],
   "source": [
    "x = {1: \"Python\", 2: \"Java\", 3: \"Javascript\", 4: \"Ruby\", 5: \"Perl\", 6: \"C#\", 7: \"C++\"}\n",
    "\n",
    "print((sorted(x.keys()))[-2])"
   ]
  },
  {
   "cell_type": "code",
   "execution_count": 103,
   "id": "98880836",
   "metadata": {},
   "outputs": [
    {
     "name": "stdout",
     "output_type": "stream",
     "text": [
      "True!\n"
     ]
    }
   ],
   "source": [
    "# If the largest key in the dictionary divided by the second largest key in the dictionary returns a remainder equal to the smallest key in the dictionary. Otherwise, print out False!\n",
    "\n",
    "x = {1: \"Python\", 2: \"Java\", 3: \"Javascript\", 4: \"Ruby\", 5: \"Perl\", 6: \"C#\", 7: \"C++\"}\n",
    "\n",
    "if max(sorted(x.keys())) % sorted(x.keys())[-2] == min(sorted(x.keys())):\n",
    "    print(\"True!\")\n",
    "else:\n",
    "    print(\"False!\")\n"
   ]
  },
  {
   "cell_type": "code",
   "execution_count": 116,
   "id": "93091a17",
   "metadata": {},
   "outputs": [
    {
     "name": "stdout",
     "output_type": "stream",
     "text": [
      "False!\n"
     ]
    }
   ],
   "source": [
    "'''Considering the code below, write code that prints out True! if the sum of all the keys in the dictionary is less than the number of \n",
    "characters of the string obtained by concatenating the values associated with the first 5 keys in the dictionary. Otherwise, print out False!'''\n",
    "\n",
    "x = {1: \"Python\", 2: \"Java\", 3: \"Javascript\", 4: \"Ruby\", 5: \"Perl\", 6: \"C#\", 7: \"C++\"}\n",
    "\n",
    "if sum(x.keys()) < len(\"\".join(sorted(x.values())[:5])):\n",
    "    print(\"True!\")\n",
    "else:\n",
    "    print(\"False!\")"
   ]
  },
  {
   "cell_type": "code",
   "execution_count": 126,
   "id": "5b326e60",
   "metadata": {},
   "outputs": [
    {
     "name": "stdout",
     "output_type": "stream",
     "text": [
      "None!\n"
     ]
    }
   ],
   "source": [
    "\"\"\"Considering the code below, write code that prints out True! if the 3rd element of the first range is less than 2, prints out False! if the \n",
    "5th element of the first range is 5, \n",
    "and prints out None! otherwise.\"\"\"\n",
    "\n",
    "x = [list(range(5)), list(range(5,9)), list(range(1,10,3))]\n",
    "\n",
    "if x[0][3] < 2:\n",
    "    print(\"True!\")\n",
    "\n",
    "elif x[0][4] == 5:\n",
    "    print(\"False!\")\n",
    "else:\n",
    "    print(\"None!\")\n",
    "\n"
   ]
  },
  {
   "cell_type": "code",
   "execution_count": 7,
   "id": "020104a7",
   "metadata": {},
   "outputs": [
    {
     "name": "stdout",
     "output_type": "stream",
     "text": [
      "1\n",
      "4\n",
      "7\n"
     ]
    },
    {
     "data": {
      "text/plain": [
       "[None, None, None]"
      ]
     },
     "execution_count": 7,
     "metadata": {},
     "output_type": "execute_result"
    }
   ],
   "source": [
    "[print(i) for i in range(1,10,3)]"
   ]
  },
  {
   "cell_type": "code",
   "execution_count": 8,
   "id": "1314f575",
   "metadata": {},
   "outputs": [
    {
     "name": "stdout",
     "output_type": "stream",
     "text": [
      "False!\n"
     ]
    }
   ],
   "source": [
    "''' Considering the code below, write code that prints out True! if the 3rd element of the 3rd range is less than 6, \n",
    "prints out False! if the 1st element of the second range is 5, and prints out None! otherwise.'''\n",
    "\n",
    "x = [list(range(5)), list(range(5,9)), list(range(1,10,3))]\n",
    "\n",
    "if x[2][2] < 6:\n",
    "    print(\"True!\")\n",
    "elif x[1][0]== 5:\n",
    "    print(\"False!\")\n",
    "else:\n",
    "    print(\"None\")\n",
    "\n"
   ]
  },
  {
   "cell_type": "code",
   "execution_count": 9,
   "id": "a184a3af",
   "metadata": {},
   "outputs": [
    {
     "name": "stdout",
     "output_type": "stream",
     "text": [
      "True!\n"
     ]
    }
   ],
   "source": [
    "''' Considering the code below, write code that prints out True! if the last element of the first range is greater than 3, \n",
    "prints out False! if the last element of the second range is less than 9, and prints out None! otherwise.'''\n",
    "\n",
    "x = [list(range(5)), list(range(5,9)), list(range(1,10,3))]\n",
    "\n",
    "if x[0][-1] > 3:\n",
    "    print(\"True!\")\n",
    "elif x[1][-1] < 9:\n",
    "    print(\"False!\")\n",
    "else:\n",
    "    print(\"None\")\n"
   ]
  },
  {
   "cell_type": "code",
   "execution_count": 10,
   "id": "106e37e2",
   "metadata": {},
   "outputs": [
    {
     "name": "stdout",
     "output_type": "stream",
     "text": [
      "True!\n"
     ]
    }
   ],
   "source": [
    "'''Considering the code below, write code that prints out True! if the length of the first range is greater than or equal to 5, \n",
    "prints out False! if the length of the second range is 4, and prints out None! otherwise.'''\n",
    "\n",
    "x = [list(range(5)), list(range(5,9)), list(range(1,10,3))]\n",
    "\n",
    "if len(x[0]) >= 5:\n",
    "    print(\"True!\")\n",
    "elif len(x[1]) == 4:\n",
    "    print(\"False!\")\n",
    "else:\n",
    "    print(\"None!\")"
   ]
  },
  {
   "cell_type": "code",
   "execution_count": 11,
   "id": "60f1f2a7",
   "metadata": {},
   "outputs": [
    {
     "name": "stdout",
     "output_type": "stream",
     "text": [
      "False!\n"
     ]
    }
   ],
   "source": [
    "'''Considering the code below, write code that prints out True! if the sum of all the elements of the first range is greater than the sum of \n",
    "all the elements of the third range, prints out False! if the largest element of the second range is greater than the largest element of the third range, \n",
    "and prints out None! otherwise.'''\n",
    "\n",
    "x = [list(range(5)), list(range(5,9)), list(range(1,10,3))]\n",
    "\n",
    "if sum(x[0]) > sum(x[2]):\n",
    "    print(\"True!\")\n",
    "elif sorted(x[1])[-1] > sorted(x[2])[-1]:\n",
    "    print(\"False!\")\n",
    "else:\n",
    "    print(\"None!\")"
   ]
  },
  {
   "cell_type": "code",
   "execution_count": null,
   "id": "9ee8a04c",
   "metadata": {},
   "outputs": [
    {
     "name": "stdout",
     "output_type": "stream",
     "text": [
      "Maybe!\n"
     ]
    }
   ],
   "source": [
    "'''Considering the code below, write code that prints out True! if the largest element of the first range minus the second element of the 3rd range \n",
    "is equal to the first element of the first range, prints out False! if the length of the first range minus the length of the 2nd range is \n",
    "equal to the first element of the 3rd range, prints out Maybe! if the sum of all the elements of the 3rd range divided by 2 returns a remainder of 0, \n",
    "and prints out None! otherwise.'''\n",
    "\n",
    "x = [list(range(5)), list(range(5,9)), list(range(1,10,3))]\n",
    "\n",
    "if max(x[0]) - x[2][1] == x[0][0]:\n",
    "    print(\"True!\")\n",
    "elif len(x[0]) - len(x[1]) == x[2][0]:\n",
    "    print(\"False!\")\n",
    "elif sum(x[2]) % 2 == 0:\n",
    "    print(\"Maybe!\")\n",
    "else:\n",
    "    print(\"None!\")"
   ]
  },
  {
   "cell_type": "code",
   "execution_count": 15,
   "id": "fc616050",
   "metadata": {},
   "outputs": [
    {
     "name": "stdout",
     "output_type": "stream",
     "text": [
      "True!\n"
     ]
    }
   ],
   "source": [
    "'''Considering the code below, write code that prints out True! if the sum of the last 3 elements of the first range plus the sum of the last 3 \n",
    "elements of the 3rd range is equal to the sum of the last 3 elements of the 2nd range, and prints out False! if the length of the first range times \n",
    "2 is less than the sum of all the elements of the 3rd range.'''\n",
    "\n",
    "x = [list(range(5)), list(range(5,9)), list(range(1,10,3))]\n",
    "\n",
    "if sum(x[0][-3:]) + sum(x[2][-3:]) == sum(x[1][-3:]):\n",
    "    print(\"True!\")\n",
    "elif len(x[0] * 2 < sum(x[2])):\n",
    "    print(\"False!\")\n"
   ]
  },
  {
   "cell_type": "code",
   "execution_count": 31,
   "id": "571a0ab1",
   "metadata": {},
   "outputs": [
    {
     "name": "stdout",
     "output_type": "stream",
     "text": [
      "True!\n"
     ]
    }
   ],
   "source": [
    "'''Considering the code below, write code that prints out True! if the 2nd character of the value at key 1 is also present in the value at key 4, \n",
    "and prints out False! otherwise.'''\n",
    "\n",
    "x = {1: \"Python\", 2: \"Java\", 3: \"Javascript\", 4: \"Ruby\", 5: \"Perl\", 6: \"C#\", 7: \"C++\"}\n",
    "\n",
    "if x[1][1] in x[4]:\n",
    "    print(\"True!\")\n",
    "else:\n",
    "    print(\"False!\")"
   ]
  },
  {
   "cell_type": "code",
   "execution_count": 30,
   "id": "d7004e0f",
   "metadata": {},
   "outputs": [
    {
     "name": "stdout",
     "output_type": "stream",
     "text": [
      "y\n"
     ]
    }
   ],
   "source": [
    "x = {1: \"Python\", 2: \"Java\", 3: \"Javascript\", 4: \"Ruby\", 5: \"Perl\", 6: \"C#\", 7: \"C++\"}\n",
    "print(x[1][1])"
   ]
  },
  {
   "cell_type": "code",
   "execution_count": 33,
   "id": "b69c2d04",
   "metadata": {},
   "outputs": [
    {
     "name": "stdout",
     "output_type": "stream",
     "text": [
      "False!\n"
     ]
    }
   ],
   "source": [
    "'''Considering the code below, write code that prints out True! if the second to last character of the value at key 3 is the first character \n",
    "of the value at key 5, and prints out False! otherwise.'''\n",
    "\n",
    "x = {1: \"Python\", 2: \"Java\", 3: \"Javascript\", 4: \"Ruby\", 5: \"Perl\", 6: \"C#\", 7: \"C++\"}\n",
    "\n",
    "if x[3][-2] == x[5][0].startswith(\"P\"):\n",
    "    print(\"True!\")\n",
    "else:\n",
    "    print(\"False!\")"
   ]
  },
  {
   "cell_type": "code",
   "execution_count": 37,
   "id": "7d2a603c",
   "metadata": {},
   "outputs": [
    {
     "name": "stdout",
     "output_type": "stream",
     "text": [
      "True!\n"
     ]
    }
   ],
   "source": [
    "'''Considering the code below, write code that prints out True! if the number of characters of the smallest value in the dictionary is equal \n",
    " the number of occurrences of letter a in the value at key 3, and prints out False! otherwise.'''\n",
    "\n",
    "x = {1: \"Python\", 2: \"Java\", 3: \"Javascript\", 4: \"Ruby\", 5: \"Perl\", 6: \"C#\", 7: \"C++\"}\n",
    "\n",
    "if len(sorted(x.values())[0]) == x[3].count(\"a\"):\n",
    "    print(\"True!\")\n",
    "else:\n",
    "    print(\"False!\")"
   ]
  },
  {
   "cell_type": "code",
   "execution_count": 36,
   "id": "181b7ba0",
   "metadata": {},
   "outputs": [
    {
     "name": "stdout",
     "output_type": "stream",
     "text": [
      "2\n"
     ]
    }
   ],
   "source": [
    "x = {1: \"Python\", 2: \"Java\", 3: \"Javascript\", 4: \"Ruby\", 5: \"Perl\", 6: \"C#\", 7: \"C++\"}\n",
    "print(x[3].count(\"a\"))"
   ]
  },
  {
   "cell_type": "code",
   "execution_count": 45,
   "id": "d3f00961",
   "metadata": {},
   "outputs": [
    {
     "name": "stdout",
     "output_type": "stream",
     "text": [
      "1\n",
      "0\n",
      "1\n",
      "2\n",
      "2\n",
      "1\n",
      "0\n",
      "1\n",
      "1\n"
     ]
    }
   ],
   "source": [
    "'''Write a for loop that iterates over the x list and prints out the remainders of each element of the list divided by 3.'''\n",
    "\n",
    "x = [10, 12, 13, 14, 17, 19, 21, 22, 25]\n",
    "\n",
    "for i in x:\n",
    "    print(i % 3)\n"
   ]
  },
  {
   "cell_type": "code",
   "execution_count": 53,
   "id": "1476f3d8",
   "metadata": {},
   "outputs": [
    {
     "name": "stdout",
     "output_type": "stream",
     "text": [
      "250\n",
      "220\n",
      "210\n",
      "190\n",
      "170\n",
      "140\n",
      "130\n",
      "120\n",
      "100\n"
     ]
    }
   ],
   "source": [
    "'''Write a for loop that iterates over the x list and prints out all the elements of the list in reversed order and multiplied by 10.'''\n",
    "x = [10, 12, 13, 14, 17, 19, 21, 22, 25]\n",
    "\n",
    "\n",
    "'''x = x[::-1]\n",
    "for i in x:\n",
    "    print(i*10)'''\n",
    "\n",
    "for i in sorted(x, reverse=True):\n",
    "    print(i * 10)"
   ]
  },
  {
   "cell_type": "code",
   "execution_count": 54,
   "id": "f8e9b797",
   "metadata": {},
   "outputs": [
    {
     "name": "stdout",
     "output_type": "stream",
     "text": [
      "5.0\n",
      "6.0\n",
      "6.5\n",
      "7.0\n",
      "8.5\n",
      "9.5\n",
      "10.5\n",
      "11.0\n",
      "12.5\n",
      "Great job!\n"
     ]
    }
   ],
   "source": [
    "'''Write a for loop that iterates over the x list and prints out all the elements of the list divided by 2 and the string Great job! after the list is exhausted.'''\n",
    "x = [10, 12, 13, 14, 17, 19, 21, 22, 25]\n",
    "\n",
    "for i in x:\n",
    "    print(i / 2)\n",
    "print(\"Great job!\")"
   ]
  },
  {
   "cell_type": "code",
   "execution_count": 64,
   "id": "02a8bb05",
   "metadata": {},
   "outputs": [
    {
     "name": "stdout",
     "output_type": "stream",
     "text": [
      "10 , 0\n",
      "12 , 1\n",
      "13 , 2\n",
      "14 , 3\n",
      "17 , 4\n",
      "19 , 5\n",
      "21 , 6\n",
      "22 , 7\n",
      "25 , 8\n"
     ]
    }
   ],
   "source": [
    "'''Write a for loop that iterates over the x list and prints out the index of each element.'''\n",
    "x = [10, 12, 13, 14, 17, 19, 21, 22, 25]\n",
    "\n",
    "for i in x:\n",
    "    print(i, \",\", x.index(i))"
   ]
  },
  {
   "cell_type": "code",
   "execution_count": 76,
   "id": "0e43b3b8",
   "metadata": {},
   "outputs": [
    {
     "name": "stdout",
     "output_type": "stream",
     "text": [
      "0\n",
      "1\n",
      "4\n",
      "9\n",
      "16\n",
      "25\n"
     ]
    }
   ],
   "source": [
    "# Write a while loop that prints out the value of x squared while x is less than or equal to 5. Be careful not to end up with an infinite loop!\n",
    "\n",
    "x = 0\n",
    "\n",
    "while range(0,6):\n",
    "    print(x**2)\n",
    "    x += 1\n",
    "    if x >= 6:\n",
    "        break "
   ]
  },
  {
   "cell_type": "code",
   "execution_count": 78,
   "id": "becd16da",
   "metadata": {},
   "outputs": [
    {
     "name": "stdout",
     "output_type": "stream",
     "text": [
      "0\n",
      "1\n",
      "4\n",
      "9\n",
      "16\n",
      "25\n"
     ]
    }
   ],
   "source": [
    "x = 0\n",
    " \n",
    "while x <= 5:\n",
    "    print(x ** 2)\n",
    "    x += 1"
   ]
  },
  {
   "cell_type": "code",
   "execution_count": 79,
   "id": "8570fbcc",
   "metadata": {},
   "outputs": [
    {
     "name": "stdout",
     "output_type": "stream",
     "text": [
      "0\n",
      "10\n",
      "20\n",
      "30\n",
      "40\n",
      "Done!\n"
     ]
    }
   ],
   "source": [
    "'''Write a while loop that prints out the value of x times 10 while x is less than or equal to 4 and then prints out Done! \n",
    "when x becomes larger than 4. Be careful not to end up with an infinite loop!\n",
    "'''\n",
    "\n",
    "x = 0\n",
    "\n",
    "while x <= 4:\n",
    "    print(x*10)\n",
    "    x += 1\n",
    "print(\"Done!\")"
   ]
  },
  {
   "cell_type": "code",
   "execution_count": 83,
   "id": "d7814bb6",
   "metadata": {},
   "outputs": [
    {
     "name": "stdout",
     "output_type": "stream",
     "text": [
      "20\n"
     ]
    }
   ],
   "source": [
    "'''Write a while loop that prints out the value of x plus 10 while x is less than or equal to 15 and the remainder of x divided by 5 is 0. \n",
    "Be careful not to end up with an infinite loop!'''\n",
    "\n",
    "x = 10\n",
    "\n",
    "while x <= 15 and x % 5 ==0:\n",
    "    print(x + 10)\n",
    "    x += 1"
   ]
  },
  {
   "cell_type": "code",
   "execution_count": 87,
   "id": "95c09a85",
   "metadata": {},
   "outputs": [
    {
     "name": "stdout",
     "output_type": "stream",
     "text": [
      "7\n",
      "6\n",
      "5\n",
      "4\n",
      "3\n",
      "2\n",
      "1\n"
     ]
    }
   ],
   "source": [
    "'''Write a while loop that prints out the absolute value of x while x is negative. Be careful not to end up with an infinite loop!'''\n",
    "\n",
    "x = -7\n",
    "\n",
    "while x < 0:\n",
    "    print(abs(x))\n",
    "    x += 1"
   ]
  },
  {
   "cell_type": "code",
   "execution_count": 89,
   "id": "b9e22608",
   "metadata": {},
   "outputs": [
    {
     "name": "stdout",
     "output_type": "stream",
     "text": [
      "10\n",
      "12\n",
      "14\n",
      "16\n",
      "18\n",
      "5.0\n"
     ]
    }
   ],
   "source": [
    "'''Write a while loop that prints out the value of x times y while x is greater than or equal to 5 and less than 10, and prints out the \n",
    "result of x divided by y when x becomes 10. Be careful not to end up with an infinite loop!'''\n",
    "\n",
    "x = 5\n",
    "y = 2\n",
    "\n",
    "while x >= 5 and x < 10:\n",
    "    print(x * y)\n",
    "    x += 1\n",
    "    if x == 10:\n",
    "        print(x / y)"
   ]
  },
  {
   "cell_type": "code",
   "execution_count": 93,
   "id": "f9f2a9ef",
   "metadata": {},
   "outputs": [
    {
     "name": "stdout",
     "output_type": "stream",
     "text": [
      "210\n",
      "220\n",
      "250\n"
     ]
    }
   ],
   "source": [
    "'''Write code that will iterate over the x list and multiply by 10 only the elements that are greater than 20 and print them out to the screen.'''\n",
    "x = [10, 12, 13, 14, 17, 19, 21, 22, 25]\n",
    "\n",
    "for i in x:\n",
    "    if i > 20:\n",
    "        print(i*10)"
   ]
  },
  {
   "cell_type": "code",
   "execution_count": 95,
   "id": "49cbfa02",
   "metadata": {},
   "outputs": [
    {
     "name": "stdout",
     "output_type": "stream",
     "text": [
      "10\n",
      "20\n",
      "20\n",
      "40\n",
      "30\n",
      "60\n"
     ]
    }
   ],
   "source": [
    "''''Write code that will iterate over the x and y lists and multiply each element of x with each element of y, also printing the results to the screen.'''\n",
    "x = [2, 4, 6]\n",
    "y = [5, 10]\n",
    "\n",
    "for i in x:\n",
    "    for j in y:\n",
    "        print(i*j)"
   ]
  },
  {
   "cell_type": "code",
   "execution_count": 97,
   "id": "cffa8f99",
   "metadata": {},
   "outputs": [
    {
     "name": "stdout",
     "output_type": "stream",
     "text": [
      "10\n",
      "20\n",
      "20\n",
      "40\n",
      "30\n",
      "60\n",
      "40\n",
      "80\n"
     ]
    }
   ],
   "source": [
    "'''Write code that will iterate over the x and y lists and multiply each element of x with each element of y that is less than 12, \n",
    "also printing the results to the screen.'''\n",
    "x = [2, 4, 6, 8]\n",
    "y = [5, 10, 15, 20]\n",
    "\n",
    "for i in x:\n",
    "    for j in y:\n",
    "        if i and j < 12:\n",
    "            print(i*j)"
   ]
  },
  {
   "cell_type": "code",
   "execution_count": 99,
   "id": "85cb9f11",
   "metadata": {},
   "outputs": [
    {
     "name": "stdout",
     "output_type": "stream",
     "text": [
      "30\n",
      "60\n",
      "40\n",
      "80\n"
     ]
    }
   ],
   "source": [
    "'''Write code that will iterate over the x and y lists and multiply each element of x that is greater than 5 with each element of y that is less than 12, \n",
    "also printing the results to the screen.'''\n",
    "x = [2, 4, 6, 8]\n",
    "y = [5, 10, 15, 20]\n",
    "\n",
    "for i in x:\n",
    "    for j in y:\n",
    "        if i > 5 and j <  12:\n",
    "            print(i*j)"
   ]
  },
  {
   "cell_type": "code",
   "execution_count": 106,
   "id": "9902244e",
   "metadata": {},
   "outputs": [
    {
     "name": "stdout",
     "output_type": "stream",
     "text": [
      "10\n",
      "20\n",
      "450\n",
      "800\n",
      "20\n",
      "40\n",
      "900\n",
      "1600\n",
      "30\n",
      "60\n",
      "1350\n",
      "2400\n",
      "40\n",
      "80\n",
      "1800\n",
      "3200\n"
     ]
    }
   ],
   "source": [
    "'''Write code that will iterate over the x and y lists and multiply each element of x with each element of y that is less than or equal to 10, \n",
    "also printing the results to the screen. For y's elements that are greater than 10, multiply each element of x with y squared.'''\n",
    "x = [2, 4, 6, 8]\n",
    "y = [5, 10, 15, 20]\n",
    "\n",
    "for i in x:\n",
    "    for j in y:\n",
    "        if j <= 10:\n",
    "            print(i*j)\n",
    "        else:\n",
    "            print(i*(j)**2)\n"
   ]
  },
  {
   "cell_type": "code",
   "execution_count": 110,
   "id": "4335e74e",
   "metadata": {},
   "outputs": [
    {
     "name": "stdout",
     "output_type": "stream",
     "text": [
      "cc\n",
      "oo\n",
      "cc\n",
      "nn\n",
      "cc\n"
     ]
    }
   ],
   "source": [
    "'''Write code that will print out each character in x doubled if that character is also inside y.'''\n",
    "x = \"cryptocurrency\"\n",
    "y = \"blockchain\"\n",
    "\n",
    "for i in x:\n",
    "    if i in y:\n",
    "        print(i*2)"
   ]
  },
  {
   "cell_type": "code",
   "execution_count": 112,
   "id": "08b43ed1",
   "metadata": {},
   "outputs": [
    {
     "name": "stdout",
     "output_type": "stream",
     "text": [
      "3\n",
      "4\n",
      "5\n",
      "6\n",
      "7\n"
     ]
    }
   ],
   "source": [
    "'''Write code that will iterate over the range generated by range(9) and for each element that is between 3 and 7 inclusively print out \n",
    "the result of multiplying that element by the second element in the same range.'''\n",
    "\n",
    "my_range = range(9)\n",
    "\n",
    "for i in my_range:\n",
    "    if 3 <= i <= 7 :\n",
    "        print(i*my_range[1])"
   ]
  },
  {
   "cell_type": "code",
   "execution_count": 135,
   "id": "6f2ba4c3",
   "metadata": {},
   "outputs": [
    {
     "name": "stdout",
     "output_type": "stream",
     "text": [
      "Outside!\n",
      "27\n",
      "45\n",
      "63\n",
      "Outside!\n"
     ]
    }
   ],
   "source": [
    "'''Write code that will iterate over the range starting at 1, up to but not including 11, with a step of 2, and for each element that is\n",
    " between 3 and 8 inclusively print out the result of multiplying that element by the last element in the same range. \n",
    " For any other element of the range (outside [3-8]) print Outside!'''\n",
    "\n",
    "for i in range(1, 11, 2):\n",
    "    if 3 <= i <= 8:\n",
    "        print(i*range(1, 11, 2)[-1])\n",
    "    else:\n",
    "        print(\"Outside!\")\n",
    "    "
   ]
  },
  {
   "cell_type": "code",
   "execution_count": 136,
   "id": "5529bc64",
   "metadata": {},
   "outputs": [
    {
     "name": "stdout",
     "output_type": "stream",
     "text": [
      "Outside!\n",
      "150\n",
      "225\n",
      "300\n",
      "The end!\n"
     ]
    }
   ],
   "source": [
    "'''Write code that will iterate over the range starting at 5, up to but not including 25, with a step of 5, and for each element that is \n",
    "between 10 and 21 inclusively print out the result of multiplying that element by the second to last element of the same range. \n",
    "For any other element of the range (outside [10-21]) print Outside! Finally, after the entire range is exhausted print out The end!'''\n",
    "\n",
    "for i in range(5, 25, 5):\n",
    "    if 10 <= i <= 21:\n",
    "        print(i * range(5, 25, 5)[-2])\n",
    "    else:    \n",
    "        print(\"Outside!\")\n",
    "print(\"The end!\")"
   ]
  },
  {
   "cell_type": "code",
   "execution_count": 142,
   "id": "2c56a826",
   "metadata": {},
   "outputs": [
    {
     "name": "stdout",
     "output_type": "stream",
     "text": [
      "55\n",
      "66\n",
      "77\n",
      "88\n",
      "99\n",
      " x is 10!\n",
      "121\n"
     ]
    }
   ],
   "source": [
    "''''Write a while loop that prints out the value of x times 11 while x is less than or equal to 11.  \n",
    "When x becomes equal to 10, print out x is 10! Be careful not to end up with an infinite loop!'''\n",
    "\n",
    "x = 5\n",
    "\n",
    "while x <= 11:\n",
    "    if x == 10:\n",
    "        print(\" x is 10!\")\n",
    "        x += 1\n",
    "    print(x * 11)\n",
    "    x += 1"
   ]
  },
  {
   "cell_type": "code",
   "execution_count": 139,
   "id": "dbad55c3",
   "metadata": {},
   "outputs": [
    {
     "name": "stdout",
     "output_type": "stream",
     "text": [
      "55\n",
      "66\n",
      "77\n",
      "88\n",
      "99\n",
      "x is 10!\n",
      "121\n"
     ]
    }
   ],
   "source": [
    "x = 5\n",
    " \n",
    "while x <= 11:\n",
    "    if x == 10:\n",
    "        print(\"x is 10!\")\n",
    "        x = x + 1\n",
    "    else:\n",
    "        print(x * 11)\n",
    "        x = x + 1"
   ]
  },
  {
   "cell_type": "code",
   "execution_count": 154,
   "id": "f807cf6f",
   "metadata": {},
   "outputs": [
    {
     "name": "stdout",
     "output_type": "stream",
     "text": [
      "20\n",
      "200\n"
     ]
    }
   ],
   "source": [
    "x = [1, 2]\n",
    "y = [10, 100]\n",
    "\n",
    "for i in x:\n",
    "    for j in y:\n",
    "        if i % 2 == 0:\n",
    "            print(i * j)"
   ]
  },
  {
   "cell_type": "code",
   "execution_count": 157,
   "id": "01a83cc2",
   "metadata": {},
   "outputs": [
    {
     "name": "stdout",
     "output_type": "stream",
     "text": [
      "Zero!\n"
     ]
    }
   ],
   "source": [
    "'''Add the necessary clause(s) to the code below so that in case the ZeroDivisionError exception is raised then the program prints out Zero! to the screen. '''\n",
    "\n",
    "try:\n",
    "    print(25 % 0)\n",
    "except ZeroDivisionError:\n",
    "    print(\"Zero!\")"
   ]
  },
  {
   "cell_type": "code",
   "execution_count": null,
   "id": "eb1896b7",
   "metadata": {},
   "outputs": [
    {
     "name": "stdout",
     "output_type": "stream",
     "text": [
      "30\n",
      "Clean!\n"
     ]
    }
   ],
   "source": [
    "''' Add the necessary clause(s) to the code below so that in case the code under try raises no exceptions then the program \n",
    "prints out the result of the math operation and the string Clean! to the screen.'''\n",
    "\n",
    "try:\n",
    "    print(25 % 5 ** 5 + 5)\n",
    "except:\n",
    "    print(\"Bug!\")\n",
    "else:\n",
    "    print(\"Clean!\")"
   ]
  },
  {
   "cell_type": "code",
   "execution_count": 165,
   "id": "8990b86a",
   "metadata": {},
   "outputs": [
    {
     "name": "stdout",
     "output_type": "stream",
     "text": [
      "Bug!\n",
      "Result!\n"
     ]
    }
   ],
   "source": [
    "'''Add the necessary clause(s) to the code below so that no matter if the code under try raises any exceptions or not, \n",
    "then the program prints out the string Result! to the screen.'''\n",
    "try:\n",
    "    print(25 % 0 ** 5 + 5)\n",
    "except:\n",
    "    print(\"Bug!\")\n",
    "finally:\n",
    "    print(\"Result!\")"
   ]
  },
  {
   "cell_type": "code",
   "execution_count": 166,
   "id": "6b53eead",
   "metadata": {},
   "outputs": [
    {
     "name": "stdout",
     "output_type": "stream",
     "text": [
      "Index!\n"
     ]
    }
   ],
   "source": [
    "'''Add the necessary clause(s) to the code below so that in case the code under try raises the ZeroDivisionError exception then the \n",
    "program prints out the string Zero! to the screen; additionally, if the code under try raises the IndexError exception then the program \n",
    "prints out the string Index! to the screen.'''\n",
    "\n",
    "x = [1, 9, 17, 32]\n",
    "\n",
    "try:\n",
    "    print(x[3] % 3 ** 5 + x[4])\n",
    "except ZeroDivisionError:\n",
    "    print(\"Zero!\")\n",
    "except IndexError:\n",
    "    print(\"Index!\")"
   ]
  },
  {
   "cell_type": "code",
   "execution_count": 167,
   "id": "7ba592ed",
   "metadata": {},
   "outputs": [
    {
     "name": "stdout",
     "output_type": "stream",
     "text": [
      "30\n",
      "Clean!\n",
      "Finish!\n"
     ]
    }
   ],
   "source": [
    "'''Add the necessary clause(s) to the code below so that in case the code under try raises no exceptions then the program prints out the \n",
    "result of the math operation and the string Clean! to the screen. If the code under try raises the ZeroDivisionError exception then \n",
    "the program prints Zero! to the screen. Ultimately, regardless of the result generated by the code under try, the program should print out Finish! to the screen.'''\n",
    "\n",
    "try:\n",
    "    print(25 % 5 ** 5 + 5)\n",
    "except ZeroDivisionError:\n",
    "    print(\"Zero!\")\n",
    "else:\n",
    "    print(\"Clean!\")\n",
    "finally:\n",
    "    print(\"Finish!\")"
   ]
  },
  {
   "cell_type": "code",
   "execution_count": 171,
   "id": "3c470f25",
   "metadata": {},
   "outputs": [
    {
     "name": "stdout",
     "output_type": "stream",
     "text": [
      "30\n"
     ]
    }
   ],
   "source": [
    "'''Implement a function called my_func() that creates a variable add which stores the result of adding 10 and 20, \n",
    "and prints out the value of add. Don't forget to also call the function!'''\n",
    "\n",
    "def my_func():\n",
    "    add = 10 + 20\n",
    "    print(add)\n",
    "\n",
    "my_func()"
   ]
  },
  {
   "cell_type": "code",
   "execution_count": 180,
   "id": "2e79b74c",
   "metadata": {},
   "outputs": [
    {
     "name": "stdout",
     "output_type": "stream",
     "text": [
      "70\n"
     ]
    }
   ],
   "source": [
    "'''Implement a function called my_func() that takes a single parameter x and multiplies it with 10, also returning the result when the function is called.'''\n",
    "\n",
    "def my_func(x):\n",
    "    return x * 10\n",
    "\n",
    "result = my_func(7)\n",
    "print(result)\n"
   ]
  },
  {
   "cell_type": "code",
   "execution_count": 181,
   "id": "b680bf93",
   "metadata": {},
   "outputs": [
    {
     "name": "stdout",
     "output_type": "stream",
     "text": [
      "2.0\n"
     ]
    }
   ],
   "source": [
    "'''Implement a function called my_func() that takes two parameters x and y and divides x by y, also returning the result when the function is called.'''\n",
    "\n",
    "def my_func(x, y):\n",
    "    return x / y\n",
    "\n",
    "result = my_func(38,19)\n",
    "print(result)\n"
   ]
  },
  {
   "cell_type": "code",
   "execution_count": 183,
   "id": "c444b6ef",
   "metadata": {},
   "outputs": [
    {
     "name": "stdout",
     "output_type": "stream",
     "text": [
      "30\n"
     ]
    }
   ],
   "source": [
    "'''Implement a function called my_func() that takes 3 parameters x, y and z and raises x to the power of y then adds z, \n",
    "also returning the result when the function is called.'''\n",
    "\n",
    "def my_func(x, y, z):\n",
    "    return (x**y) + z\n",
    "\n",
    "result = my_func(3,3,3)\n",
    "print(result)"
   ]
  },
  {
   "cell_type": "code",
   "execution_count": 200,
   "id": "bb236a75",
   "metadata": {},
   "outputs": [
    {
     "name": "stdout",
     "output_type": "stream",
     "text": [
      "[0, 2, 4, 6, 8]\n"
     ]
    }
   ],
   "source": [
    "'''Implement a function called my_func() that takes a single parameter x and multiplies it with each element of range(5), \n",
    "also adding each multiplication result to a new (initially empty) list called my_new_list. Finally, the list should be printed out to \n",
    "the screen after the function is called.'''\n",
    "\n",
    "def my_func(x):\n",
    "    my_new_list = []\n",
    "    for i in range(5):\n",
    "        my_new_list.append(i * x)\n",
    "    return my_new_list\n",
    "\n",
    "result = my_func(2)\n",
    "print(result)\n",
    "\n",
    "# my_func(2)\n"
   ]
  },
  {
   "cell_type": "code",
   "execution_count": 201,
   "id": "b824aee8",
   "metadata": {},
   "outputs": [
    {
     "name": "stdout",
     "output_type": "stream",
     "text": [
      "SATOSHI NAKAMOTO\n"
     ]
    }
   ],
   "source": [
    "'''Implement a function called my_func() that takes a single parameter x (a string) and turns each character of the string to uppercase, \n",
    "also returning the result when the function is called.'''\n",
    "\n",
    "def my_func(x):\n",
    "    return x.upper()\n",
    "result = my_func(\"Satoshi Nakamoto\")\n",
    "print(result)"
   ]
  },
  {
   "cell_type": "code",
   "execution_count": 212,
   "id": "abd3288a",
   "metadata": {},
   "outputs": [
    {
     "name": "stdout",
     "output_type": "stream",
     "text": [
      "[11, 12, 13, 15, 16, 18, 20, 22]\n"
     ]
    }
   ],
   "source": [
    "'''Implement a function called my_func() that takes a single parameter x (a list) and eliminates all duplicates from the list, \n",
    "also returning the result when the function is called.'''\n",
    "\n",
    "def my_func(x):\n",
    "    return list(set(x))\n",
    "\n",
    "result = my_func([11, 12, 13, 11, 15, 18, 18, 22, 20, 16, 12])\n",
    "print(result)"
   ]
  },
  {
   "cell_type": "code",
   "execution_count": 15,
   "id": "ff90c3b1",
   "metadata": {},
   "outputs": [
    {
     "name": "stdout",
     "output_type": "stream",
     "text": [
      "[25, 36, 64, 81]\n"
     ]
    }
   ],
   "source": [
    "'''Implement a function called my_func() that takes a single parameter x (a tuple) and for each element of the tuple that is greater than 4 \n",
    "it raises that element to the power of 2, also adding it to a new (initially empty) list called my_new_list. Finally, the code returns the result \n",
    "when the function is called.'''\n",
    "\n",
    "def my_func(x):\n",
    "    my_new_list = []\n",
    "    for i in x:\n",
    "        if i > 4:\n",
    "            my_new_list.append(i**2)\n",
    "    return my_new_list\n",
    "\n",
    "result = my_func((2, 3, 5, 6, 4, 8, 9))\n",
    "print(result)"
   ]
  },
  {
   "cell_type": "code",
   "execution_count": 47,
   "id": "4ceb4164",
   "metadata": {},
   "outputs": [
    {
     "name": "stdout",
     "output_type": "stream",
     "text": [
      "49\n"
     ]
    }
   ],
   "source": [
    "'''Implement a function called my_func() that takes a single parameter x (a dictionary) and multiplies the number of elements in the dictionary \n",
    "with the largest key in the dictionary, also returning the result when the function is called.\n",
    "'''\n",
    "\n",
    "def my_func(x):\n",
    "    largest_key = max(x)\n",
    "    return len(x) * largest_key\n",
    "\n",
    "result = my_func({1: 3, 2: 3, 4: 5, 5: 9, 6: 8, 3: 7, 7: 0})\n",
    "print(result)"
   ]
  },
  {
   "cell_type": "code",
   "execution_count": 49,
   "id": "c5e8e5a5",
   "metadata": {},
   "outputs": [
    {
     "name": "stdout",
     "output_type": "stream",
     "text": [
      "50\n"
     ]
    }
   ],
   "source": [
    "'''Implement a function called my_func() that takes a single positional parameter x and a default parameter y which is equal to 10 and \n",
    "multiplies the two, also returning the result when the function is called.'''\n",
    "\n",
    "def my_func(x, y=10):\n",
    "    return x * y\n",
    "\n",
    "result = my_func(5)\n",
    "print(result)"
   ]
  },
  {
   "cell_type": "code",
   "execution_count": 50,
   "id": "ddca9c4f",
   "metadata": {},
   "outputs": [
    {
     "name": "stdout",
     "output_type": "stream",
     "text": [
      "350\n"
     ]
    }
   ],
   "source": [
    "'''Implement a function called my_func() that takes a single positional parameter x and two default parameters y and z \n",
    "which are equal to 100 and 200 respectively, and adds them together, also returning the result when the function is called.'''\n",
    "\n",
    "def my_func(x, y=100, z=200):\n",
    "    return x + y + z\n",
    "\n",
    "result = my_func(50)\n",
    "print(result)"
   ]
  },
  {
   "cell_type": "code",
   "execution_count": null,
   "id": "73f1dbe6",
   "metadata": {},
   "outputs": [
    {
     "name": "stdout",
     "output_type": "stream",
     "text": [
      "10\n"
     ]
    }
   ],
   "source": [
    "'''Implement a function called my_func() that takes two default parameters x (a list) and y (an integer), and returns \n",
    "the element in x positioned at index y, also printing the result to the screen when called.'''\n",
    "\n",
    "def my_func(x, y):\n",
    "    return x[y]\n",
    "\n",
    "result = my_func(list(range(2,25,2)), 4)\n",
    "print(result) #result should be 10"
   ]
  },
  {
   "cell_type": "code",
   "execution_count": 71,
   "id": "80d8aa4d",
   "metadata": {},
   "outputs": [
    {
     "name": "stdout",
     "output_type": "stream",
     "text": [
      "100\n"
     ]
    }
   ],
   "source": [
    "'''Implement a function called my_func() that takes a positional parameter x and a variable-length tuple of parameters and returns \n",
    "the result of multiplying x with the second element in the tuple, also returning the result when the function is called.'''\n",
    "\n",
    "def my_func(x, *args):\n",
    "    return x * args[1]\n",
    "\n",
    "result = my_func(5, 10, 20, 30, 50)\n",
    "print(result)"
   ]
  },
  {
   "cell_type": "code",
   "execution_count": 78,
   "id": "7f59b11a",
   "metadata": {},
   "outputs": [
    {
     "name": "stdout",
     "output_type": "stream",
     "text": [
      "300\n"
     ]
    }
   ],
   "source": [
    "'''Implement a function called my_func() that takes a positional parameter x and a variable-length dictionary of (keyword) \n",
    "parameters and returns the result of multiplying x with the largest value in the dictionary, also returning the result when the function is called.'''\n",
    "\n",
    "def my_func(x, **kwargs):\n",
    "    return x * sorted(kwargs.values())[-1]\n",
    "\n",
    "result = my_func(10, val1 = 10, val2 = 15, val3 = 20, val4 = 25, val5 = 30)\n",
    "print(result)"
   ]
  },
  {
   "cell_type": "code",
   "execution_count": 80,
   "id": "6a530492",
   "metadata": {},
   "outputs": [
    {
     "name": "stdout",
     "output_type": "stream",
     "text": [
      "200\n"
     ]
    }
   ],
   "source": [
    "'''Add the correct line(s) of code inside the function in order to get 200 as a result of calling my_func() and have the result printed out to the screen.'''\n",
    "\n",
    "var = 10\n",
    " \n",
    "def my_func(x):\n",
    "\tprint(x * var)\n",
    "\t\n",
    "my_func(20)"
   ]
  },
  {
   "cell_type": "code",
   "execution_count": null,
   "id": "39d7f125",
   "metadata": {},
   "outputs": [
    {
     "name": "stdout",
     "output_type": "stream",
     "text": [
      "100\n"
     ]
    }
   ],
   "source": [
    "def my_func(x):\n",
    "    var = 12\n",
    "    print(x * var)\n",
    "\t\n",
    "my_func(10)"
   ]
  },
  {
   "cell_type": "code",
   "execution_count": null,
   "id": "510114eb",
   "metadata": {},
   "outputs": [
    {
     "ename": "FileNotFoundError",
     "evalue": "[Errno 2] No such file or directory: 'test.txt'",
     "output_type": "error",
     "traceback": [
      "\u001b[31m---------------------------------------------------------------------------\u001b[39m",
      "\u001b[31mFileNotFoundError\u001b[39m                         Traceback (most recent call last)",
      "\u001b[36mCell\u001b[39m\u001b[36m \u001b[39m\u001b[32mIn[94]\u001b[39m\u001b[32m, line 1\u001b[39m\n\u001b[32m----> \u001b[39m\u001b[32m1\u001b[39m f = \u001b[38;5;28;43mopen\u001b[39;49m\u001b[43m(\u001b[49m\u001b[33;43m\"\u001b[39;49m\u001b[33;43mtest.txt\u001b[39;49m\u001b[33;43m\"\u001b[39;49m\u001b[43m,\u001b[49m\u001b[43m \u001b[49m\u001b[33;43m\"\u001b[39;49m\u001b[33;43mr\u001b[39;49m\u001b[33;43m\"\u001b[39;49m\u001b[43m)\u001b[49m\n\u001b[32m      3\u001b[39m \u001b[38;5;28mprint\u001b[39m(\u001b[33m\"\u001b[39m\u001b[33mf\u001b[39m\u001b[33m\"\u001b[39m)\n",
      "\u001b[36mFile \u001b[39m\u001b[32m~\\AppData\\Roaming\\Python\\Python313\\site-packages\\IPython\\core\\interactiveshell.py:343\u001b[39m, in \u001b[36m_modified_open\u001b[39m\u001b[34m(file, *args, **kwargs)\u001b[39m\n\u001b[32m    336\u001b[39m \u001b[38;5;28;01mif\u001b[39;00m file \u001b[38;5;129;01min\u001b[39;00m {\u001b[32m0\u001b[39m, \u001b[32m1\u001b[39m, \u001b[32m2\u001b[39m}:\n\u001b[32m    337\u001b[39m     \u001b[38;5;28;01mraise\u001b[39;00m \u001b[38;5;167;01mValueError\u001b[39;00m(\n\u001b[32m    338\u001b[39m         \u001b[33mf\u001b[39m\u001b[33m\"\u001b[39m\u001b[33mIPython won\u001b[39m\u001b[33m'\u001b[39m\u001b[33mt let you open fd=\u001b[39m\u001b[38;5;132;01m{\u001b[39;00mfile\u001b[38;5;132;01m}\u001b[39;00m\u001b[33m by default \u001b[39m\u001b[33m\"\u001b[39m\n\u001b[32m    339\u001b[39m         \u001b[33m\"\u001b[39m\u001b[33mas it is likely to crash IPython. If you know what you are doing, \u001b[39m\u001b[33m\"\u001b[39m\n\u001b[32m    340\u001b[39m         \u001b[33m\"\u001b[39m\u001b[33myou can use builtins\u001b[39m\u001b[33m'\u001b[39m\u001b[33m open.\u001b[39m\u001b[33m\"\u001b[39m\n\u001b[32m    341\u001b[39m     )\n\u001b[32m--> \u001b[39m\u001b[32m343\u001b[39m \u001b[38;5;28;01mreturn\u001b[39;00m \u001b[43mio_open\u001b[49m\u001b[43m(\u001b[49m\u001b[43mfile\u001b[49m\u001b[43m,\u001b[49m\u001b[43m \u001b[49m\u001b[43m*\u001b[49m\u001b[43margs\u001b[49m\u001b[43m,\u001b[49m\u001b[43m \u001b[49m\u001b[43m*\u001b[49m\u001b[43m*\u001b[49m\u001b[43mkwargs\u001b[49m\u001b[43m)\u001b[49m\n",
      "\u001b[31mFileNotFoundError\u001b[39m: [Errno 2] No such file or directory: 'test.txt'"
     ]
    }
   ],
   "source": [
    "'''Add the necessary code on line 5 in order to bring back the cursor at the very beginning of test.txt before reading from the file once again.'''\n",
    "\n",
    "f = open(\"test.txt\", \"r\")\n",
    "\n",
    "f.read()\n",
    "\n",
    "f.seek(0)\n",
    "\n",
    "print(f.read())"
   ]
  },
  {
   "cell_type": "code",
   "execution_count": null,
   "id": "03972358",
   "metadata": {},
   "outputs": [],
   "source": [
    "'''the parentheses of print()) in order to get the current position of the cursor inside test.txt and have the result printed out to the screen.'''\n",
    "f = open(\"test.txt\", \"r\")\n",
    "\n",
    "f.read(5)\n",
    "\n",
    "print(f.tell())f = open(\"test.txt\", \"r\")\n",
    "\n",
    "f.read(5)\n",
    "\n",
    "print(f.tell())"
   ]
  },
  {
   "cell_type": "code",
   "execution_count": null,
   "id": "9258a5cd",
   "metadata": {},
   "outputs": [],
   "source": [
    "'''Add the necessary code on line 5 (in between the parentheses of print()) in order to get the current mode in which test.txt is open (read, write etc.) and have the result printed out to the screen.'''\"Logging details.txt\"\n",
    "f = open(\"test.txt\", \"r\")\n",
    " \n",
    "f.read(5)\n",
    " \n",
    "print(f.mode)"
   ]
  },
  {
   "cell_type": "code",
   "execution_count": null,
   "id": "49836468",
   "metadata": {},
   "outputs": [],
   "source": [
    "'''Add the necessary file access mode on line 1 in order to open test.txt for appending and reading at the same time.'''\n",
    "\n",
    "f = open(\"test.txt\", 'a+')\n",
    "\n",
    "print(f.mode)"
   ]
  },
  {
   "cell_type": "code",
   "execution_count": null,
   "id": "b978937c",
   "metadata": {},
   "outputs": [],
   "source": []
  },
  {
   "cell_type": "code",
   "execution_count": null,
   "id": "c54a87e8",
   "metadata": {},
   "outputs": [],
   "source": [
    "'''Add the necessary code on lines 3 and 4 in order to write a list of strings ['python', ' ', 'and', ' ', 'java'] to test.txt and \n",
    "have the result of reading the file printed out to the screen.'''\n",
    "\n",
    "f = open(\"test.txt\", \"w\")\n",
    " \n",
    "f.writelines(['python', ' ', 'and', ' ', 'java'])\n",
    "f.close()\n",
    " \n",
    "f = open(\"test.txt\", \"r\")\n",
    " \n",
    "print(f.read())"
   ]
  },
  {
   "cell_type": "code",
   "execution_count": null,
   "id": "ef003a8c",
   "metadata": {},
   "outputs": [],
   "source": [
    "'''Add the necessary code on lines 4 and 5 in order to delete the entire content of test.txt.'''\n",
    "\n",
    "with open('test.txt', 'w') as f:\n",
    "    # The file is now empty and ready for new content\n",
    "    pass \n",
    "\n",
    "# or\n",
    "\n",
    "with open(\"test.txt\", \"w\") as f:\n",
    "    f.write(\"python\")\n",
    " \n",
    "f = open(\"test.txt\", \"r+\")\n",
    "f.truncate()\n",
    " \n",
    "f = open(\"test.txt\", \"r\")\n",
    " \n",
    "print(f.read())"
   ]
  },
  {
   "cell_type": "code",
   "execution_count": 101,
   "id": "25f1d3e8",
   "metadata": {},
   "outputs": [
    {
     "data": {
      "text/plain": [
       "'Bitcoin'"
      ]
     },
     "execution_count": 101,
     "metadata": {},
     "output_type": "execute_result"
    }
   ],
   "source": [
    "'''Write code on line 5 in order to match the word Bitcoin at the beginning of the string using the match() method.'''\n",
    "import re\n",
    "\n",
    "s = \"Bitcoin was born on Jan 3rd 2009 as an alternative to the failure of the current financial system. In 2017, the price of 1 BTC reached $20000, with a market cap of over $300B.\"\n",
    "\n",
    "result = re.match(\"Bitcoin\", s)\n",
    "\n",
    "print(result.group())"
   ]
  },
  {
   "cell_type": "code",
   "execution_count": 105,
   "id": "ff7373e8",
   "metadata": {},
   "outputs": [
    {
     "data": {
      "text/plain": [
       "'Bitcoin'"
      ]
     },
     "execution_count": 105,
     "metadata": {},
     "output_type": "execute_result"
    }
   ],
   "source": [
    "'''Write code on line 5 in order to match the word Bitcoin at the beginning of the string using the match() method and \n",
    "ignoring the case. This way, no matter if you have bitcoin or Bitcoin, the match is done either way.'''\n",
    "\n",
    "import re\n",
    "\n",
    "s = \"Bitcoin was born on Jan 3rd 2009 as an alternative to the failure of the current financial system. In 2017, the price of 1 BTC reached $20000, with a market cap of over $300B.\"\n",
    "\n",
    "result = re.match(\"bitcoin\", s, re.I)\n",
    "\n",
    "print(result.group())"
   ]
  },
  {
   "cell_type": "code",
   "execution_count": 113,
   "id": "118bfa9f",
   "metadata": {},
   "outputs": [
    {
     "data": {
      "text/plain": [
       "'2017'"
      ]
     },
     "execution_count": 113,
     "metadata": {},
     "output_type": "execute_result"
    }
   ],
   "source": [
    "import re\n",
    " \n",
    "s = \"Bitcoin was born on Jan 3rd 2009 as an alternative to the failure of the current financial system. In 2017, the price of 1 BTC reached $20000, with a market cap of over $300B.\"\n",
    " \n",
    "result = re.search(r\"(\\d{4}),\", s)\n",
    " \n",
    "print(result.group(1))"
   ]
  },
  {
   "cell_type": "code",
   "execution_count": 115,
   "id": "f5bfa914",
   "metadata": {},
   "outputs": [
    {
     "data": {
      "text/plain": [
       "__main__.ClassOne"
      ]
     },
     "execution_count": 115,
     "metadata": {},
     "output_type": "execute_result"
    }
   ],
   "source": [
    "'''Write a class called ClassOne starting on line 1 containing:\n",
    "\n",
    "The __init__ method with two parameters p1 and p2. Define the corresponding attributes inside the __init__ method.\n",
    "\n",
    "A method called square that takes one parameter p3 and prints out the value of p3 squared.'''\n",
    "\n",
    "class ClassOne():\n",
    "    def __init__(self, p1, p2):\n",
    "        self.p1 = p1\n",
    "        self.p2 = p2\n",
    "\n",
    "    def square(self, p3):\n",
    "        print(p3 ** 2)\n",
    "\n",
    "p = ClassOne(1, 2)\n",
    "print(type(p))"
   ]
  },
  {
   "cell_type": "code",
   "execution_count": 129,
   "id": "e5abed7a",
   "metadata": {},
   "outputs": [
    {
     "data": {
      "text/plain": [
       "1"
      ]
     },
     "execution_count": 129,
     "metadata": {},
     "output_type": "execute_result"
    }
   ],
   "source": [
    "'''Considering the ClassOne class and the p object, write code on line 11 in order to access the p1 attribute for the current instance \n",
    "of the class and print its value to the screen.'''\n",
    "\n",
    "class ClassOne(object):\n",
    "    def __init__(self, p1, p2):\n",
    "        self.p1 = p1\n",
    "        self.p2 = p2\n",
    "    \n",
    "    def square(self, p3):\n",
    "        print(p3 ** 2)\n",
    " \n",
    "p = ClassOne(1, 2)\n",
    " \n",
    "print(p.p1)"
   ]
  },
  {
   "cell_type": "code",
   "execution_count": 133,
   "id": "d6539985",
   "metadata": {},
   "outputs": [],
   "source": [
    "'''Considering the ClassOne class and the p object, write code on line 11 in order to call the square() method for the current \n",
    "instance of the class using 10 as an argument and print the result to the screen.'''\n",
    "\n",
    "class ClassOne(object):\n",
    "    def __init__(self, p1, p2):\n",
    "        self.p1 = p1\n",
    "        self.p2 = p2\n",
    "    \n",
    "    def square(self, p3):\n",
    "        print(p3 ** 2)\n",
    " \n",
    "p = ClassOne(1, 2)\n",
    " \n",
    "print(p.square(10))"
   ]
  },
  {
   "cell_type": "code",
   "execution_count": 134,
   "id": "710b6e38",
   "metadata": {},
   "outputs": [
    {
     "data": {
      "text/plain": [
       "5"
      ]
     },
     "execution_count": 134,
     "metadata": {},
     "output_type": "execute_result"
    }
   ],
   "source": [
    "'''Considering the ClassOne class and the p object, write code on line 11 in order to set the value of the p2 attribute to 5 for \n",
    "the current instance of the class, without using a function.'''\n",
    "\n",
    "class ClassOne(object):\n",
    "    def __init__(self, p1, p2):\n",
    "        self.p1 = p1\n",
    "        self.p2 = p2\n",
    "    \n",
    "    def square(self, p3):\n",
    "        print(p3 ** 2)\n",
    "\n",
    "p = ClassOne(1, 2)\n",
    "p.p2 =5\n",
    "\n",
    "\n",
    "print(p.p2)"
   ]
  },
  {
   "cell_type": "code",
   "execution_count": 135,
   "id": "aa1c3cb4",
   "metadata": {},
   "outputs": [
    {
     "data": {
      "text/plain": [
       "50"
      ]
     },
     "execution_count": 135,
     "metadata": {},
     "output_type": "execute_result"
    }
   ],
   "source": [
    "'''Considering the ClassOne class and the p object, write code on lines 11 and 12 in order to set the value of the p2 attribute to \n",
    "50 for the current instance of the class using a function, and then get the new value of p2, again using a function, and print it out to the screen as well.'''\n",
    "\n",
    "class ClassOne(object):\n",
    "    def __init__(self, p1, p2):\n",
    "        self.p1 = p1\n",
    "        self.p2 = p2\n",
    "    \n",
    "    def square(self, p3):\n",
    "        print(p3 ** 2)\n",
    " \n",
    "p = ClassOne(1, 2)\n",
    " \n",
    "setattr(p, 'p2', 50)\n",
    "print(getattr(p, 'p2'))"
   ]
  },
  {
   "cell_type": "code",
   "execution_count": null,
   "id": "3ca416b0",
   "metadata": {},
   "outputs": [
    {
     "data": {
      "text/plain": [
       "50"
      ]
     },
     "execution_count": 136,
     "metadata": {},
     "output_type": "execute_result"
    }
   ],
   "source": [
    "'''Considering the ClassOne class and the p object, write code on line 11 in order to check if p2 is an attribute of p, using a \n",
    "function, also printing the result to the screen.'''\n",
    "\n",
    "class ClassOne(object):\n",
    "    def __init__(self, p1, p2):\n",
    "        self.p1 = p1\n",
    "        self.p2 = p2\n",
    "    \n",
    "    def square(self, p3):\n",
    "        print(p3 ** 2)\n",
    "\n",
    "p = ClassOne(1, 2)\n",
    "\n"
   ]
  },
  {
   "cell_type": "code",
   "execution_count": 142,
   "id": "91dd4d19",
   "metadata": {},
   "outputs": [
    {
     "data": {
      "text/plain": [
       "[1, 2, 3, 4]"
      ]
     },
     "execution_count": 142,
     "metadata": {},
     "output_type": "execute_result"
    }
   ],
   "source": [
    "'''Write a list comprehension on line 1 that will iterate over range(1, 5) and return a list of its elements.'''\n",
    "\n",
    "cph = [i for i in range(1,5)]\n",
    "\n",
    "print(cph)"
   ]
  },
  {
   "cell_type": "code",
   "execution_count": 143,
   "id": "628fee33",
   "metadata": {},
   "outputs": [
    {
     "data": {
      "text/plain": [
       "[1, 36, 121]"
      ]
     },
     "execution_count": 143,
     "metadata": {},
     "output_type": "execute_result"
    }
   ],
   "source": [
    "'''Write a list comprehension on line 1 that will iterate over range(1, 15, 5) and return a list of its elements squared.'''\n",
    "\n",
    "cph = [i**2 for i in range(1, 15, 5)]\n",
    "\n",
    "print(cph)"
   ]
  },
  {
   "cell_type": "code",
   "execution_count": 145,
   "id": "07fdcba1",
   "metadata": {},
   "outputs": [
    {
     "data": {
      "text/plain": [
       "[25, 64, 121, 196]"
      ]
     },
     "execution_count": 145,
     "metadata": {},
     "output_type": "execute_result"
    }
   ],
   "source": [
    "'''Write a list comprehension on line 1 that will iterate over range(5, 25, 3) and return a list of its elements squared \n",
    "only for the elements that are less than or equal to 16.'''\n",
    "\n",
    "cph = [i**2 for i in range(5, 25, 3) if i <= 16]\n",
    "\n",
    "print(cph)"
   ]
  },
  {
   "cell_type": "code",
   "execution_count": 147,
   "id": "a3107aa3",
   "metadata": {},
   "outputs": [
    {
     "data": {
      "text/plain": [
       "{0: 0, 1: 3, 2: 6, 3: 9, 4: 12, 5: 15, 6: 18, 7: 21, 8: 24}"
      ]
     },
     "execution_count": 147,
     "metadata": {},
     "output_type": "execute_result"
    }
   ],
   "source": [
    "'''Write a dictionary comprehension on line 1 that will iterate over range(9) and return a dictionary of key-value pairs \n",
    "where the value is equal to the key times 3.'''\n",
    "\n",
    "cph = {x: x * 3 for x in range(9)}\n",
    " \n",
    "print(cph)"
   ]
  },
  {
   "cell_type": "code",
   "execution_count": 148,
   "id": "f3345f5c",
   "metadata": {},
   "outputs": [
    {
     "data": {
      "text/plain": [
       "{4.0, 4.4, 4.8, 5.2, 5.6, 6.0, 6.4, 6.8, 7.2}"
      ]
     },
     "execution_count": 148,
     "metadata": {},
     "output_type": "execute_result"
    }
   ],
   "source": [
    "'''Write a set comprehension on line 1 that will iterate over range(10, 19) and return a set of its elements divided by 2.5.'''\n",
    "\n",
    "cph = {i/2.5 for i in range(10, 19)}\n",
    "\n",
    "print(cph)"
   ]
  },
  {
   "cell_type": "code",
   "execution_count": 150,
   "id": "d5da5a55",
   "metadata": {},
   "outputs": [
    {
     "data": {
      "text/plain": [
       "10"
      ]
     },
     "execution_count": 150,
     "metadata": {},
     "output_type": "execute_result"
    }
   ],
   "source": [
    "'''Write a lambda function on line 1 that takes two parameters x and y and multiplies x with y.'''\n",
    "\n",
    "lam = (lambda x, y: x * y)\n",
    "\n",
    "print(lam(2, 5))"
   ]
  },
  {
   "cell_type": "code",
   "execution_count": 154,
   "id": "35fa4b6b",
   "metadata": {},
   "outputs": [
    {
     "data": {
      "text/plain": [
       "[1, 2, 2, 4, 3, 6, 4, 8]"
      ]
     },
     "execution_count": 154,
     "metadata": {},
     "output_type": "execute_result"
    }
   ],
   "source": [
    "'''Write a lambda function on line 1 that takes a list list1 as a parameter, and multiplies each element of range(1, 5) \n",
    "with each element of list1 using a list comprehension.'''\n",
    "\n",
    "lam = lambda list1: [x * y for x in range(1, 5) for y in list1]\n",
    " \n",
    "print(lam([1, 2]))"
   ]
  },
  {
   "cell_type": "code",
   "execution_count": 156,
   "id": "93d59eaf",
   "metadata": {},
   "outputs": [
    {
     "data": {
      "text/plain": [
       "True"
      ]
     },
     "execution_count": 156,
     "metadata": {},
     "output_type": "execute_result"
    }
   ],
   "source": [
    "'''Considering the ClassOne class and the p object, write code on line 11 in order to check if p2 is an attribute of p, using a function, \n",
    "also printing the result to the screen.'''\n",
    "\n",
    "class ClassOne(object):\n",
    "    def __init__(self, p1, p2):\n",
    "        self.p1 = p1\n",
    "        self.p2 = p2\n",
    "    \n",
    "    def square(self, p3):\n",
    "        print(p3 ** 2)\n",
    " \n",
    "p = ClassOne(1, 2)\n",
    " \n",
    "print(hasattr(p, 'p2'))"
   ]
  },
  {
   "cell_type": "code",
   "execution_count": 159,
   "id": "9ecc8111",
   "metadata": {},
   "outputs": [
    {
     "data": {
      "text/plain": [
       "[1, 2, 3, 4, 5]"
      ]
     },
     "execution_count": 159,
     "metadata": {},
     "output_type": "execute_result"
    }
   ],
   "source": [
    "'''Use the correct function from the itertools module on line 6, in between the parentheses of list(), in order to concatenate list1 and list2.'''\n",
    "\n",
    "import itertools\n",
    " \n",
    "list1 = [1, 2, 3]\n",
    "list2 = [4, 5]\n",
    " \n",
    "result = list(itertools.chain(list1, list2))\n",
    " \n",
    "print(result)"
   ]
  },
  {
   "cell_type": "code",
   "execution_count": 160,
   "id": "5206b504",
   "metadata": {},
   "outputs": [],
   "source": [
    "'''Use the correct function from the itertools module with a for loop and a nested if/else block in order to return all the numbers \n",
    "starting at 20 and up to 31 with a step of 2. Be careful not to end up with an infinite loop!'''\n",
    "\n",
    "import itertools\n",
    " \n",
    "for i in itertools.count(20, 2):\n",
    "    if i < 31:\n",
    "        print(i)\n",
    "    else:\n",
    "        break"
   ]
  },
  {
   "cell_type": "code",
   "execution_count": 161,
   "id": "f49f0b01",
   "metadata": {},
   "outputs": [
    {
     "data": {
      "text/plain": [
       "[5, 6, 7, 8, 9]"
      ]
     },
     "execution_count": 161,
     "metadata": {},
     "output_type": "execute_result"
    }
   ],
   "source": [
    "'''Use the correct function from the itertools module on line 5, in between the parentheses of list(), in order to return the elements \n",
    "for which the lambda function given as an argument returns False.'''\n",
    "\n",
    "import itertools\n",
    " \n",
    "lam = lambda x: x < 5\n",
    " \n",
    "result = list(itertools.filterfalse(lam, range(10)))\n",
    " \n",
    "print(result)"
   ]
  },
  {
   "cell_type": "code",
   "execution_count": 171,
   "id": "be0c8957",
   "metadata": {},
   "outputs": [
    {
     "data": {
      "text/plain": [
       "450"
      ]
     },
     "execution_count": 171,
     "metadata": {},
     "output_type": "execute_result"
    }
   ],
   "source": [
    "class ClassOne(object):\n",
    "    def __init__(self, p1, p2):\n",
    "        self.p1 = p1\n",
    "        self.p2 = p2\n",
    "    \n",
    "    def square(self, p3):\n",
    "        print(p3 ** 2)\n",
    " \n",
    "class ClassTwo(ClassOne):\n",
    "    def times10(self, x):\n",
    "        return x * 10\n",
    "        \n",
    "obj = ClassTwo(15, 25)\n",
    " \n",
    "print(obj.times10(45))"
   ]
  },
  {
   "cell_type": "code",
   "execution_count": 4,
   "id": "7d377289",
   "metadata": {},
   "outputs": [
    {
     "name": "stdout",
     "output_type": "stream",
     "text": [
      "10\n",
      "<class 'decimal.Decimal'>\n"
     ]
    }
   ],
   "source": [
    "import decimal\n",
    "inter = 10\n",
    "print(decimal.Decimal(inter))\n",
    "print(type(decimal.Decimal(inter)))"
   ]
  },
  {
   "cell_type": "code",
   "execution_count": 5,
   "id": "12f362dd",
   "metadata": {},
   "outputs": [
    {
     "name": "stdout",
     "output_type": "stream",
     "text": [
      "12345\n",
      "<class 'decimal.Decimal'>\n"
     ]
    }
   ],
   "source": [
    "import decimal\n",
    "intstr = '12345'\n",
    "print(decimal.Decimal(intstr))\n",
    "print(type(decimal.Decimal(intstr)))"
   ]
  },
  {
   "cell_type": "code",
   "execution_count": 9,
   "id": "9ef165f0",
   "metadata": {},
   "outputs": [
    {
     "name": "stdout",
     "output_type": "stream",
     "text": [
      "lutarP ma I\n"
     ]
    }
   ],
   "source": [
    "string = \"I am Pratul\"\n",
    "print(string[::-1])"
   ]
  },
  {
   "cell_type": "code",
   "execution_count": 27,
   "id": "a2713a8e",
   "metadata": {},
   "outputs": [
    {
     "name": "stdout",
     "output_type": "stream",
     "text": [
      "p , consonent found!!\n",
      "r , consonent found!!\n",
      "t , consonent found!!\n",
      "l , consonent found!!\n",
      "4\n",
      "All Done !!\n"
     ]
    }
   ],
   "source": [
    "word = \"pratul\"\n",
    "\n",
    "vowel = [\"a\", \"e\", \"i\", \"o\", \"u\"]\n",
    "\n",
    "vowel_count = 0\n",
    "\n",
    "for i in word:\n",
    "    if i not in vowel:\n",
    "        print(i , \",\" , \"consonent found!!\")\n",
    "        vowel_count += 1\n",
    "   \n",
    "\n",
    "print(vowel_count)\n",
    "\n",
    "print(\"All Done !!\")\n"
   ]
  },
  {
   "cell_type": "code",
   "execution_count": 24,
   "id": "55155360",
   "metadata": {},
   "outputs": [
    {
     "name": "stdout",
     "output_type": "stream",
     "text": [
      "h , Consonent Found !!\n",
      "v , Consonent Found !!\n",
      "2\n",
      "All Done !!\n"
     ]
    }
   ],
   "source": [
    "word = \"MahaDev\"\n",
    "\n",
    "# vowel = [\"a\", \"e\", \"i\", \"o\", \"u\"] \n",
    "consonants = [\n",
    "    \"b\", \"c\", \"d\", \"f\", \"g\", \n",
    "    \"h\", \"j\", \"k\", \"l\", \"m\", \n",
    "    \"n\", \"p\", \"q\", \"r\", \"s\", \n",
    "    \"t\", \"v\", \"w\", \"x\", \"y\", \"z\"\n",
    "]\n",
    "\n",
    "consonent_count = 0\n",
    "\n",
    "for i in consonants:\n",
    "    if i in word:\n",
    "        print(i, \",\", \"Consonent Found !!\")\n",
    "        consonent_count += 1\n",
    "\n",
    "print(consonent_count)\n",
    "print(\"All Done !!\")"
   ]
  },
  {
   "cell_type": "code",
   "execution_count": 34,
   "id": "92a66fd8",
   "metadata": {},
   "outputs": [
    {
     "name": "stdout",
     "output_type": "stream",
     "text": [
      "2\n"
     ]
    }
   ],
   "source": [
    "word = \"Programming\"\n",
    "\n",
    "count = 0 \n",
    "\n",
    "for i in word:\n",
    "    if i == \"g\":\n",
    "        count += 1\n",
    "        #print(i)\n",
    "print(count)"
   ]
  },
  {
   "cell_type": "code",
   "execution_count": 37,
   "id": "cfe66ba0",
   "metadata": {},
   "outputs": [
    {
     "name": "stdout",
     "output_type": "stream",
     "text": [
      "6\n"
     ]
    }
   ],
   "source": [
    "s = \"pratul\"\n",
    "\n",
    "print(len(s))\n",
    "\n"
   ]
  },
  {
   "cell_type": "code",
   "execution_count": 59,
   "id": "ac99a349",
   "metadata": {},
   "outputs": [
    {
     "name": "stdout",
     "output_type": "stream",
     "text": [
      "r\n"
     ]
    }
   ],
   "source": [
    "s = \"pratul\"\n",
    "i = 1\n",
    "\n",
    "if len(s) == 0:\n",
    "    print(\"Empty String\")\n",
    "elif i < len(s):\n",
    "    print(s[i])\n",
    "else:\n",
    "    print(\"i is out of range\")\n"
   ]
  },
  {
   "cell_type": "code",
   "execution_count": 60,
   "id": "72763d6b",
   "metadata": {},
   "outputs": [
    {
     "name": "stdout",
     "output_type": "stream",
     "text": [
      "lutarp\n"
     ]
    }
   ],
   "source": [
    "S = \"\"\n",
    "print(s[::-1])"
   ]
  },
  {
   "cell_type": "code",
   "execution_count": 5,
   "id": "afd9d376",
   "metadata": {},
   "outputs": [
    {
     "name": "stdout",
     "output_type": "stream",
     "text": [
      "Praatt\n"
     ]
    }
   ],
   "source": [
    "'''Write a Python program that prints the first and last three characters of the string s as a single string.\n",
    "\n",
    "If the string has less than six characters, print an empty string (blank output).'''\n",
    "\n",
    "s = \"Pratul Bhatt\"\n",
    "\n",
    "if len(s) > 6:\n",
    "    print(s[:3] + s[-3:])\n",
    "else:\n",
    "    print(\"\")"
   ]
  },
  {
   "cell_type": "code",
   "execution_count": 54,
   "id": "a80e51cb",
   "metadata": {},
   "outputs": [
    {
     "name": "stdout",
     "output_type": "stream",
     "text": [
      "a , 1\n",
      "H , 3\n",
      "r , 5\n",
      "a , 7\n",
      "a , 9\n",
      "e , 11\n",
      "['a', 'H', 'r', 'a', 'a', 'e']\n",
      "aHraae\n"
     ]
    }
   ],
   "source": [
    "'''Write a Python program that prints the string s without the characters located at even indices.\n",
    "\n",
    "If the string is empty or only has one character, print it without any changes.'''\n",
    "\n",
    "s = \"HarHarMahaDev\"\n",
    "n = []\n",
    "\n",
    "if len(s) <= 1:\n",
    "      print(s)\n",
    "else:\n",
    "    for i in range(len(s)):\n",
    "            if i % 2 != 0:\n",
    "                print(s[i], \",\", str(i))\n",
    "                n += s[i]\n",
    "    print(n)\n",
    "    print(''.join(n))"
   ]
  },
  {
   "cell_type": "code",
   "execution_count": 55,
   "id": "946f6469",
   "metadata": {},
   "outputs": [
    {
     "name": "stdout",
     "output_type": "stream",
     "text": [
      "a , 1\n",
      "H , 3\n",
      "r , 5\n",
      "a , 7\n",
      "a , 9\n",
      "e , 11\n",
      "aHraae\n"
     ]
    }
   ],
   "source": [
    "s = \"HarHarMahaDev\"\n",
    "n = \"\"\n",
    "\n",
    "if len(s) <= 1:\n",
    "      print(s)\n",
    "else:\n",
    "    for i in range(len(s)):\n",
    "            if i % 2 != 0:\n",
    "                print(s[i], \",\", str(i))\n",
    "                n += s[i]\n",
    "    print(n)"
   ]
  },
  {
   "cell_type": "code",
   "execution_count": 62,
   "id": "1f9770c0",
   "metadata": {},
   "outputs": [
    {
     "name": "stdout",
     "output_type": "stream",
     "text": [
      "True\n"
     ]
    }
   ],
   "source": [
    "'''Write a Python program that check if a string only contains numbers.\n",
    "\n",
    "If it does, print True. Else, print False.'''\n",
    "\n",
    "s = \"12345\"\n",
    "\n",
    "while s.isdecimal() is True:\n",
    "    print(\"True\")\n",
    "    break\n",
    "else:\n",
    "    print(\"False\")"
   ]
  },
  {
   "cell_type": "code",
   "execution_count": 77,
   "id": "ef471c3c",
   "metadata": {},
   "outputs": [
    {
     "name": "stdout",
     "output_type": "stream",
     "text": [
      "PATULharharMahadev\n"
     ]
    }
   ],
   "source": [
    "'''Write a Python program that prints the string s without the character at index n.\n",
    "\n",
    "If the index n is out of range, print the string s intact.\n",
    "\n",
    "If the string s is empty, print the string s intact.'''\n",
    "\n",
    "\n",
    "s = \"PRATULharharMahadev\"\n",
    "n = 1\n",
    "\n",
    "new = \"\"\n",
    "\n",
    "if len(s) <= 1:\n",
    "    print(s)\n",
    "if n > len(s):\n",
    "    print(s)\n",
    "else:\n",
    "    for i in range(len(s)):\n",
    "        if i == n:\n",
    "            continue\n",
    "        new += str(s[i])\n",
    "    print(new)"
   ]
  },
  {
   "cell_type": "code",
   "execution_count": null,
   "id": "92496b41",
   "metadata": {},
   "outputs": [],
   "source": [
    "S"
   ]
  }
 ],
 "metadata": {
  "kernelspec": {
   "display_name": "venv",
   "language": "python",
   "name": "python3"
  },
  "language_info": {
   "codemirror_mode": {
    "name": "ipython",
    "version": 3
   },
   "file_extension": ".py",
   "mimetype": "text/x-python",
   "name": "python",
   "nbconvert_exporter": "python",
   "pygments_lexer": "ipython3",
   "version": "3.13.5"
  }
 },
 "nbformat": 4,
 "nbformat_minor": 5
}
