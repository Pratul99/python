{
 "cells": [
  {
   "cell_type": "code",
   "execution_count": 4,
   "id": "09c1770f",
   "metadata": {},
   "outputs": [
    {
     "name": "stdout",
     "output_type": "stream",
     "text": [
      "Jai Bhairava Baba\n"
     ]
    }
   ],
   "source": [
    "print(\"Jai Bhairava Baba\")"
   ]
  },
  {
   "cell_type": "code",
   "execution_count": 10,
   "id": "e1b924d2",
   "metadata": {},
   "outputs": [
    {
     "name": "stdout",
     "output_type": "stream",
     "text": [
      "12\n",
      "<class 'int'>\n"
     ]
    },
    {
     "data": {
      "text/plain": [
       "int"
      ]
     },
     "execution_count": 10,
     "metadata": {},
     "output_type": "execute_result"
    }
   ],
   "source": [
    "a= 12\n",
    "print(a)\n",
    "print(type(a))\n",
    "type(a)"
   ]
  },
  {
   "cell_type": "code",
   "execution_count": 12,
   "id": "1945a40f",
   "metadata": {},
   "outputs": [
    {
     "data": {
      "text/plain": [
       "140735086808744"
      ]
     },
     "execution_count": 12,
     "metadata": {},
     "output_type": "execute_result"
    }
   ],
   "source": [
    "# To find location of a variable\n",
    "i = 89\n",
    "id(i)"
   ]
  },
  {
   "cell_type": "markdown",
   "id": "c1adbab6",
   "metadata": {},
   "source": [
    "''' Everything in python is an object, and object is part of some class\n",
    "ex. <class 'int'>, <class 'float'>'''"
   ]
  },
  {
   "cell_type": "code",
   "execution_count": 15,
   "id": "bcb6956c",
   "metadata": {},
   "outputs": [
    {
     "name": "stdout",
     "output_type": "stream",
     "text": [
      "True\n",
      "<class 'bool'>\n"
     ]
    }
   ],
   "source": [
    "my_var = True\n",
    "print(my_var)\n",
    "print(type(my_var))"
   ]
  },
  {
   "cell_type": "code",
   "execution_count": null,
   "id": "808e425f",
   "metadata": {},
   "outputs": [],
   "source": [
    "# input() will always return a str value.\n",
    "name = input(\"Enter your name : \")\n",
    "\n",
    "print(name)\n",
    "print(type(name))"
   ]
  },
  {
   "cell_type": "code",
   "execution_count": 8,
   "id": "81d1173f",
   "metadata": {},
   "outputs": [
    {
     "name": "stdout",
     "output_type": "stream",
     "text": [
      "21\n",
      "21\n"
     ]
    }
   ],
   "source": [
    "# Multi line statement\n",
    "a = 1 + 2 + \\\n",
    "    3 + 4 + \\\n",
    "    5 + 6\n",
    "\n",
    "#or\n",
    "\n",
    "b = (1 + 2 + \n",
    "    3 + 4 + \n",
    "    5 + 6 )\n",
    "\n",
    "print(a)\n",
    "print(b)\n",
    "    "
   ]
  },
  {
   "cell_type": "code",
   "execution_count": 51,
   "id": "78b80ce2",
   "metadata": {},
   "outputs": [
    {
     "name": "stdout",
     "output_type": "stream",
     "text": [
      "Who is Bhatt & Ji\n"
     ]
    }
   ],
   "source": [
    "# Output Formating  \n",
    "# {} -->> This is called placeholder\n",
    "\n",
    "c = \"Bhatt\"\n",
    "d = \"Ji\"\n",
    "\n",
    "print(\"Who is {1} & {0}\".format(d,c))\n",
    "\n",
    "# or\n",
    "\n",
    "#print(\"Who is {a} & {b}\".format(a=\"Bhatt\",b=\"Ji\"))"
   ]
  },
  {
   "cell_type": "markdown",
   "id": "8bbc5c15",
   "metadata": {},
   "source": [
    "- Python does not impose a maximum length on identifiers; they can be as long as needed\n",
    "\n",
    "- Identifiers in Python are the names used to identify:\n",
    "\n",
    "Variables,\n",
    "Functions,\n",
    "Classes,\n",
    "Modules,\n",
    "Objects, etc."
   ]
  },
  {
   "cell_type": "code",
   "execution_count": 23,
   "id": "8b5e19c3",
   "metadata": {},
   "outputs": [
    {
     "name": "stdout",
     "output_type": "stream",
     "text": [
      "Fahrenheit : 62.6\n"
     ]
    }
   ],
   "source": [
    "celsius = 17\n",
    "fahrenheit = (celsius * 9/5) + 32\n",
    "\n",
    "print(\"Fahrenheit :\", fahrenheit) "
   ]
  },
  {
   "cell_type": "code",
   "execution_count": 29,
   "id": "2984ad95",
   "metadata": {},
   "outputs": [
    {
     "data": {
      "text/plain": [
       "'0b1010'"
      ]
     },
     "execution_count": 29,
     "metadata": {},
     "output_type": "execute_result"
    }
   ],
   "source": [
    "# bitwise\n",
    "bin(10)"
   ]
  },
  {
   "cell_type": "code",
   "execution_count": 30,
   "id": "aeb8148e",
   "metadata": {},
   "outputs": [
    {
     "data": {
      "text/plain": [
       "'0b10001'"
      ]
     },
     "execution_count": 30,
     "metadata": {},
     "output_type": "execute_result"
    }
   ],
   "source": [
    "bin(17)"
   ]
  },
  {
   "cell_type": "code",
   "execution_count": null,
   "id": "7a16d852",
   "metadata": {},
   "outputs": [
    {
     "data": {
      "text/plain": [
       "0"
      ]
     },
     "execution_count": 39,
     "metadata": {},
     "output_type": "execute_result"
    }
   ],
   "source": [
    "# And\n",
    "10 & 17\n"
   ]
  },
  {
   "cell_type": "code",
   "execution_count": null,
   "id": "055b3bb0",
   "metadata": {},
   "outputs": [
    {
     "data": {
      "text/plain": [
       "27"
      ]
     },
     "execution_count": 37,
     "metadata": {},
     "output_type": "execute_result"
    }
   ],
   "source": [
    "# or\n",
    "10 | 17"
   ]
  },
  {
   "cell_type": "code",
   "execution_count": null,
   "id": "afd97414",
   "metadata": {},
   "outputs": [
    {
     "data": {
      "text/plain": [
       "27"
      ]
     },
     "execution_count": 38,
     "metadata": {},
     "output_type": "execute_result"
    }
   ],
   "source": [
    "# xor \n",
    "10 ^ 17"
   ]
  },
  {
   "cell_type": "markdown",
   "id": "c96cf325",
   "metadata": {},
   "source": [
    "🔁 Operators with Left-to-Right Associativity:\n",
    "\n",
    "| Operator Type             | Example           | \n",
    "| ------------------------- | ----------------- | \n",
    "| Arithmetic                | `+ - * / // %`    |   \n",
    "| Bitwise                   | \\`&               | \n",
    "| Comparison                | `== != > < >= <=` | \n",
    "| Logical                   | `and or`          |  \n",
    "| Sequence Index/Slice      | `mylist[1:3]`     | \n",
    "| Membership/Identity Tests | `in, is`          | \n"
   ]
  },
  {
   "cell_type": "markdown",
   "id": "99a8a728",
   "metadata": {},
   "source": [
    "🔁 Operators with Right-to-Left Associativity:\n",
    "\n",
    "| Operator Type         | Example            |\n",
    "| --------------------- | ------------------ |\n",
    "| Assignment            | `= += -= *=`       |\n",
    "| Exponentiation        | `**`               |\n",
    "| Ternary (conditional) | `x if cond else y` |\n"
   ]
  },
  {
   "cell_type": "code",
   "execution_count": 44,
   "id": "54c7db55",
   "metadata": {},
   "outputs": [
    {
     "name": "stdout",
     "output_type": "stream",
     "text": [
      "t\n"
     ]
    },
    {
     "data": {
      "text/plain": [
       "\"\\nExplanation\\nmy_list = ['f', 't']\\nindex = bool('spam')  # True → 1\\nprint(my_list[index])  # → my_list[1] → 't'\\n\""
      ]
     },
     "execution_count": 44,
     "metadata": {},
     "output_type": "execute_result"
    }
   ],
   "source": [
    "print(['f', 't'][bool('spam')])\n",
    "\n",
    "'''\n",
    "Explanation\n",
    "my_list = ['f', 't']\n",
    "index = bool('spam')  # True → 1\n",
    "print(my_list[index])  # → my_list[1] → 't'\n",
    "'''"
   ]
  },
  {
   "cell_type": "code",
   "execution_count": 45,
   "id": "1f905f96",
   "metadata": {},
   "outputs": [
    {
     "data": {
      "text/plain": [
       "4"
      ]
     },
     "execution_count": 45,
     "metadata": {},
     "output_type": "execute_result"
    }
   ],
   "source": [
    "num1 = 5 \n",
    "num2 = 4\n",
    "\n",
    "bin(num1)\n",
    "bin(num2)\n",
    "\n",
    "num1 & num2"
   ]
  },
  {
   "cell_type": "code",
   "execution_count": 48,
   "id": "8a051c74",
   "metadata": {},
   "outputs": [
    {
     "name": "stdout",
     "output_type": "stream",
     "text": [
      "240.0\n"
     ]
    }
   ],
   "source": [
    "P = 2000\n",
    "R = 3\n",
    "T = 4\n",
    "\n",
    "print((P * R * T)/100)"
   ]
  },
  {
   "cell_type": "code",
   "execution_count": null,
   "id": "60a4c6d6",
   "metadata": {},
   "outputs": [],
   "source": []
  }
 ],
 "metadata": {
  "kernelspec": {
   "display_name": "venv",
   "language": "python",
   "name": "python3"
  },
  "language_info": {
   "codemirror_mode": {
    "name": "ipython",
    "version": 3
   },
   "file_extension": ".py",
   "mimetype": "text/x-python",
   "name": "python",
   "nbconvert_exporter": "python",
   "pygments_lexer": "ipython3",
   "version": "3.13.5"
  }
 },
 "nbformat": 4,
 "nbformat_minor": 5
}
