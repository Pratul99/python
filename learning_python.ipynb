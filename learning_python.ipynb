{
 "cells": [
  {
   "cell_type": "code",
   "execution_count": 4,
   "id": "09c1770f",
   "metadata": {},
   "outputs": [
    {
     "name": "stdout",
     "output_type": "stream",
     "text": [
      "Jai Bhairava Baba\n"
     ]
    }
   ],
   "source": [
    "print(\"Jai Bhairava Baba\")"
   ]
  },
  {
   "cell_type": "code",
   "execution_count": 10,
   "id": "e1b924d2",
   "metadata": {},
   "outputs": [
    {
     "name": "stdout",
     "output_type": "stream",
     "text": [
      "12\n",
      "<class 'int'>\n"
     ]
    },
    {
     "data": {
      "text/plain": [
       "int"
      ]
     },
     "execution_count": 10,
     "metadata": {},
     "output_type": "execute_result"
    }
   ],
   "source": [
    "a= 12\n",
    "print(a)\n",
    "print(type(a))\n",
    "type(a)"
   ]
  },
  {
   "cell_type": "code",
   "execution_count": 12,
   "id": "1945a40f",
   "metadata": {},
   "outputs": [
    {
     "data": {
      "text/plain": [
       "140735086808744"
      ]
     },
     "execution_count": 12,
     "metadata": {},
     "output_type": "execute_result"
    }
   ],
   "source": [
    "# To find location of a variable\n",
    "i = 89\n",
    "id(i)"
   ]
  },
  {
   "cell_type": "markdown",
   "id": "c1adbab6",
   "metadata": {},
   "source": [
    "''' Everything in python is an object, and object is part of some class\n",
    "ex. <class 'int'>, <class 'float'>'''"
   ]
  },
  {
   "cell_type": "code",
   "execution_count": 15,
   "id": "bcb6956c",
   "metadata": {},
   "outputs": [
    {
     "name": "stdout",
     "output_type": "stream",
     "text": [
      "True\n",
      "<class 'bool'>\n"
     ]
    }
   ],
   "source": [
    "my_var = True\n",
    "print(my_var)\n",
    "print(type(my_var))"
   ]
  },
  {
   "cell_type": "code",
   "execution_count": null,
   "id": "808e425f",
   "metadata": {},
   "outputs": [],
   "source": [
    "# input() will always return a str value.\n",
    "name = input(\"Enter your name : \")\n",
    "\n",
    "print(name)\n",
    "print(type(name))"
   ]
  },
  {
   "cell_type": "code",
   "execution_count": 8,
   "id": "81d1173f",
   "metadata": {},
   "outputs": [
    {
     "name": "stdout",
     "output_type": "stream",
     "text": [
      "21\n",
      "21\n"
     ]
    }
   ],
   "source": [
    "# Multi line statement\n",
    "a = 1 + 2 + \\\n",
    "    3 + 4 + \\\n",
    "    5 + 6\n",
    "\n",
    "#or\n",
    "\n",
    "b = (1 + 2 + \n",
    "    3 + 4 + \n",
    "    5 + 6 )\n",
    "\n",
    "print(a)\n",
    "print(b)\n",
    "    "
   ]
  },
  {
   "cell_type": "code",
   "execution_count": 51,
   "id": "78b80ce2",
   "metadata": {},
   "outputs": [
    {
     "name": "stdout",
     "output_type": "stream",
     "text": [
      "Who is Bhatt & Ji\n"
     ]
    }
   ],
   "source": [
    "# Output Formating  \n",
    "# {} -->> This is called placeholder\n",
    "\n",
    "c = \"Bhatt\"\n",
    "d = \"Ji\"\n",
    "\n",
    "print(\"Who is {1} & {0}\".format(d,c))\n",
    "\n",
    "# or\n",
    "\n",
    "#print(\"Who is {a} & {b}\".format(a=\"Bhatt\",b=\"Ji\"))"
   ]
  },
  {
   "cell_type": "markdown",
   "id": "8bbc5c15",
   "metadata": {},
   "source": [
    "- Python does not impose a maximum length on identifiers; they can be as long as needed\n",
    "\n",
    "- Identifiers in Python are the names used to identify:\n",
    "\n",
    "Variables,\n",
    "Functions,\n",
    "Classes,\n",
    "Modules,\n",
    "Objects, etc."
   ]
  },
  {
   "cell_type": "code",
   "execution_count": 23,
   "id": "8b5e19c3",
   "metadata": {},
   "outputs": [
    {
     "name": "stdout",
     "output_type": "stream",
     "text": [
      "Fahrenheit : 62.6\n"
     ]
    }
   ],
   "source": [
    "celsius = 17\n",
    "fahrenheit = (celsius * 9/5) + 32\n",
    "\n",
    "print(\"Fahrenheit :\", fahrenheit) "
   ]
  },
  {
   "cell_type": "code",
   "execution_count": 29,
   "id": "2984ad95",
   "metadata": {},
   "outputs": [
    {
     "data": {
      "text/plain": [
       "'0b1010'"
      ]
     },
     "execution_count": 29,
     "metadata": {},
     "output_type": "execute_result"
    }
   ],
   "source": [
    "# bitwise\n",
    "bin(10)"
   ]
  },
  {
   "cell_type": "code",
   "execution_count": 30,
   "id": "aeb8148e",
   "metadata": {},
   "outputs": [
    {
     "data": {
      "text/plain": [
       "'0b10001'"
      ]
     },
     "execution_count": 30,
     "metadata": {},
     "output_type": "execute_result"
    }
   ],
   "source": [
    "bin(17)"
   ]
  },
  {
   "cell_type": "code",
   "execution_count": null,
   "id": "7a16d852",
   "metadata": {},
   "outputs": [
    {
     "data": {
      "text/plain": [
       "0"
      ]
     },
     "execution_count": 39,
     "metadata": {},
     "output_type": "execute_result"
    }
   ],
   "source": [
    "# And\n",
    "\"\"\"\n",
    "Rule: 1 & 1 = 1, all other combinations = 0\n",
    "Only 1 & 1 gives 1; everything else gives 0.\n",
    "\"\"\"\n",
    "\n",
    "10 & 17\n"
   ]
  },
  {
   "cell_type": "code",
   "execution_count": null,
   "id": "055b3bb0",
   "metadata": {},
   "outputs": [
    {
     "data": {
      "text/plain": [
       "27"
      ]
     },
     "execution_count": 37,
     "metadata": {},
     "output_type": "execute_result"
    }
   ],
   "source": [
    "# or\n",
    "\"\"\"\n",
    "Rule: 0 | 0 = 0, all other combinations = 1\n",
    "If either bit is 1, result is 1.\n",
    "\"\"\"\n",
    "\n",
    "10 | 17"
   ]
  },
  {
   "cell_type": "code",
   "execution_count": null,
   "id": "afd97414",
   "metadata": {},
   "outputs": [
    {
     "data": {
      "text/plain": [
       "27"
      ]
     },
     "execution_count": 38,
     "metadata": {},
     "output_type": "execute_result"
    }
   ],
   "source": [
    "# xor \n",
    "\"\"\"\n",
    "Rule: 1 ^ 1 = 0, 0 ^ 0 = 0, 1 ^ 0 = 1, 0 ^ 1 = 1\n",
    "Result is 1 only if bits are different.\n",
    "\"\"\"\n",
    "\n",
    "10 ^ 17"
   ]
  },
  {
   "cell_type": "markdown",
   "id": "c96cf325",
   "metadata": {},
   "source": [
    "🔁 Operators with Left-to-Right Associativity:\n",
    "\n",
    "| Operator Type             | Example           | \n",
    "| ------------------------- | ----------------- | \n",
    "| Arithmetic                | `+ - * / // %`    |   \n",
    "| Bitwise                   | \\`&               | \n",
    "| Comparison                | `== != > < >= <=` | \n",
    "| Logical                   | `and or`          |  \n",
    "| Sequence Index/Slice      | `mylist[1:3]`     | \n",
    "| Membership/Identity Tests | `in, is`          | \n"
   ]
  },
  {
   "cell_type": "markdown",
   "id": "99a8a728",
   "metadata": {},
   "source": [
    "🔁 Operators with Right-to-Left Associativity:\n",
    "\n",
    "| Operator Type         | Example            |\n",
    "| --------------------- | ------------------ |\n",
    "| Assignment            | `= += -= *=`       |\n",
    "| Exponentiation        | `**`               |\n",
    "| Ternary (conditional) | `x if cond else y` |\n"
   ]
  },
  {
   "cell_type": "code",
   "execution_count": 44,
   "id": "54c7db55",
   "metadata": {},
   "outputs": [
    {
     "name": "stdout",
     "output_type": "stream",
     "text": [
      "t\n"
     ]
    },
    {
     "data": {
      "text/plain": [
       "\"\\nExplanation\\nmy_list = ['f', 't']\\nindex = bool('spam')  # True → 1\\nprint(my_list[index])  # → my_list[1] → 't'\\n\""
      ]
     },
     "execution_count": 44,
     "metadata": {},
     "output_type": "execute_result"
    }
   ],
   "source": [
    "print(['f', 't'][bool('spam')])\n",
    "\n",
    "'''\n",
    "Explanation\n",
    "my_list = ['f', 't']\n",
    "index = bool('spam')  # True → 1\n",
    "print(my_list[index])  # → my_list[1] → 't'\n",
    "'''"
   ]
  },
  {
   "cell_type": "code",
   "execution_count": 45,
   "id": "1f905f96",
   "metadata": {},
   "outputs": [
    {
     "data": {
      "text/plain": [
       "4"
      ]
     },
     "execution_count": 45,
     "metadata": {},
     "output_type": "execute_result"
    }
   ],
   "source": [
    "num1 = 5 \n",
    "num2 = 4\n",
    "\n",
    "bin(num1)\n",
    "bin(num2)\n",
    "\n",
    "num1 & num2"
   ]
  },
  {
   "cell_type": "code",
   "execution_count": 48,
   "id": "8a051c74",
   "metadata": {},
   "outputs": [
    {
     "name": "stdout",
     "output_type": "stream",
     "text": [
      "240.0\n"
     ]
    }
   ],
   "source": [
    "P = 2000\n",
    "R = 3\n",
    "T = 4\n",
    "\n",
    "print((P * R * T)/100)"
   ]
  },
  {
   "cell_type": "markdown",
   "id": "6f6069a3",
   "metadata": {},
   "source": [
    "Python program to find the largest element among three numbers"
   ]
  },
  {
   "cell_type": "code",
   "execution_count": 56,
   "id": "60a4c6d6",
   "metadata": {},
   "outputs": [
    {
     "name": "stdout",
     "output_type": "stream",
     "text": [
      "Largest of given three numbers is 17\n"
     ]
    }
   ],
   "source": [
    "'''num1 = 1\n",
    "num2 = 4\n",
    "num3 = 17\n",
    "\n",
    "if((num1 >= num2) and (num1 >= num3)):\n",
    "    print(\"num1 is largest of given three numbers\")\n",
    "elif((num2 >= num1) and (num2 >= num3)):\n",
    "    print(\"num2 is largest of given three numbers\")\n",
    "else:\n",
    "    print(\"num3 is largest of given three numbers\")\n",
    "'''\n",
    "\n",
    "num1 = 1\n",
    "num2 = 4\n",
    "num3 = 17\n",
    "\n",
    "if((num1 >= num2) and (num1 >= num3)):\n",
    "    largest = num1\n",
    "elif((num2 >= num1) and (num2 >= num3)):\n",
    "    largest = num2\n",
    "else:\n",
    "    largest = num3\n",
    "print(\"Largest of given three numbers is {}\".format(largest))"
   ]
  },
  {
   "cell_type": "code",
   "execution_count": 63,
   "id": "72ef8067",
   "metadata": {},
   "outputs": [
    {
     "name": "stdout",
     "output_type": "stream",
     "text": [
      "It's a leap year\n"
     ]
    }
   ],
   "source": [
    "'''\n",
    "A year is a leap year if:\n",
    "\n",
    "It is divisible by 4 and not divisible by 100, or\n",
    "\n",
    "It is divisible by 400\n",
    "'''\n",
    "\n",
    "input = 2012\n",
    "\n",
    "if(input % 4 == 0 and input % 100 !=0) or (input % 400 == 0):\n",
    "    print(\"It's a leap year\")\n",
    "else:\n",
    "    print(\"It is a regular year.\")\n"
   ]
  },
  {
   "cell_type": "code",
   "execution_count": 65,
   "id": "ef0d5c14",
   "metadata": {},
   "outputs": [
    {
     "name": "stdout",
     "output_type": "stream",
     "text": [
      "Leap year\n",
      "Not a leap year\n"
     ]
    }
   ],
   "source": [
    "def is_leap_year(year):\n",
    "    if (year % 4 == 0 and year % 100 != 0) or (year % 400 == 0):\n",
    "        return \"Leap year\"\n",
    "    else:\n",
    "        return \"Not a leap year\"\n",
    "\n",
    "print(is_leap_year(2012))  # Output: Leap year\n",
    "print(is_leap_year(2017))  # Output: Not a leap year"
   ]
  },
  {
   "cell_type": "code",
   "execution_count": 72,
   "id": "fae391e5",
   "metadata": {},
   "outputs": [
    {
     "name": "stdout",
     "output_type": "stream",
     "text": [
      "* \n",
      "* * \n",
      "* * * \n",
      "* * * * \n",
      "* * * * * \n",
      "* * * * * * \n",
      "* * * * * * * \n",
      "* * * * * * * * \n",
      "* * * * * * * * * \n",
      "* * * * * * * * * * \n",
      "* * * * * * * * * * * \n",
      "* * * * * * * * * * * * \n",
      "* * * * * * * * * * * * * \n",
      "* * * * * * * * * * * * * * \n",
      "* * * * * * * * * * * * * * * \n",
      "* * * * * * * * * * * * * * * * \n",
      "* * * * * * * * * * * * * * * * * \n"
     ]
    }
   ],
   "source": [
    "n=17\n",
    "\n",
    "for row in range(1, n+1):\n",
    "    for j in range(1, row+1):\n",
    "        print(\"*\", end=\" \")\n",
    "    print()"
   ]
  },
  {
   "cell_type": "code",
   "execution_count": 76,
   "id": "fd46cc30",
   "metadata": {},
   "outputs": [
    {
     "name": "stdout",
     "output_type": "stream",
     "text": [
      "*****\n",
      "****\n",
      "***\n",
      "**\n",
      "*\n"
     ]
    }
   ],
   "source": [
    "n=5\n",
    "for row in range(n, 0, -1):\n",
    "    print(\"*\"*(row))"
   ]
  },
  {
   "cell_type": "code",
   "execution_count": 81,
   "id": "a6654169",
   "metadata": {},
   "outputs": [
    {
     "name": "stdout",
     "output_type": "stream",
     "text": [
      "*********\n",
      " *******\n",
      "  *****\n",
      "   ***\n",
      "    *\n"
     ]
    }
   ],
   "source": [
    "#Centered Inverted Triangle (Pyramid Style)\n",
    "n = 5\n",
    "for row in range(n, 0, -1):\n",
    "    spaces = n - row\n",
    "    stars = 2 * row - 1\n",
    "    print(\" \" * spaces + \"*\" * stars)\n"
   ]
  },
  {
   "cell_type": "code",
   "execution_count": 109,
   "id": "67b834a1",
   "metadata": {},
   "outputs": [
    {
     "name": "stdout",
     "output_type": "stream",
     "text": [
      "Sum of first 5 number is 15\n"
     ]
    }
   ],
   "source": [
    "s=0\n",
    "n=5\n",
    "for i in range(1, n+1):\n",
    "    s +=i\n",
    "#print(\"Sum of first n mubers is: \", s)\n",
    "print(\"Sum of first {} number is {}\".format(n,s))"
   ]
  },
  {
   "cell_type": "code",
   "execution_count": 94,
   "id": "a9a83103",
   "metadata": {},
   "outputs": [
    {
     "name": "stdout",
     "output_type": "stream",
     "text": [
      "The number 17 is Prime number.\n"
     ]
    }
   ],
   "source": [
    "n = 17\n",
    "is_prime = True\n",
    "\n",
    "for i in range(2,n):\n",
    "    if(n%i == 0):\n",
    "        is_prime = False\n",
    "\n",
    "if(is_prime):\n",
    "    print(\"The number {} is Prime number.\".format(n))\n",
    "else:\n",
    "    print(\"The number {} is not Prime number.\".format(n))"
   ]
  },
  {
   "cell_type": "code",
   "execution_count": null,
   "id": "da4bc96d",
   "metadata": {},
   "outputs": [
    {
     "name": "stdout",
     "output_type": "stream",
     "text": [
      "Sum of all odd number in range 1 to 17 is 81\n"
     ]
    }
   ],
   "source": [
    "N = 17\n",
    "sum_odd = 0\n",
    "\n",
    "for i in range(1, N+1):\n",
    "    if(i%2 != 0):\n",
    "        sum_odd += i\n",
    "print (\"Sum of all odd number in range 1 to {} is {}\".format(N,sum_odd))"
   ]
  },
  {
   "cell_type": "code",
   "execution_count": 133,
   "id": "582e9bda",
   "metadata": {},
   "outputs": [
    {
     "name": "stdout",
     "output_type": "stream",
     "text": [
      "Odd number in range 1 to 17: [1, 3, 5, 7, 9, 11, 13, 15, 17]\n",
      "Sum of all odd number in range 1 to 17 is: 81\n"
     ]
    }
   ],
   "source": [
    "N=17\n",
    "odd_numbers=[]\n",
    "\n",
    "for i in range(1,N+1):\n",
    "    if(i%2 !=0):\n",
    "        odd_numbers.append(i)\n",
    "print(\"Odd number in range 1 to {}:\".format(N), odd_numbers)\n",
    "\n",
    "print(\"Sum of all odd number in range 1 to {} is:\".format(N), sum(odd_numbers))"
   ]
  },
  {
   "cell_type": "code",
   "execution_count": 149,
   "id": "aeca1a8d",
   "metadata": {},
   "outputs": [
    {
     "name": "stdout",
     "output_type": "stream",
     "text": [
      "Total cab fare for distance 25 travelled in time 20 is ₹260\n"
     ]
    }
   ],
   "source": [
    "# Input: distance in km and time in minutes\n",
    "distance = 25\n",
    "time = 20\n",
    "\n",
    "base_price=50\n",
    "free_kms=5\n",
    "per_km_charge=10\n",
    "free_mins=15\n",
    "per_min_change=2\n",
    "\n",
    "# Distance travelled\n",
    "if distance > free_kms:\n",
    "    extra_kms = distance - free_kms\n",
    "    distance_charge = extra_kms * per_km_charge\n",
    "else:\n",
    "    distance_charge = 0 \n",
    "\n",
    "# Time taken\n",
    "if time > free_mins:\n",
    "    extra_time_taken = time - free_mins\n",
    "    time_charge = extra_time_taken * 2\n",
    "else:\n",
    "    time_charge = 0\n",
    "\n",
    "total_fare = base_price + distance_charge + time_charge\n",
    "\n",
    "print(\"Total cab fare for distance {} travelled in time {} is ₹{}\".format(25,20, total_fare))\n"
   ]
  },
  {
   "cell_type": "code",
   "execution_count": 155,
   "id": "8eddad37",
   "metadata": {},
   "outputs": [
    {
     "name": "stdout",
     "output_type": "stream",
     "text": [
      "[5, 4, 3, 2, 1]\n",
      "120\n"
     ]
    }
   ],
   "source": [
    "N=5\n",
    "list=[]\n",
    "\n",
    "for i in range(N, 0, -1):\n",
    "    list.append(i)\n",
    "print(list)\n",
    "\n",
    "product=1\n",
    "for num in list:\n",
    "    product *= num\n",
    "print(product)"
   ]
  },
  {
   "cell_type": "code",
   "execution_count": 156,
   "id": "e7ed7b51",
   "metadata": {},
   "outputs": [
    {
     "name": "stdout",
     "output_type": "stream",
     "text": [
      "120\n"
     ]
    }
   ],
   "source": [
    "N = 5\n",
    "product = 1\n",
    "for i in range(1, N + 1):\n",
    "    product *= i\n",
    "\n",
    "print(product)\n"
   ]
  },
  {
   "cell_type": "code",
   "execution_count": 171,
   "id": "9c321cdf",
   "metadata": {},
   "outputs": [
    {
     "name": "stdout",
     "output_type": "stream",
     "text": [
      "14\n"
     ]
    }
   ],
   "source": [
    "N = 2534\n",
    "total = 0\n",
    "while N > 0:\n",
    "    total += N % 10   # Add last digit\n",
    "    N = N // 10       # Remove last digit\n",
    "\n",
    "print(total)"
   ]
  },
  {
   "cell_type": "code",
   "execution_count": 177,
   "id": "4360b01f",
   "metadata": {},
   "outputs": [
    {
     "name": "stdout",
     "output_type": "stream",
     "text": [
      "The number of vowels in input string are 11.\n"
     ]
    }
   ],
   "source": [
    "cnt=0\n",
    "my_str= \"This is an Input string to count vowels\"\n",
    "for i in my_str:\n",
    "    if i in \"aeiouAEIOU\":\n",
    "        cnt +=1\n",
    "print(\"The number of vowels in input string are {}.\".format(cnt))"
   ]
  },
  {
   "cell_type": "markdown",
   "id": "924c9012",
   "metadata": {},
   "source": [
    "A palindrome string is a string that reads the same forward and backward.\n",
    "\n",
    "ex. \"madam\", \"racecar\""
   ]
  },
  {
   "cell_type": "code",
   "execution_count": 179,
   "id": "2e8b10ef",
   "metadata": {},
   "outputs": [
    {
     "name": "stdout",
     "output_type": "stream",
     "text": [
      "madam is a Palindrome string.\n"
     ]
    }
   ],
   "source": [
    "my_str = \"madam\"\n",
    "rev_str = my_str[::-1]\n",
    "\n",
    "if my_str == rev_str:\n",
    "    print(\"{} is a Palindrome string.\".format(my_str))\n",
    "else:\n",
    "    print(\"{} is not Palindrome string.\".format(my_str))"
   ]
  },
  {
   "cell_type": "code",
   "execution_count": 182,
   "id": "32dddb1a",
   "metadata": {},
   "outputs": [
    {
     "name": "stdout",
     "output_type": "stream",
     "text": [
      "coding is not Palindrome string.\n"
     ]
    }
   ],
   "source": [
    "my_str = \"coding\"\n",
    "start= 0\n",
    "end = len(my_str) -1\n",
    "\n",
    "is_palindrome = True\n",
    "\n",
    "while(start<=end):\n",
    "    if(my_str[start] != my_str[end]):\n",
    "        is_palindrome = False\n",
    "        break\n",
    "\n",
    "    start +=1\n",
    "    end -= 1\n",
    "    \n",
    "if(is_palindrome):\n",
    "    print(\"{} is a Palindrome string.\".format(my_str))\n",
    "else:\n",
    "    print(\"{} is not Palindrome string.\".format(my_str))"
   ]
  },
  {
   "cell_type": "markdown",
   "id": "362902b8",
   "metadata": {},
   "source": [
    "format(x, \"10.4f\")\n",
    "\n",
    "\n",
    "Where:\n",
    "\n",
    "x = 985.3556\n",
    "\n",
    "\"10.4f\" is the format specification string\n",
    "\n",
    "✅ Let's break it down:\n",
    "\"10.4f\" means:\n",
    "f → Fixed-point number (decimal format)\n",
    "\n",
    ".4 → 4 digits after the decimal point\n",
    "\n",
    "10 → Total width of the output (includes digits, decimal point, and spaces)"
   ]
  },
  {
   "cell_type": "code",
   "execution_count": 190,
   "id": "49e32db8",
   "metadata": {},
   "outputs": [
    {
     "name": "stdout",
     "output_type": "stream",
     "text": [
      "Son\n"
     ]
    }
   ],
   "source": [
    "my_str = \"JaSonAy\"\n",
    "\n",
    "middle_index = len(my_str) // 2\n",
    "middle_3 = my_str[(middle_index -1 ):(middle_index + 2)]\n",
    "\n",
    "print(middle_3)"
   ]
  },
  {
   "cell_type": "code",
   "execution_count": 198,
   "id": "a255e86d",
   "metadata": {},
   "outputs": [
    {
     "name": "stdout",
     "output_type": "stream",
     "text": [
      "rauPTL\n"
     ]
    }
   ],
   "source": [
    "st = \"PraTuL\"\n",
    "\n",
    "lowercase = \"\"\n",
    "uppercase = \"\"\n",
    "\n",
    "for char in st:\n",
    "    if char.islower():\n",
    "        lowercase += char\n",
    "    elif char.isupper():\n",
    "        uppercase += char\n",
    "\n",
    "print(lowercase + uppercase)"
   ]
  },
  {
   "cell_type": "code",
   "execution_count": 201,
   "id": "0979874b",
   "metadata": {},
   "outputs": [
    {
     "name": "stdout",
     "output_type": "stream",
     "text": [
      "No\n"
     ]
    }
   ],
   "source": [
    "s1 = \"cdng python\"\n",
    "s2 = \"coding minutes\"\n",
    "\n",
    "i = 0\n",
    "j = 0\n",
    "\n",
    "while(i<len(s1) and j>len(s2)):\n",
    "    if s1[i] == s2[j]:\n",
    "        i +=1\n",
    "    j +=1\n",
    "\n",
    "if i == len(s1):\n",
    "    print(\"Yes\")\n",
    "else: print(\"No\")"
   ]
  },
  {
   "cell_type": "markdown",
   "id": "d821bdca",
   "metadata": {},
   "source": [
    "1. To create a matrix/an empty 2D, 3D (Multi dimension) list we use None.\n",
    "Ex. \n",
    "C = [None, None ][None, None]\n",
    "\n",
    "2. To create empty multi dimensions list of lot of row, columns.\n",
    "[ [None]*10 ]*10"
   ]
  },
  {
   "cell_type": "code",
   "execution_count": 6,
   "id": "7bb11ec1",
   "metadata": {},
   "outputs": [
    {
     "data": {
      "text/plain": [
       "[2, 7, 8, 9, 3, 5]"
      ]
     },
     "execution_count": 6,
     "metadata": {},
     "output_type": "execute_result"
    }
   ],
   "source": [
    "lst = [3, 5, 2, 7,8, 9]\n",
    "steps = 4\n",
    "\n",
    "for _ in range(steps):\n",
    "    n=len(lst)\n",
    "    key = lst[-1]\n",
    "\n",
    "    for i in range(n-1, 0, -1):\n",
    "        lst[i] = lst[i-1]\n",
    "\n",
    "    lst[0]=key\n",
    "\n",
    "lst"
   ]
  },
  {
   "cell_type": "code",
   "execution_count": 8,
   "id": "5a219d95",
   "metadata": {},
   "outputs": [
    {
     "data": {
      "text/plain": [
       "[5, 3, 9, 8, 7, 2]"
      ]
     },
     "execution_count": 8,
     "metadata": {},
     "output_type": "execute_result"
    }
   ],
   "source": [
    "# To reverse a list\n",
    "lst[::-1]"
   ]
  },
  {
   "cell_type": "markdown",
   "id": "b30759cb",
   "metadata": {},
   "source": [
    "Below is not a valid form. i not in a is a condition (i.e., it evaluates to True or False), not something that Python can iterate over."
   ]
  },
  {
   "cell_type": "code",
   "execution_count": 11,
   "id": "94738dd8",
   "metadata": {},
   "outputs": [
    {
     "ename": "SyntaxError",
     "evalue": "invalid syntax (3587516390.py, line 4)",
     "output_type": "error",
     "traceback": [
      "  \u001b[36mCell\u001b[39m\u001b[36m \u001b[39m\u001b[32mIn[11]\u001b[39m\u001b[32m, line 4\u001b[39m\n\u001b[31m    \u001b[39m\u001b[31mfor i not in a:\u001b[39m\n          ^\n\u001b[31mSyntaxError\u001b[39m\u001b[31m:\u001b[39m invalid syntax\n"
     ]
    }
   ],
   "source": [
    "a = [0, 1, 2, 3]\n",
    "i = -2\n",
    "\n",
    "for i not in a:\n",
    "    print(i)\n",
    "    i += 1"
   ]
  },
  {
   "cell_type": "markdown",
   "id": "93f2ade1",
   "metadata": {},
   "source": [
    "To calculate the sum of the principal diagonal (also called the main diagonal) of a 2D square matrix, you sum the elements where the row index == column index."
   ]
  },
  {
   "cell_type": "code",
   "execution_count": 13,
   "id": "e8b25173",
   "metadata": {},
   "outputs": [
    {
     "name": "stdout",
     "output_type": "stream",
     "text": [
      "The sum of the principal diagonal (also called the main diagonal) of a 2D square matrix is: 14\n"
     ]
    }
   ],
   "source": [
    "matrix = [ [1,3,5], [1,4,6], [7,6,9] ]\n",
    "\n",
    "sum_diagonal = 0\n",
    "\n",
    "for i in range(len(matrix)):\n",
    "    sum_diagonal += matrix[i][i]\n",
    "\n",
    "print(\"The sum of the principal diagonal (also called the main diagonal) of a 2D square matrix is: {}\".format(sum_diagonal))"
   ]
  },
  {
   "cell_type": "code",
   "execution_count": null,
   "id": "6327d569",
   "metadata": {},
   "outputs": [
    {
     "name": "stdout",
     "output_type": "stream",
     "text": [
      "86\n",
      "81\n"
     ]
    }
   ],
   "source": [
    "marks = [78, 86, 66, 81, 66, 81, 50, 81, 23, 45, 79, 62, 86, 33]\n",
    "\n",
    "def top_two_marks(marks):\n",
    "    if len(marks) == 0:\n",
    "        print(\"No marks to return\")\n",
    "\n",
    "    first = -1\n",
    "    second = -1\n",
    "\n",
    "# Fist highest marks\n",
    "    for mark in marks:\n",
    "        if mark > first:\n",
    "            first = mark\n",
    "\n",
    "# Second highest marks\n",
    "    for mark in marks:\n",
    "        if  mark != first and mark > second:\n",
    "            second = mark\n",
    "    \n",
    "    print(first)\n",
    "    if second != -1:\n",
    "        print(second)\n",
    "    else: print(\"There are no highest marks\")\n",
    "\n",
    "\n",
    "top_two_marks(marks)\n"
   ]
  },
  {
   "cell_type": "code",
   "execution_count": 20,
   "id": "d18d6038",
   "metadata": {},
   "outputs": [
    {
     "name": "stdout",
     "output_type": "stream",
     "text": [
      "None\n"
     ]
    }
   ],
   "source": [
    "lst = [8, 8, 8]\n",
    "\n",
    "def top_two_marks(lst):\n",
    "    if len(lst) == 0:\n",
    "        print(\"No marks to return\")\n",
    "        return\n",
    "    \n",
    "    first = float('-inf')\n",
    "    second = float('-inf')\n",
    "\n",
    "# Fist highest marks\n",
    "    for l in lst:\n",
    "        if l > first:\n",
    "            first = l\n",
    "\n",
    "# Second highest marks\n",
    "    for l in lst:\n",
    "        if  l != first and l > second:\n",
    "            second = l\n",
    "    \n",
    "    \n",
    "    if second != float('-inf'):\n",
    "        print(second)\n",
    "    else: print(None)\n",
    "\n",
    "\n",
    "top_two_marks(lst)\n"
   ]
  },
  {
   "cell_type": "code",
   "execution_count": 23,
   "id": "5cce2a88",
   "metadata": {},
   "outputs": [
    {
     "data": {
      "text/plain": [
       "tuple"
      ]
     },
     "execution_count": 23,
     "metadata": {},
     "output_type": "execute_result"
    }
   ],
   "source": [
    "# For one element in tuple \",\" is mandatory. Only paranthesis is not enough.\n",
    "\n",
    "#ex.\n",
    "t = ('Mark')\n",
    "type(t)        # This will return str\n",
    "\n",
    "t = ('Mark', )\n",
    "type(t)         # This will return tuple"
   ]
  },
  {
   "cell_type": "code",
   "execution_count": 27,
   "id": "68e00967",
   "metadata": {},
   "outputs": [
    {
     "name": "stdout",
     "output_type": "stream",
     "text": [
      "4 2 1\n",
      "4 2 1\n"
     ]
    }
   ],
   "source": [
    "# Tuple is 10 x faster then list.\n",
    "# Tuple unpacking\n",
    "t = (4, 2, 1)\n",
    "\n",
    "a, b, c = t\n",
    "print(a, b, c)\n",
    "\n",
    "# or\n",
    "print(*t)"
   ]
  },
  {
   "cell_type": "code",
   "execution_count": 28,
   "id": "3087620c",
   "metadata": {},
   "outputs": [
    {
     "data": {
      "text/plain": [
       "'\\nwhy false is correct answer for below code?\\na=(1,2,(4,5))\\nb=(1,2,(3,4))\\na<b\\n\\nPython compares tuples element by element, from left to right, just like in a dictionary sort.\\n\\n'"
      ]
     },
     "execution_count": 28,
     "metadata": {},
     "output_type": "execute_result"
    }
   ],
   "source": [
    "# Tuple has only \"Count\" & \"Index\" attribute.\n",
    "\n",
    "'''\n",
    "why false is correct answer for below code?\n",
    "a=(1,2,(4,5))\n",
    "b=(1,2,(3,4))\n",
    "a<b\n",
    "\n",
    "Python compares tuples element by element, from left to right, just like in a dictionary sort.\n",
    "\n",
    "'''"
   ]
  },
  {
   "cell_type": "code",
   "execution_count": 9,
   "id": "a4c2fa34",
   "metadata": {},
   "outputs": [
    {
     "name": "stdout",
     "output_type": "stream",
     "text": [
      "Hello Buddy how are you\n"
     ]
    }
   ],
   "source": [
    "data = [(\"Hello Buddy\", 11), (\"sample\", 6), (\"to\", 2), (\"how are you\", 11)]\n",
    "\n",
    "# Step 1: Find the maximum magnitude\n",
    "max_mag = -1\n",
    "for item in data:\n",
    "    if item[1] > max_mag:\n",
    "        max_mag = item[1]\n",
    "\n",
    "# Step 2: Collect strings with maximum magnitude\n",
    "result = \"\"\n",
    "for item in data:\n",
    "    if item[1] == max_mag:\n",
    "        result += item[0] + \" \"\n",
    "\n",
    "# Step 3: Remove extra space and print\n",
    "print(result.strip())\n"
   ]
  },
  {
   "cell_type": "code",
   "execution_count": 1,
   "id": "fe369faa",
   "metadata": {},
   "outputs": [
    {
     "name": "stdout",
     "output_type": "stream",
     "text": [
      "[(3, -1), (-4, -3), (1, -3), (-2, -5), (-4, -2), (-9, -3)]\n"
     ]
    }
   ],
   "source": [
    "lst_of_tup = [(3, -1), (-4, -3), (1, 3), (-2, 5), (-4, 2), (-9, -3)]\n",
    "\n",
    "result = []\n",
    "\n",
    "for a, b in lst_of_tup:\n",
    "    if a < 0:\n",
    "        a = +a\n",
    "\n",
    "    if b > 0:\n",
    "        b = -b\n",
    "    result.append((a,b))\n",
    "\n",
    "print(result)"
   ]
  },
  {
   "attachments": {
    "image-2.png": {
     "image/png": "[encoded data removed]"
    },
    "image.png": {
     "image/png": "[encoded data removed]"
    }
   },
   "cell_type": "markdown",
   "id": "82af032b",
   "metadata": {},
   "source": [
    "![image.png](attachment:image.png)\n",
    "![image-2.png](attachment:image-2.png)"
   ]
  },
  {
   "attachments": {
    "image.png": {
     "image/png": "[encoded data removed]"
    }
   },
   "cell_type": "markdown",
   "id": "bfdaf55b",
   "metadata": {},
   "source": [
    "![image.png](attachment:image.png)"
   ]
  },
  {
   "cell_type": "code",
   "execution_count": 2,
   "id": "bb27d2ff",
   "metadata": {},
   "outputs": [
    {
     "name": "stdout",
     "output_type": "stream",
     "text": [
      "4\n",
      "A\n"
     ]
    }
   ],
   "source": [
    "a={1:\"A\",2:\"B\",3:\"C\"}\n",
    "print(a.get(4,4))\n",
    "print(a.get(1))"
   ]
  },
  {
   "attachments": {
    "image.png": {
     "image/png": "[encoded data removed]"
    }
   },
   "cell_type": "markdown",
   "id": "4b888c59",
   "metadata": {},
   "source": [
    "![image.png](attachment:image.png)"
   ]
  },
  {
   "attachments": {
    "image.png": {
     "image/png": "[encoded data removed]"
    }
   },
   "cell_type": "markdown",
   "id": "272a37d8",
   "metadata": {},
   "source": [
    "![image.png](attachment:image.png)"
   ]
  },
  {
   "cell_type": "code",
   "execution_count": 3,
   "id": "6b9dca31",
   "metadata": {},
   "outputs": [
    {
     "name": "stdout",
     "output_type": "stream",
     "text": [
      "{1: 'a', 2: 'b', 3: 'c'}\n"
     ]
    }
   ],
   "source": [
    "a={\"a\":1,\"b\":2,\"c\":3}\n",
    "b=dict(zip(a.values(),a.keys()))\n",
    "print(b)\n"
   ]
  },
  {
   "attachments": {
    "image.png": {
     "image/png": "[encoded data removed]"
    }
   },
   "cell_type": "markdown",
   "id": "1af03b19",
   "metadata": {},
   "source": [
    "![image.png](attachment:image.png)"
   ]
  },
  {
   "cell_type": "code",
   "execution_count": null,
   "id": "99504315",
   "metadata": {},
   "outputs": [
    {
     "name": "stdout",
     "output_type": "stream",
     "text": [
      "a , 4\n",
      "4\n"
     ]
    }
   ],
   "source": [
    "Input = [\"a\" , \"b\" , \"a\" , \"c\" , \"a\" , \"b\" , \"d\" , \"c\" , \"a\"]\n",
    "\n",
    "max_count = 0\n",
    "most_frequency = None\n",
    "\n",
    "for i in Input:\n",
    "    count = Input.count(i)\n",
    "\n",
    "    if count > max_count:\n",
    "        max_count = count\n",
    "        most_frequency = i\n",
    "\n",
    "print(most_frequency, \",\", count)\n",
    "print(count)\n",
    "    \n"
   ]
  },
  {
   "cell_type": "code",
   "execution_count": 21,
   "id": "68791643",
   "metadata": {},
   "outputs": [
    {
     "data": {
      "text/plain": [
       "{'p': 1, 'q': 2, 'r': 3}"
      ]
     },
     "execution_count": 21,
     "metadata": {},
     "output_type": "execute_result"
    }
   ],
   "source": [
    "Input = { 1 : 'p' , 2 : 'q' , 3 : 'r' }\n",
    "\n",
    "{v:k for k,v in Input.items()}\n"
   ]
  },
  {
   "cell_type": "markdown",
   "id": "ac15a1ec",
   "metadata": {},
   "source": [
    "FUNCTIONS"
   ]
  },
  {
   "cell_type": "code",
   "execution_count": 25,
   "id": "692712df",
   "metadata": {},
   "outputs": [
    {
     "name": "stdout",
     "output_type": "stream",
     "text": [
      "This Function will greet you !\n",
      "Guten Tag !, Pratul\n"
     ]
    }
   ],
   "source": [
    "def my_func(name):\n",
    "    \"\"\"This Function will greet you !\"\"\"\n",
    "\n",
    "    print(\"Guten Tag !,\", name)\n",
    "\n",
    "print(my_func.__doc__)\n",
    "my_func(\"Pratul\")"
   ]
  },
  {
   "cell_type": "markdown",
   "id": "bc72ee9c",
   "metadata": {},
   "source": [
    "Return\n",
    "\n",
    "| Feature            | `return`                               | `print`                               |\n",
    "| ------------------ | -------------------------------------- | ------------------------------------- |\n",
    "| **Purpose**        | Gives output **back to the caller**    | Displays output **to the console**    |\n",
    "| **Use Case**       | Use in **functions** to send back data | Use for **debugging or display only** |\n",
    "| **Data Use**       | Output can be **used, stored, tested** | Output **cannot be reused**           |\n",
    "| **Stops Function** | Yes – it ends the function immediately | No – function keeps running           |\n"
   ]
  },
  {
   "cell_type": "code",
   "execution_count": 32,
   "id": "eadb53f5",
   "metadata": {},
   "outputs": [
    {
     "name": "stdout",
     "output_type": "stream",
     "text": [
      "7\n"
     ]
    }
   ],
   "source": [
    "def add(a,b):\n",
    "    \"\"\"This Func. will return addition of two numbers\"\"\"\n",
    "    c = a + b\n",
    "    return c\n",
    "\n",
    "x = add(2,5)\n",
    "print(x)"
   ]
  },
  {
   "cell_type": "code",
   "execution_count": 41,
   "id": "32acaa46",
   "metadata": {},
   "outputs": [
    {
     "name": "stdout",
     "output_type": "stream",
     "text": [
      "3840\n"
     ]
    }
   ],
   "source": [
    "def product(lst):\n",
    "    \"\"\"\n",
    "    Parameters: This Func will take list as parameter.\n",
    "    Return: This Func will return product of elements of the list.\n",
    "    \"\"\"\n",
    "\n",
    "    p = 1\n",
    "    for i in list:\n",
    "        p *=i\n",
    "    return p\n",
    "\n",
    "list1 = [2, 4, 6, 8, 10]\n",
    "\n",
    "result = product(list1)\n",
    "print(result)"
   ]
  },
  {
   "cell_type": "markdown",
   "id": "f903b868",
   "metadata": {},
   "source": [
    "Functions return multiple values in form of Tuple by default. But we can change it to list as well."
   ]
  },
  {
   "cell_type": "code",
   "execution_count": 45,
   "id": "bf3be9b0",
   "metadata": {},
   "outputs": [
    {
     "name": "stdout",
     "output_type": "stream",
     "text": [
      "[22, 12, 85, 3.4]\n"
     ]
    }
   ],
   "source": [
    "def calculator(a, b):\n",
    "    \"\"\"This Function will do  basic operations\"\"\"\n",
    "\n",
    "    res1 = a + b\n",
    "    res2 = a - b\n",
    "    res3 = a * b\n",
    "    res4 = a / b\n",
    "\n",
    "    #return res1, res2, res3, res4\n",
    "    return [res1, res2, res3, res4]\n",
    "\n",
    "cal_res = calculator(17,5)\n",
    "print(cal_res)"
   ]
  },
  {
   "cell_type": "code",
   "execution_count": 48,
   "id": "1ee941e3",
   "metadata": {},
   "outputs": [],
   "source": [
    "age = 27"
   ]
  },
  {
   "cell_type": "code",
   "execution_count": null,
   "id": "d8849650",
   "metadata": {},
   "outputs": [
    {
     "name": "stdout",
     "output_type": "stream",
     "text": [
      "{'__name__': '__main__', '__doc__': 'Automatically created module for IPython interactive environment', '__package__': None, '__loader__': None, '__spec__': None, '__builtin__': <module 'builtins' (built-in)>, '__builtins__': <module 'builtins' (built-in)>, '_ih': ['', 'a={1:\"A\",2:\"B\",3:\"C\"}\\nprint(a.get(4,4))', 'a={1:\"A\",2:\"B\",3:\"C\"}\\nprint(a.get(4,4))\\nprint(a.get(1))', 'a={\"a\":1,\"b\":2,\"c\":3}\\nb=dict(zip(a.values(),a.keys()))\\nprint(b)', 'Input = [a , b , a , c , a , b , d , c , a]\\n\\nfor i in input:\\n    print(i)\\n    i +=1 ', 'Input = [\"a\" , \"b\" , \"a\" , \"c\" , \"a\" , \"b\" , \"d\" , \"c\" , \"a\"]\\n#Input = [a , b , a , c , a , b , d , c , a]\\n\\nfor i in Input:\\n    print(i)\\n    i +=1', '#Input = [\"a\" , \"b\" , \"a\" , \"c\" , \"a\" , \"b\" , \"d\" , \"c\" , \"a\"]\\nInput = [a , b , a , c , a , b , d , c , a]\\n\\nfor i in Input:\\n    print(i)\\n    i +=1', '#Input = [\"a\" , \"b\" , \"a\" , \"c\" , \"a\" , \"b\" , \"d\" , \"c\" , \"a\"]\\nInput = [a , b , a , c , a , b , d , c , a]\\n\\nfor i in Input:\\n    print(i)\\n    #i +=1', 'Input = [\"a\" , \"b\" , \"a\" , \"c\" , \"a\" , \"b\" , \"d\" , \"c\" , \"a\"]\\n#Input = [a , b , a , c , a , b , d , c , a]\\n\\nfor i in Input:\\n    print(i)\\n    #i +=1', 'Input = [\"a\" , \"b\" , \"a\" , \"c\" , \"a\" , \"b\" , \"d\" , \"c\" , \"a\"]\\n#Input = [a , b , a , c , a , b , d , c , a]\\n\\nlst = []\\nfor i in Input:\\n    if i >= 1:\\n        lst = print(i)', 'Input = [\"a\" , \"b\" , \"a\" , \"c\" , \"a\" , \"b\" , \"d\" , \"c\" , \"a\"]\\n#Input = [a , b , a , c , a , b , d , c , a]\\n\\nlst = []\\nfor i in Input:\\n    if i in Input >= 1:\\n        lst = print(i)', 'Input = [\"a\" , \"b\" , \"a\" , \"c\" , \"a\" , \"b\" , \"d\" , \"c\" , \"a\"]\\n\\nmax_count = 0\\nmost_frequency = None\\n\\nfor i in Input:\\n    count = Input.count(i)', 'Input = [\"a\" , \"b\" , \"a\" , \"c\" , \"a\" , \"b\" , \"d\" , \"c\" , \"a\"]\\n\\nmax_count = 0\\nmost_frequency = None\\n\\nfor i in Input:\\n    count = Input.count(i)\\n\\n\\nprint(count)', 'Input = [\"a\" , \"b\" , \"a\" , \"c\" , \"a\" , \"b\" , \"d\" , \"c\" , \"a\"]\\n\\nmax_count = 0\\nmost_frequency = None\\n\\nfor i in Input:\\n    count = Input.count(i)\\n\\n    if count > max_count:\\n        max_count = count\\n        most_frequency = i\\n\\n    print(most_frequency)\\n\\n\\nprint(count)', 'Input = [\"a\" , \"b\" , \"a\" , \"c\" , \"a\" , \"b\" , \"d\" , \"c\" , \"a\"]\\n\\nmax_count = 0\\nmost_frequency = None\\n\\nfor i in Input:\\n    count = Input.count(i)\\n\\n    if count > max_count:\\n        max_count = count\\n        most_frequency = i\\n\\n    print(most_frequency.count)\\n\\n\\nprint(count)', 'Input = [\"a\" , \"b\" , \"a\" , \"c\" , \"a\" , \"b\" , \"d\" , \"c\" , \"a\"]\\n\\nmax_count = 0\\nmost_frequency = None\\n\\nfor i in Input:\\n    count = Input.count(i)\\n\\n    if count > max_count:\\n        max_count = count\\n        most_frequency = i\\n\\nprint(most_frequency)\\nprint(count)', 'Input = [\"a\" , \"b\" , \"a\" , \"c\" , \"a\" , \"b\" , \"d\" , \"c\" , \"a\"]\\n\\nmax_count = 0\\nmost_frequency = None\\n\\nfor i in Input:\\n    count = Input.count(i)\\n\\n    if count > max_count:\\n        max_count = count\\n        most_frequency = i\\n\\nprint(most_frequency, count)\\nprint(count)', 'Input = [\"a\" , \"b\" , \"a\" , \"c\" , \"a\" , \"b\" , \"d\" , \"c\" , \"a\"]\\n\\nmax_count = 0\\nmost_frequency = None\\n\\nfor i in Input:\\n    count = Input.count(i)\\n\\n    if count > max_count:\\n        max_count = count\\n        most_frequency = i\\n\\nprint(most_frequency, \",\", count)\\nprint(count)', 'Input = [\"a\" , \"b\" , \"a\" , \"c\" , \"a\" , \"b\" , \"d\" , \"c\" , \"a\"]\\n\\nmax_count = 0\\nmost_frequency = None\\n\\nfor i in Input:\\n    count = Input.count(i)\\n\\n    if count > max_count:\\n        max_count = count\\n        most_frequency = i\\n\\nprint(most_frequency,\",\", count)\\nprint(count)', \"Input = { 1 : 'p' , 2 : 'q' , 3 : 'r' }\\n\\n{v:k for k,v in Input.items{}}\", \"Input = { 1 : 'p' , 2 : 'q' , 3 : 'r' }\\n\\n{v:k for k,v in Input.items()\", \"Input = { 1 : 'p' , 2 : 'q' , 3 : 'r' }\\n\\n{v:k for k,v in Input.items()}\", 'def my_func(name):\\n    \"\"\"This Function will greet you !\"\"\"\\n\\n    print(\"Guten Tag\", \",\", name)\\n\\nprint(my_func.__dic__)', 'def my_func(name):\\n    \"\"\"This Function will greet you !\"\"\"\\n\\n    print(\"Guten Tag\", \",\", name)\\n\\nprint(my_func.__doc__)', 'def my_func(name):\\n    \"\"\"This Function will greet you !\"\"\"\\n\\n    print(\"Guten Tag\", \",\", name)\\n\\nprint(my_func.__doc__)\\nmy_func(\"Pratul\")', 'def my_func(name):\\n    \"\"\"This Function will greet you !\"\"\"\\n\\n    print(\"Guten Tag !,\", name)\\n\\nprint(my_func.__doc__)\\nmy_func(\"Pratul\")', 'def add(a,b):\\n    \"\"\"This Func. will return addition of two numbers\"\"\"\\n    c = a + b\\n    return c', 'def add(a,b):\\n    \"\"\"This Func. will return addition of two numbers\"\"\"\\n    c = a + b\\n    return c\\nadd(2,5)', 'def add(a,b):\\n    \"\"\"This Func. will return addition of two numbers\"\"\"\\n    c = a + b\\n    return c\\nadd(2,5)', 'def add(a,b):\\n    \"\"\"This Func. will return addition of two numbers\"\"\"\\n    c = a + b\\n    return c\\n\\nadd(2,5)', 'def add(a,b):\\n    \"\"\"This Func. will return addition of two numbers\"\"\"\\n    c = a + b\\n    return c\\n\\nadd(2,5)', 'def add(a,b):\\n    \"\"\"This Func. will return addition of two numbers\"\"\"\\n    c = a + b\\n    return c\\n\\nx = add(2,5)', 'def add(a,b):\\n    \"\"\"This Func. will return addition of two numbers\"\"\"\\n    c = a + b\\n    return c\\n\\nx = add(2,5)\\nprint(x)', 'lst = [2, 4, 6, 8, 10]\\n\\ndef product():\\n    \"\"\"\\n    Parameters: This Func will take list as parameter.\\n    Return: This Func will return product of elements of the list.\\n    \"\"\"\\n\\n    p = 1\\n    for i in lst:\\n        p *=i\\n        return P', 'lst = [2, 4, 6, 8, 10]\\n\\ndef product():\\n    \"\"\"\\n    Parameters: This Func will take list as parameter.\\n    Return: This Func will return product of elements of the list.\\n    \"\"\"\\n\\n    p = 1\\n    for i in lst:\\n        p *=i\\n        return P\\n\\nresult = product(lst)', 'list = [2, 4, 6, 8, 10]\\n\\ndef product(lst):\\n    \"\"\"\\n    Parameters: This Func will take list as parameter.\\n    Return: This Func will return product of elements of the list.\\n    \"\"\"\\n\\n    p = 1\\n    for i in list:\\n        p *=i\\n        return P\\n\\nresult = product(list)\\nprint(result)', 'list = [2, 4, 6, 8, 10]\\n\\ndef product(lst):\\n    \"\"\"\\n    Parameters: This Func will take list as parameter.\\n    Return: This Func will return product of elements of the list.\\n    \"\"\"\\n\\n    p = 1\\n    for i in list:\\n        p *=i\\n        return P\\n\\nresult = product(lst)\\nprint(result)', 'list = [2, 4, 6, 8, 10]\\n\\ndef product(lst):\\n    \"\"\"\\n    Parameters: This Func will take list as parameter.\\n    Return: This Func will return product of elements of the list.\\n    \"\"\"\\n\\n    p = 1\\n    for i in list:\\n        p *=i\\n    return P\\n\\nresult = product(list)\\nprint(result)', 'def product(lst):\\n    \"\"\"\\n    Parameters: This Func will take list as parameter.\\n    Return: This Func will return product of elements of the list.\\n    \"\"\"\\n\\n    p = 1\\n    for i in list:\\n        p *=i\\n    return P\\n\\nlist = [2, 4, 6, 8, 10]\\n\\nresult = product(list)\\nprint(result)', 'def product(lst):\\n    \"\"\"\\n    Parameters: This Func will take list as parameter.\\n    Return: This Func will return product of elements of the list.\\n    \"\"\"\\n\\n    p = 1\\n    for i in list:\\n        p *=i\\n    return p\\n\\nlist = [2, 4, 6, 8, 10]\\n\\nresult = product(list)\\nprint(result)', 'def product(lst):\\n    \"\"\"\\n    Parameters: This Func will take list as parameter.\\n    Return: This Func will return product of elements of the list.\\n    \"\"\"\\n\\n    p = 1\\n    for i in list:\\n        p *=i\\n    return p\\n\\nlist1 = [2, 4, 6, 8, 10]\\n\\nresult = product(list1)\\nprint(result)', 'def product(lst):\\n    \"\"\"\\n    Parameters: This Func will take list as parameter.\\n    Return: This Func will return product of elements of the list.\\n    \"\"\"\\n\\n    p = 1\\n    for i in list:\\n        p *=i\\n    return p\\n\\nlist1 = [2, 4, 6, 8, 10]\\n\\nresult = product(list1)\\nprint(result)', 'def calculator(a, b):\\n    \"\"\"This Function will do  basic operations\"\"\"\\n\\n    res1 = a + b\\n    res2 = a - b\\n    res3 = a * b\\n    res4 = a / b\\n\\nprint(calculator(17, 5))', 'def calculator(a, b):\\n    \"\"\"This Function will do  basic operations\"\"\"\\n\\n    res1 = a + b\\n    res2 = a - b\\n    res3 = a * b\\n    res4 = a / b\\n\\n    return res1, res2, res3, res4\\n\\n\\nprint(calculator(17, 5))', 'def calculator(a, b):\\n    \"\"\"This Function will do  basic operations\"\"\"\\n\\n    res1 = a + b\\n    res2 = a - b\\n    res3 = a * b\\n    res4 = a / b\\n\\n    #return res1, res2, res3, res4\\n    return [res1, res2, res3, res4]\\n\\n\\nprint(calculator(17, 5))', 'def calculator(a, b):\\n    \"\"\"This Function will do  basic operations\"\"\"\\n\\n    res1 = a + b\\n    res2 = a - b\\n    res3 = a * b\\n    res4 = a / b\\n\\n    #return res1, res2, res3, res4\\n    return [res1, res2, res3, res4]\\n\\ncal_res = calculator(17,5)\\nprint(cal_res)', '# To print out all the global variable.\\nprint(globals())', '# To print out all the global variable. It give output in the form of a dictionary.\\nprint(globals())', 'age = 27', '# To print out all the global variable. It give output in the form of a dictionary.\\nprint(globals())', '# To print out all the global variable. It give output in the form of a dictionary.\\nprint(globals())\\nprint(globals()[\"age\"])'], '_oh': {21: {'p': 1, 'q': 2, 'r': 3}, 27: 7, 28: 7, 29: 7, 30: 7}, '_dh': [WindowsPath('c:/Users/pratu/OneDrive/Desktop/Study/python')], 'In': ['', 'a={1:\"A\",2:\"B\",3:\"C\"}\\nprint(a.get(4,4))', 'a={1:\"A\",2:\"B\",3:\"C\"}\\nprint(a.get(4,4))\\nprint(a.get(1))', 'a={\"a\":1,\"b\":2,\"c\":3}\\nb=dict(zip(a.values(),a.keys()))\\nprint(b)', 'Input = [a , b , a , c , a , b , d , c , a]\\n\\nfor i in input:\\n    print(i)\\n    i +=1 ', 'Input = [\"a\" , \"b\" , \"a\" , \"c\" , \"a\" , \"b\" , \"d\" , \"c\" , \"a\"]\\n#Input = [a , b , a , c , a , b , d , c , a]\\n\\nfor i in Input:\\n    print(i)\\n    i +=1', '#Input = [\"a\" , \"b\" , \"a\" , \"c\" , \"a\" , \"b\" , \"d\" , \"c\" , \"a\"]\\nInput = [a , b , a , c , a , b , d , c , a]\\n\\nfor i in Input:\\n    print(i)\\n    i +=1', '#Input = [\"a\" , \"b\" , \"a\" , \"c\" , \"a\" , \"b\" , \"d\" , \"c\" , \"a\"]\\nInput = [a , b , a , c , a , b , d , c , a]\\n\\nfor i in Input:\\n    print(i)\\n    #i +=1', 'Input = [\"a\" , \"b\" , \"a\" , \"c\" , \"a\" , \"b\" , \"d\" , \"c\" , \"a\"]\\n#Input = [a , b , a , c , a , b , d , c , a]\\n\\nfor i in Input:\\n    print(i)\\n    #i +=1', 'Input = [\"a\" , \"b\" , \"a\" , \"c\" , \"a\" , \"b\" , \"d\" , \"c\" , \"a\"]\\n#Input = [a , b , a , c , a , b , d , c , a]\\n\\nlst = []\\nfor i in Input:\\n    if i >= 1:\\n        lst = print(i)', 'Input = [\"a\" , \"b\" , \"a\" , \"c\" , \"a\" , \"b\" , \"d\" , \"c\" , \"a\"]\\n#Input = [a , b , a , c , a , b , d , c , a]\\n\\nlst = []\\nfor i in Input:\\n    if i in Input >= 1:\\n        lst = print(i)', 'Input = [\"a\" , \"b\" , \"a\" , \"c\" , \"a\" , \"b\" , \"d\" , \"c\" , \"a\"]\\n\\nmax_count = 0\\nmost_frequency = None\\n\\nfor i in Input:\\n    count = Input.count(i)', 'Input = [\"a\" , \"b\" , \"a\" , \"c\" , \"a\" , \"b\" , \"d\" , \"c\" , \"a\"]\\n\\nmax_count = 0\\nmost_frequency = None\\n\\nfor i in Input:\\n    count = Input.count(i)\\n\\n\\nprint(count)', 'Input = [\"a\" , \"b\" , \"a\" , \"c\" , \"a\" , \"b\" , \"d\" , \"c\" , \"a\"]\\n\\nmax_count = 0\\nmost_frequency = None\\n\\nfor i in Input:\\n    count = Input.count(i)\\n\\n    if count > max_count:\\n        max_count = count\\n        most_frequency = i\\n\\n    print(most_frequency)\\n\\n\\nprint(count)', 'Input = [\"a\" , \"b\" , \"a\" , \"c\" , \"a\" , \"b\" , \"d\" , \"c\" , \"a\"]\\n\\nmax_count = 0\\nmost_frequency = None\\n\\nfor i in Input:\\n    count = Input.count(i)\\n\\n    if count > max_count:\\n        max_count = count\\n        most_frequency = i\\n\\n    print(most_frequency.count)\\n\\n\\nprint(count)', 'Input = [\"a\" , \"b\" , \"a\" , \"c\" , \"a\" , \"b\" , \"d\" , \"c\" , \"a\"]\\n\\nmax_count = 0\\nmost_frequency = None\\n\\nfor i in Input:\\n    count = Input.count(i)\\n\\n    if count > max_count:\\n        max_count = count\\n        most_frequency = i\\n\\nprint(most_frequency)\\nprint(count)', 'Input = [\"a\" , \"b\" , \"a\" , \"c\" , \"a\" , \"b\" , \"d\" , \"c\" , \"a\"]\\n\\nmax_count = 0\\nmost_frequency = None\\n\\nfor i in Input:\\n    count = Input.count(i)\\n\\n    if count > max_count:\\n        max_count = count\\n        most_frequency = i\\n\\nprint(most_frequency, count)\\nprint(count)', 'Input = [\"a\" , \"b\" , \"a\" , \"c\" , \"a\" , \"b\" , \"d\" , \"c\" , \"a\"]\\n\\nmax_count = 0\\nmost_frequency = None\\n\\nfor i in Input:\\n    count = Input.count(i)\\n\\n    if count > max_count:\\n        max_count = count\\n        most_frequency = i\\n\\nprint(most_frequency, \",\", count)\\nprint(count)', 'Input = [\"a\" , \"b\" , \"a\" , \"c\" , \"a\" , \"b\" , \"d\" , \"c\" , \"a\"]\\n\\nmax_count = 0\\nmost_frequency = None\\n\\nfor i in Input:\\n    count = Input.count(i)\\n\\n    if count > max_count:\\n        max_count = count\\n        most_frequency = i\\n\\nprint(most_frequency,\",\", count)\\nprint(count)', \"Input = { 1 : 'p' , 2 : 'q' , 3 : 'r' }\\n\\n{v:k for k,v in Input.items{}}\", \"Input = { 1 : 'p' , 2 : 'q' , 3 : 'r' }\\n\\n{v:k for k,v in Input.items()\", \"Input = { 1 : 'p' , 2 : 'q' , 3 : 'r' }\\n\\n{v:k for k,v in Input.items()}\", 'def my_func(name):\\n    \"\"\"This Function will greet you !\"\"\"\\n\\n    print(\"Guten Tag\", \",\", name)\\n\\nprint(my_func.__dic__)', 'def my_func(name):\\n    \"\"\"This Function will greet you !\"\"\"\\n\\n    print(\"Guten Tag\", \",\", name)\\n\\nprint(my_func.__doc__)', 'def my_func(name):\\n    \"\"\"This Function will greet you !\"\"\"\\n\\n    print(\"Guten Tag\", \",\", name)\\n\\nprint(my_func.__doc__)\\nmy_func(\"Pratul\")', 'def my_func(name):\\n    \"\"\"This Function will greet you !\"\"\"\\n\\n    print(\"Guten Tag !,\", name)\\n\\nprint(my_func.__doc__)\\nmy_func(\"Pratul\")', 'def add(a,b):\\n    \"\"\"This Func. will return addition of two numbers\"\"\"\\n    c = a + b\\n    return c', 'def add(a,b):\\n    \"\"\"This Func. will return addition of two numbers\"\"\"\\n    c = a + b\\n    return c\\nadd(2,5)', 'def add(a,b):\\n    \"\"\"This Func. will return addition of two numbers\"\"\"\\n    c = a + b\\n    return c\\nadd(2,5)', 'def add(a,b):\\n    \"\"\"This Func. will return addition of two numbers\"\"\"\\n    c = a + b\\n    return c\\n\\nadd(2,5)', 'def add(a,b):\\n    \"\"\"This Func. will return addition of two numbers\"\"\"\\n    c = a + b\\n    return c\\n\\nadd(2,5)', 'def add(a,b):\\n    \"\"\"This Func. will return addition of two numbers\"\"\"\\n    c = a + b\\n    return c\\n\\nx = add(2,5)', 'def add(a,b):\\n    \"\"\"This Func. will return addition of two numbers\"\"\"\\n    c = a + b\\n    return c\\n\\nx = add(2,5)\\nprint(x)', 'lst = [2, 4, 6, 8, 10]\\n\\ndef product():\\n    \"\"\"\\n    Parameters: This Func will take list as parameter.\\n    Return: This Func will return product of elements of the list.\\n    \"\"\"\\n\\n    p = 1\\n    for i in lst:\\n        p *=i\\n        return P', 'lst = [2, 4, 6, 8, 10]\\n\\ndef product():\\n    \"\"\"\\n    Parameters: This Func will take list as parameter.\\n    Return: This Func will return product of elements of the list.\\n    \"\"\"\\n\\n    p = 1\\n    for i in lst:\\n        p *=i\\n        return P\\n\\nresult = product(lst)', 'list = [2, 4, 6, 8, 10]\\n\\ndef product(lst):\\n    \"\"\"\\n    Parameters: This Func will take list as parameter.\\n    Return: This Func will return product of elements of the list.\\n    \"\"\"\\n\\n    p = 1\\n    for i in list:\\n        p *=i\\n        return P\\n\\nresult = product(list)\\nprint(result)', 'list = [2, 4, 6, 8, 10]\\n\\ndef product(lst):\\n    \"\"\"\\n    Parameters: This Func will take list as parameter.\\n    Return: This Func will return product of elements of the list.\\n    \"\"\"\\n\\n    p = 1\\n    for i in list:\\n        p *=i\\n        return P\\n\\nresult = product(lst)\\nprint(result)', 'list = [2, 4, 6, 8, 10]\\n\\ndef product(lst):\\n    \"\"\"\\n    Parameters: This Func will take list as parameter.\\n    Return: This Func will return product of elements of the list.\\n    \"\"\"\\n\\n    p = 1\\n    for i in list:\\n        p *=i\\n    return P\\n\\nresult = product(list)\\nprint(result)', 'def product(lst):\\n    \"\"\"\\n    Parameters: This Func will take list as parameter.\\n    Return: This Func will return product of elements of the list.\\n    \"\"\"\\n\\n    p = 1\\n    for i in list:\\n        p *=i\\n    return P\\n\\nlist = [2, 4, 6, 8, 10]\\n\\nresult = product(list)\\nprint(result)', 'def product(lst):\\n    \"\"\"\\n    Parameters: This Func will take list as parameter.\\n    Return: This Func will return product of elements of the list.\\n    \"\"\"\\n\\n    p = 1\\n    for i in list:\\n        p *=i\\n    return p\\n\\nlist = [2, 4, 6, 8, 10]\\n\\nresult = product(list)\\nprint(result)', 'def product(lst):\\n    \"\"\"\\n    Parameters: This Func will take list as parameter.\\n    Return: This Func will return product of elements of the list.\\n    \"\"\"\\n\\n    p = 1\\n    for i in list:\\n        p *=i\\n    return p\\n\\nlist1 = [2, 4, 6, 8, 10]\\n\\nresult = product(list1)\\nprint(result)', 'def product(lst):\\n    \"\"\"\\n    Parameters: This Func will take list as parameter.\\n    Return: This Func will return product of elements of the list.\\n    \"\"\"\\n\\n    p = 1\\n    for i in list:\\n        p *=i\\n    return p\\n\\nlist1 = [2, 4, 6, 8, 10]\\n\\nresult = product(list1)\\nprint(result)', 'def calculator(a, b):\\n    \"\"\"This Function will do  basic operations\"\"\"\\n\\n    res1 = a + b\\n    res2 = a - b\\n    res3 = a * b\\n    res4 = a / b\\n\\nprint(calculator(17, 5))', 'def calculator(a, b):\\n    \"\"\"This Function will do  basic operations\"\"\"\\n\\n    res1 = a + b\\n    res2 = a - b\\n    res3 = a * b\\n    res4 = a / b\\n\\n    return res1, res2, res3, res4\\n\\n\\nprint(calculator(17, 5))', 'def calculator(a, b):\\n    \"\"\"This Function will do  basic operations\"\"\"\\n\\n    res1 = a + b\\n    res2 = a - b\\n    res3 = a * b\\n    res4 = a / b\\n\\n    #return res1, res2, res3, res4\\n    return [res1, res2, res3, res4]\\n\\n\\nprint(calculator(17, 5))', 'def calculator(a, b):\\n    \"\"\"This Function will do  basic operations\"\"\"\\n\\n    res1 = a + b\\n    res2 = a - b\\n    res3 = a * b\\n    res4 = a / b\\n\\n    #return res1, res2, res3, res4\\n    return [res1, res2, res3, res4]\\n\\ncal_res = calculator(17,5)\\nprint(cal_res)', '# To print out all the global variable.\\nprint(globals())', '# To print out all the global variable. It give output in the form of a dictionary.\\nprint(globals())', 'age = 27', '# To print out all the global variable. It give output in the form of a dictionary.\\nprint(globals())', '# To print out all the global variable. It give output in the form of a dictionary.\\nprint(globals())\\nprint(globals()[\"age\"])'], 'Out': {21: {'p': 1, 'q': 2, 'r': 3}, 27: 7, 28: 7, 29: 7, 30: 7}, 'get_ipython': <bound method InteractiveShell.get_ipython of <ipykernel.zmqshell.ZMQInteractiveShell object at 0x0000022E4CE4EE40>>, 'exit': <IPython.core.autocall.ZMQExitAutocall object at 0x0000022E4CEE8830>, 'quit': <IPython.core.autocall.ZMQExitAutocall object at 0x0000022E4CEE8830>, 'open': <function open at 0x0000022E4AB62480>, '_': 7, '__': 7, '___': 7, '__vsc_ipynb_file__': 'c:\\\\Users\\\\pratu\\\\OneDrive\\\\Desktop\\\\Study\\\\python\\\\learning_python.ipynb', '_i': '# To print out all the global variable. It give output in the form of a dictionary.\\nprint(globals())', '_ii': 'age = 27', '_iii': '# To print out all the global variable. It give output in the form of a dictionary.\\nprint(globals())', '_i1': 'a={1:\"A\",2:\"B\",3:\"C\"}\\nprint(a.get(4,4))', 'a': {'a': 1, 'b': 2, 'c': 3}, '_i2': 'a={1:\"A\",2:\"B\",3:\"C\"}\\nprint(a.get(4,4))\\nprint(a.get(1))', '_i3': 'a={\"a\":1,\"b\":2,\"c\":3}\\nb=dict(zip(a.values(),a.keys()))\\nprint(b)', 'b': {1: 'a', 2: 'b', 3: 'c'}, '_i4': 'Input = [a , b , a , c , a , b , d , c , a]\\n\\nfor i in input:\\n    print(i)\\n    i +=1 ', '_i5': 'Input = [\"a\" , \"b\" , \"a\" , \"c\" , \"a\" , \"b\" , \"d\" , \"c\" , \"a\"]\\n#Input = [a , b , a , c , a , b , d , c , a]\\n\\nfor i in Input:\\n    print(i)\\n    i +=1', 'Input': {1: 'p', 2: 'q', 3: 'r'}, 'i': 'a', '_i6': '#Input = [\"a\" , \"b\" , \"a\" , \"c\" , \"a\" , \"b\" , \"d\" , \"c\" , \"a\"]\\nInput = [a , b , a , c , a , b , d , c , a]\\n\\nfor i in Input:\\n    print(i)\\n    i +=1', '_i7': '#Input = [\"a\" , \"b\" , \"a\" , \"c\" , \"a\" , \"b\" , \"d\" , \"c\" , \"a\"]\\nInput = [a , b , a , c , a , b , d , c , a]\\n\\nfor i in Input:\\n    print(i)\\n    #i +=1', '_i8': 'Input = [\"a\" , \"b\" , \"a\" , \"c\" , \"a\" , \"b\" , \"d\" , \"c\" , \"a\"]\\n#Input = [a , b , a , c , a , b , d , c , a]\\n\\nfor i in Input:\\n    print(i)\\n    #i +=1', '_i9': 'Input = [\"a\" , \"b\" , \"a\" , \"c\" , \"a\" , \"b\" , \"d\" , \"c\" , \"a\"]\\n#Input = [a , b , a , c , a , b , d , c , a]\\n\\nlst = []\\nfor i in Input:\\n    if i >= 1:\\n        lst = print(i)\\n\\n    ', 'lst': [2, 4, 6, 8, 10], '_i10': 'Input = [\"a\" , \"b\" , \"a\" , \"c\" , \"a\" , \"b\" , \"d\" , \"c\" , \"a\"]\\n#Input = [a , b , a , c , a , b , d , c , a]\\n\\nlst = []\\nfor i in Input:\\n    if i in Input >= 1:\\n        lst = print(i)\\n\\n    ', '_i11': 'Input = [\"a\" , \"b\" , \"a\" , \"c\" , \"a\" , \"b\" , \"d\" , \"c\" , \"a\"]\\n\\nmax_count = 0\\nmost_frequency = None\\n\\nfor i in Input:\\n    count = Input.count(i)\\n    ', 'max_count': 4, 'most_frequency': 'a', 'count': 4, '_i12': 'Input = [\"a\" , \"b\" , \"a\" , \"c\" , \"a\" , \"b\" , \"d\" , \"c\" , \"a\"]\\n\\nmax_count = 0\\nmost_frequency = None\\n\\nfor i in Input:\\n    count = Input.count(i)\\n\\n\\nprint(count)\\n    ', '_i13': 'Input = [\"a\" , \"b\" , \"a\" , \"c\" , \"a\" , \"b\" , \"d\" , \"c\" , \"a\"]\\n\\nmax_count = 0\\nmost_frequency = None\\n\\nfor i in Input:\\n    count = Input.count(i)\\n\\n    if count > max_count:\\n        max_count = count\\n        most_frequency = i\\n        \\n    print(most_frequency)\\n\\n\\nprint(count)\\n    ', '_i14': 'Input = [\"a\" , \"b\" , \"a\" , \"c\" , \"a\" , \"b\" , \"d\" , \"c\" , \"a\"]\\n\\nmax_count = 0\\nmost_frequency = None\\n\\nfor i in Input:\\n    count = Input.count(i)\\n\\n    if count > max_count:\\n        max_count = count\\n        most_frequency = i\\n\\n    print(most_frequency.count)\\n\\n\\nprint(count)\\n    ', '_i15': 'Input = [\"a\" , \"b\" , \"a\" , \"c\" , \"a\" , \"b\" , \"d\" , \"c\" , \"a\"]\\n\\nmax_count = 0\\nmost_frequency = None\\n\\nfor i in Input:\\n    count = Input.count(i)\\n\\n    if count > max_count:\\n        max_count = count\\n        most_frequency = i\\n\\nprint(most_frequency)\\nprint(count)\\n    ', '_i16': 'Input = [\"a\" , \"b\" , \"a\" , \"c\" , \"a\" , \"b\" , \"d\" , \"c\" , \"a\"]\\n\\nmax_count = 0\\nmost_frequency = None\\n\\nfor i in Input:\\n    count = Input.count(i)\\n\\n    if count > max_count:\\n        max_count = count\\n        most_frequency = i\\n\\nprint(most_frequency, count)\\nprint(count)\\n    ', '_i17': 'Input = [\"a\" , \"b\" , \"a\" , \"c\" , \"a\" , \"b\" , \"d\" , \"c\" , \"a\"]\\n\\nmax_count = 0\\nmost_frequency = None\\n\\nfor i in Input:\\n    count = Input.count(i)\\n\\n    if count > max_count:\\n        max_count = count\\n        most_frequency = i\\n\\nprint(most_frequency, \",\", count)\\nprint(count)\\n    ', '_i18': 'Input = [\"a\" , \"b\" , \"a\" , \"c\" , \"a\" , \"b\" , \"d\" , \"c\" , \"a\"]\\n\\nmax_count = 0\\nmost_frequency = None\\n\\nfor i in Input:\\n    count = Input.count(i)\\n\\n    if count > max_count:\\n        max_count = count\\n        most_frequency = i\\n\\nprint(most_frequency,\",\", count)\\nprint(count)\\n    ', '_i19': \"Input = { 1 : 'p' , 2 : 'q' , 3 : 'r' }\\n\\n{v:k for k,v in Input.items{}}\", '_i20': \"Input = { 1 : 'p' , 2 : 'q' , 3 : 'r' }\\n\\n{v:k for k,v in Input.items()\", '_i21': \"Input = { 1 : 'p' , 2 : 'q' , 3 : 'r' }\\n\\n{v:k for k,v in Input.items()}\", '_21': {'p': 1, 'q': 2, 'r': 3}, '_i22': 'def my_func(name):\\n    \"\"\"This Function will greet you !\"\"\"\\n\\n    print(\"Guten Tag\", \",\", name)\\n\\nprint(my_func.__dic__)', 'my_func': <function my_func at 0x0000022E4D69EF20>, '_i23': 'def my_func(name):\\n    \"\"\"This Function will greet you !\"\"\"\\n\\n    print(\"Guten Tag\", \",\", name)\\n\\nprint(my_func.__doc__)', '_i24': 'def my_func(name):\\n    \"\"\"This Function will greet you !\"\"\"\\n\\n    print(\"Guten Tag\", \",\", name)\\n\\nprint(my_func.__doc__)\\nmy_func(\"Pratul\")', '_i25': 'def my_func(name):\\n    \"\"\"This Function will greet you !\"\"\"\\n\\n    print(\"Guten Tag !,\", name)\\n\\nprint(my_func.__doc__)\\nmy_func(\"Pratul\")', '_i26': 'def add(a,b):\\n    \"\"\"This Func. will return addition of two numbers\"\"\"\\n    c = a + b\\n    return c', 'add': <function add at 0x0000022E4D812340>, '_i27': 'def add(a,b):\\n    \"\"\"This Func. will return addition of two numbers\"\"\"\\n    c = a + b\\n    return c\\nadd(2,5)', '_27': 7, '_i28': 'def add(a,b):\\n    \"\"\"This Func. will return addition of two numbers\"\"\"\\n    c = a + b\\n    return c\\nadd(2,5)', '_28': 7, '_i29': 'def add(a,b):\\n    \"\"\"This Func. will return addition of two numbers\"\"\"\\n    c = a + b\\n    return c\\n\\nadd(2,5)', '_29': 7, '_i30': 'def add(a,b):\\n    \"\"\"This Func. will return addition of two numbers\"\"\"\\n    c = a + b\\n    return c\\n\\nadd(2,5)', '_30': 7, '_i31': 'def add(a,b):\\n    \"\"\"This Func. will return addition of two numbers\"\"\"\\n    c = a + b\\n    return c\\n\\nx = add(2,5)', 'x': 7, '_i32': 'def add(a,b):\\n    \"\"\"This Func. will return addition of two numbers\"\"\"\\n    c = a + b\\n    return c\\n\\nx = add(2,5)\\nprint(x)', '_i33': 'lst = [2, 4, 6, 8, 10]\\n\\ndef product():\\n    \"\"\"\\n    Parameters: This Func will take list as parameter.\\n    Return: This Func will return product of elements of the list.\\n    \"\"\"\\n\\n    p = 1\\n    for i in lst:\\n        p *=i\\n        return P', 'product': <function product at 0x0000022E4D8F5DA0>, '_i34': 'lst = [2, 4, 6, 8, 10]\\n\\ndef product():\\n    \"\"\"\\n    Parameters: This Func will take list as parameter.\\n    Return: This Func will return product of elements of the list.\\n    \"\"\"\\n\\n    p = 1\\n    for i in lst:\\n        p *=i\\n        return P\\n\\nresult = product(lst)', '_i35': 'list = [2, 4, 6, 8, 10]\\n\\ndef product(lst):\\n    \"\"\"\\n    Parameters: This Func will take list as parameter.\\n    Return: This Func will return product of elements of the list.\\n    \"\"\"\\n\\n    p = 1\\n    for i in list:\\n        p *=i\\n        return P\\n\\nresult = product(list)\\nprint(result)', 'list': [2, 4, 6, 8, 10], '_i36': 'list = [2, 4, 6, 8, 10]\\n\\ndef product(lst):\\n    \"\"\"\\n    Parameters: This Func will take list as parameter.\\n    Return: This Func will return product of elements of the list.\\n    \"\"\"\\n\\n    p = 1\\n    for i in list:\\n        p *=i\\n        return P\\n\\nresult = product(lst)\\nprint(result)', '_i37': 'list = [2, 4, 6, 8, 10]\\n\\ndef product(lst):\\n    \"\"\"\\n    Parameters: This Func will take list as parameter.\\n    Return: This Func will return product of elements of the list.\\n    \"\"\"\\n\\n    p = 1\\n    for i in list:\\n        p *=i\\n    return P\\n\\nresult = product(list)\\nprint(result)', '_i38': 'def product(lst):\\n    \"\"\"\\n    Parameters: This Func will take list as parameter.\\n    Return: This Func will return product of elements of the list.\\n    \"\"\"\\n\\n    p = 1\\n    for i in list:\\n        p *=i\\n    return P\\n\\nlist = [2, 4, 6, 8, 10]\\n\\nresult = product(list)\\nprint(result)', '_i39': 'def product(lst):\\n    \"\"\"\\n    Parameters: This Func will take list as parameter.\\n    Return: This Func will return product of elements of the list.\\n    \"\"\"\\n\\n    p = 1\\n    for i in list:\\n        p *=i\\n    return p\\n\\nlist = [2, 4, 6, 8, 10]\\n\\nresult = product(list)\\nprint(result)', 'result': 3840, '_i40': 'def product(lst):\\n    \"\"\"\\n    Parameters: This Func will take list as parameter.\\n    Return: This Func will return product of elements of the list.\\n    \"\"\"\\n\\n    p = 1\\n    for i in list:\\n        p *=i\\n    return p\\n\\nlist1 = [2, 4, 6, 8, 10]\\n\\nresult = product(list1)\\nprint(result)', 'list1': [2, 4, 6, 8, 10], '_i41': 'def product(lst):\\n    \"\"\"\\n    Parameters: This Func will take list as parameter.\\n    Return: This Func will return product of elements of the list.\\n    \"\"\"\\n\\n    p = 1\\n    for i in list:\\n        p *=i\\n    return p\\n\\nlist1 = [2, 4, 6, 8, 10]\\n\\nresult = product(list1)\\nprint(result)', '_i42': 'def calculator(a, b):\\n    \"\"\"This Function will do  basic operations\"\"\"\\n\\n    res1 = a + b\\n    res2 = a - b\\n    res3 = a * b\\n    res4 = a / b\\n\\nprint(calculator(17, 5))', 'calculator': <function calculator at 0x0000022E4D99ED40>, '_i43': 'def calculator(a, b):\\n    \"\"\"This Function will do  basic operations\"\"\"\\n\\n    res1 = a + b\\n    res2 = a - b\\n    res3 = a * b\\n    res4 = a / b\\n\\n    return res1, res2, res3, res4\\n\\n\\nprint(calculator(17, 5))', '_i44': 'def calculator(a, b):\\n    \"\"\"This Function will do  basic operations\"\"\"\\n\\n    res1 = a + b\\n    res2 = a - b\\n    res3 = a * b\\n    res4 = a / b\\n\\n    #return res1, res2, res3, res4\\n    return [res1, res2, res3, res4]\\n\\n\\nprint(calculator(17, 5))', '_i45': 'def calculator(a, b):\\n    \"\"\"This Function will do  basic operations\"\"\"\\n\\n    res1 = a + b\\n    res2 = a - b\\n    res3 = a * b\\n    res4 = a / b\\n\\n    #return res1, res2, res3, res4\\n    return [res1, res2, res3, res4]\\n\\ncal_res = calculator(17,5)\\nprint(cal_res)', 'cal_res': [22, 12, 85, 3.4], '_i46': '# To print out all the global variable.\\nprint(globals())', '_i47': '# To print out all the global variable. It give output in the form of a dictionary.\\nprint(globals())', '_i48': 'age = 27', 'age': 27, '_i49': '# To print out all the global variable. It give output in the form of a dictionary.\\nprint(globals())', '_i50': '# To print out all the global variable. It give output in the form of a dictionary.\\nprint(globals())\\nprint(globals()[\"age\"])'}\n",
      "27\n"
     ]
    }
   ],
   "source": [
    "# To print out all the global variable. It give output in the form of a dictionary.\n",
    "print(globals())\n",
    "\n",
    "# To check if specific word is a global variable.\n",
    "print(globals()[\"age\"])"
   ]
  },
  {
   "cell_type": "code",
   "execution_count": 59,
   "id": "b33da7c9",
   "metadata": {},
   "outputs": [
    {
     "name": "stdout",
     "output_type": "stream",
     "text": [
      "7\n",
      "0\n"
     ]
    },
    {
     "data": {
      "text/plain": [
       "66"
      ]
     },
     "execution_count": 59,
     "metadata": {},
     "output_type": "execute_result"
    }
   ],
   "source": [
    "# Simple Lambda function sytax.\n",
    "\n",
    "lambda a, b: a + b\n",
    "\n",
    "\n",
    "\n",
    "res = (lambda x, y: x+y if x+y > 0 else 0)\n",
    "\n",
    "print(res(3, 4))\n",
    "print(res(-3, -4))\n",
    "\n",
    "# or \n",
    "(lambda x, y: x+y if x+y > 0 else 0) (49,17)"
   ]
  },
  {
   "cell_type": "code",
   "execution_count": null,
   "id": "929a7d27",
   "metadata": {},
   "outputs": [],
   "source": []
  },
  {
   "cell_type": "code",
   "execution_count": 60,
   "id": "a544d448",
   "metadata": {},
   "outputs": [
    {
     "name": "stdout",
     "output_type": "stream",
     "text": [
      "3840\n"
     ]
    }
   ],
   "source": [
    "def product(lst):\n",
    "    \"\"\"\n",
    "    Parameters: This Func will take list as parameter.\n",
    "    Return: This Func will return product of elements of the list.\n",
    "    \"\"\"\n",
    "\n",
    "    p = 1\n",
    "    for i in list:\n",
    "        p *=i\n",
    "    return p\n",
    "\n",
    "list1 = [2, 4, 6, 8, 10]\n",
    "\n",
    "result = product(list1)\n",
    "print(result)"
   ]
  },
  {
   "cell_type": "code",
   "execution_count": 61,
   "id": "b0a66191",
   "metadata": {},
   "outputs": [
    {
     "name": "stdout",
     "output_type": "stream",
     "text": [
      "323\n"
     ]
    }
   ],
   "source": [
    "def LCM(x,y):\n",
    "    \"\"\"This Function will retrun LCM of two number\"\"\"\n",
    "\n",
    "    max_num = max(x,y)\n",
    "\n",
    "    while True:\n",
    "        if( (max_num % x == 0) and (max_num % y == 0) ):\n",
    "            return max_num\n",
    "        else:\n",
    "            max_num += 1\n",
    "\n",
    "print(LCM(17, 19))"
   ]
  },
  {
   "cell_type": "markdown",
   "id": "4f01ad9e",
   "metadata": {},
   "source": [
    "Default parameters always comes after positional parameters.\n"
   ]
  },
  {
   "cell_type": "code",
   "execution_count": 70,
   "id": "b5bc1f88",
   "metadata": {},
   "outputs": [
    {
     "name": "stdout",
     "output_type": "stream",
     "text": [
      "(2, 3, 4, 5, 17)\n",
      "4\n",
      "6\n",
      "8\n",
      "10\n",
      "34\n",
      "<function arg_tup at 0x0000022E4DA7AC00>\n"
     ]
    }
   ],
   "source": [
    "# Arbitary arguments ( *args), it can receive any number of arguments and stores them in a tuple\n",
    "\n",
    "def arg_tup(*args):\n",
    "    \"\"\"Arbitary argument example fuc.\"\"\"\n",
    "    print(args)\n",
    "    \n",
    "    for i in args:\n",
    "        print(i*2)\n",
    "\n",
    "arg_tup(2,3,4,5,17)\n",
    "print(arg_tup)\n"
   ]
  },
  {
   "cell_type": "code",
   "execution_count": 78,
   "id": "1fbe265f",
   "metadata": {},
   "outputs": [
    {
     "name": "stdout",
     "output_type": "stream",
     "text": [
      "{'name': 'Pratul', 'age': 26, 'nationality': 'Indian', 'hobbies': ['Cricket', 'CrossFit', 'Phunter']}\n",
      "name : Pratul\n",
      "age : 26\n",
      "nationality : Indian\n",
      "hobbies : ['Cricket', 'CrossFit', 'Phunter']\n"
     ]
    }
   ],
   "source": [
    "# Keyword arguments ( **kwargs ), it also takes any number of arguments and stores in form of dictionary. Parameter name is mandatory while calling function.\n",
    "\n",
    "def introdution(**kwargs):\n",
    "    print(kwargs)\n",
    "\n",
    "    for k,v in kwargs.items():\n",
    "        print(k , \":\", v)\n",
    "\n",
    "\n",
    "introdution(name = \"Pratul\", age = 26, nationality = \"Indian\", hobbies = [\"Cricket\", \"CrossFit\", \"Phunter\"])\n",
    "\n",
    "\n"
   ]
  },
  {
   "cell_type": "code",
   "execution_count": 83,
   "id": "b50bca11",
   "metadata": {},
   "outputs": [
    {
     "name": "stdout",
     "output_type": "stream",
     "text": [
      "100 200 300 400\n",
      "(500, 600)\n",
      "{'x': 78, 'y': 99, 'z': 0.0}\n"
     ]
    }
   ],
   "source": [
    "# Precedence of giving arguments. positional > default > *args, **kwargs.\n",
    "\n",
    "def combination(a,b,c, age = 18, *args, **kwargs):\n",
    "    print(a,b,c,age)\n",
    "    print(args)\n",
    "    print(kwargs)\n",
    "\n",
    "combination(100,200, 300, 400, 500, 600, x= 78, y = 99, z = 0.0)\n"
   ]
  },
  {
   "cell_type": "code",
   "execution_count": 95,
   "id": "2e956c3c",
   "metadata": {},
   "outputs": [
    {
     "name": "stdout",
     "output_type": "stream",
     "text": [
      "120\n",
      "120\n"
     ]
    }
   ],
   "source": [
    "# Reduce Function\n",
    "\n",
    "lst = [1,2,3,4,5]\n",
    "\n",
    "from functools import reduce\n",
    "\n",
    "def multiply(x,y):\n",
    "    return x*y\n",
    "\n",
    "product = reduce(multiply, lst)\n",
    "print(product)\n",
    "\n",
    "# or\n",
    "\n",
    "pdt = reduce( lambda x,y: x*y, lst )\n",
    "print(pdt)"
   ]
  },
  {
   "cell_type": "code",
   "execution_count": 103,
   "id": "eaeded39",
   "metadata": {},
   "outputs": [
    {
     "name": "stdout",
     "output_type": "stream",
     "text": [
      "6\n",
      "17\n"
     ]
    }
   ],
   "source": [
    "lst = [2,4,5,6]\n",
    "#print(sum(2,4,6))\n",
    "print(sum([1,2,3]))\n",
    "print(sum(lst))"
   ]
  },
  {
   "cell_type": "code",
   "execution_count": 98,
   "id": "38cec035",
   "metadata": {},
   "outputs": [
    {
     "name": "stdout",
     "output_type": "stream",
     "text": [
      "False\n"
     ]
    }
   ],
   "source": [
    "print(min(max(False,-3,-4), 2,7))"
   ]
  },
  {
   "cell_type": "code",
   "execution_count": 99,
   "id": "23fb0753",
   "metadata": {},
   "outputs": [
    {
     "data": {
      "text/plain": [
       "1"
      ]
     },
     "execution_count": 99,
     "metadata": {},
     "output_type": "execute_result"
    }
   ],
   "source": [
    "x=3\n",
    "eval('x^2')"
   ]
  },
  {
   "cell_type": "code",
   "execution_count": 121,
   "id": "986809ff",
   "metadata": {},
   "outputs": [
    {
     "name": "stdout",
     "output_type": "stream",
     "text": [
      "['__doc__', '__loader__', '__name__', '__package__', '__spec__', 'acos', 'acosh', 'asin', 'asinh', 'atan', 'atan2', 'atanh', 'cbrt', 'ceil', 'comb', 'copysign', 'cos', 'cosh', 'degrees', 'dist', 'e', 'erf', 'erfc', 'exp', 'exp2', 'expm1', 'fabs', 'factorial', 'floor', 'fma', 'fmod', 'frexp', 'fsum', 'gamma', 'gcd', 'hypot', 'inf', 'isclose', 'isfinite', 'isinf', 'isnan', 'isqrt', 'lcm', 'ldexp', 'lgamma', 'log', 'log10', 'log1p', 'log2', 'modf', 'nan', 'nextafter', 'perm', 'pi', 'pow', 'prod', 'radians', 'remainder', 'sin', 'sinh', 'sqrt', 'sumprod', 'tan', 'tanh', 'tau', 'trunc', 'ulp']\n"
     ]
    },
    {
     "data": {
      "text/plain": [
       "120"
      ]
     },
     "execution_count": 121,
     "metadata": {},
     "output_type": "execute_result"
    }
   ],
   "source": [
    "# Modules\n",
    "\n",
    "#math\n",
    "\n",
    "import math\n",
    "\n",
    "print( dir(math ))\n",
    "\n",
    "math.pi\n",
    "math.factorial(5)\n",
    "math.pow(17,3)\n",
    "math.ceil(79.2)\n",
    "\n",
    "# If you want to import only a specific func from module\n",
    "from math import factorial\n",
    "factorial(5)"
   ]
  },
  {
   "cell_type": "code",
   "execution_count": 113,
   "id": "79334b48",
   "metadata": {},
   "outputs": [
    {
     "data": {
      "text/plain": [
       "11"
      ]
     },
     "execution_count": 113,
     "metadata": {},
     "output_type": "execute_result"
    }
   ],
   "source": [
    "# random\n",
    "\n",
    "import random\n",
    "\n",
    "random.randint(10,30)\n"
   ]
  },
  {
   "cell_type": "code",
   "execution_count": 122,
   "id": "5f9823e7",
   "metadata": {},
   "outputs": [
    {
     "data": {
      "text/plain": [
       "'c:\\\\Users\\\\pratu\\\\OneDrive\\\\Desktop\\\\Study\\\\python'"
      ]
     },
     "execution_count": 122,
     "metadata": {},
     "output_type": "execute_result"
    }
   ],
   "source": [
    "# os\n",
    "import os\n",
    "os.getcwd()"
   ]
  },
  {
   "cell_type": "code",
   "execution_count": 118,
   "id": "b3e51548",
   "metadata": {},
   "outputs": [
    {
     "data": {
      "text/plain": [
       "'3.13.5 (tags/v3.13.5:6cb20a2, Jun 11 2025, 16:15:46) [MSC v.1943 64 bit (AMD64)]'"
      ]
     },
     "execution_count": 118,
     "metadata": {},
     "output_type": "execute_result"
    }
   ],
   "source": [
    "# sys\n",
    "import sys\n",
    "sys.version"
   ]
  },
  {
   "cell_type": "code",
   "execution_count": 119,
   "id": "98a4d545",
   "metadata": {},
   "outputs": [
    {
     "data": {
      "text/plain": [
       "datetime.datetime(2025, 7, 16, 20, 59, 44, 604531)"
      ]
     },
     "execution_count": 119,
     "metadata": {},
     "output_type": "execute_result"
    }
   ],
   "source": [
    "# datetime\n",
    "import datetime\n",
    "datetime.datetime.now()"
   ]
  },
  {
   "cell_type": "code",
   "execution_count": 136,
   "id": "87fb8295",
   "metadata": {},
   "outputs": [
    {
     "name": "stdout",
     "output_type": "stream",
     "text": [
      "['c:\\\\Users\\\\pratu\\\\OneDrive\\\\Desktop\\\\Study\\\\python\\\\venv\\\\Lib\\\\site-packages\\\\ipykernel_launcher.py', '--f=c:\\\\Users\\\\pratu\\\\AppData\\\\Roaming\\\\jupyter\\\\runtime\\\\kernel-v3292614d255771d79be15731863bd40e3bba8714c.json']\n"
     ]
    }
   ],
   "source": [
    "import sys\n",
    "sys.getsizeof(a)\n",
    "print(sys.argv)"
   ]
  },
  {
   "cell_type": "code",
   "execution_count": 140,
   "id": "0b71f8cf",
   "metadata": {},
   "outputs": [
    {
     "data": {
      "text/plain": [
       "'Hello ! Pratul'"
      ]
     },
     "execution_count": 140,
     "metadata": {},
     "output_type": "execute_result"
    }
   ],
   "source": [
    "# Custom modules\n",
    "def greetings(name):\n",
    "    return \"Hello ! \"+ name\n",
    "\n",
    "greetings(\"Pratul\")"
   ]
  },
  {
   "cell_type": "markdown",
   "id": "eea4e42a",
   "metadata": {},
   "source": [
    "Hashing is a technique used to uniquely identify a piece of data using a hash function. In Python, hashing is commonly used for:\n",
    "\n",
    "- Dictionaries (hash tables)\n",
    "- Sets\n",
    "- Data integrity\n",
    "- Cryptography\n",
    "\n",
    "Only immutable types (like int, str, tuple) are hashable.\n",
    "\n",
    "Mutable types like lists and dicts are not hashable.\n",
    "\n"
   ]
  },
  {
   "cell_type": "code",
   "execution_count": 141,
   "id": "832ecc7c",
   "metadata": {},
   "outputs": [
    {
     "data": {
      "text/plain": [
       "-1254993527707151695"
      ]
     },
     "execution_count": 141,
     "metadata": {},
     "output_type": "execute_result"
    }
   ],
   "source": [
    "hash(\"python\")"
   ]
  },
  {
   "cell_type": "code",
   "execution_count": 150,
   "id": "14b447c8",
   "metadata": {},
   "outputs": [
    {
     "name": "stdout",
     "output_type": "stream",
     "text": [
      "[2, 4, 8, 600]\n"
     ]
    }
   ],
   "source": [
    "lst = [4, 8, 2, 600]\n",
    "lst.sort()\n",
    "print(lst)"
   ]
  },
  {
   "cell_type": "markdown",
   "id": "00c22ffb",
   "metadata": {},
   "source": [
    "append()\n",
    "Adds a single element to the end of the list.\n",
    "If you pass a list, it adds the entire list as a single nested element.\n",
    "\n",
    "- ex. lst =[60, 8, 4, 2]\n",
    "- my_lst.append([10,20,30])\n",
    "- [60, 8, 4, 2, [10, 20, 30]]\n",
    "\n",
    "extend()\n",
    "Adds each element of an iterable (like list, tuple, string) to the list.\n",
    "It flattens the iterable and adds the items individually.\n",
    "\n",
    "- ex. lst =[60, 8, 4, 2]\n",
    "- my_lst.extend([10,20,30])\n",
    "- [60, 8, 4, 2, [10, 20, 30], 10, 20, 30]\n"
   ]
  },
  {
   "cell_type": "code",
   "execution_count": 153,
   "id": "01959a27",
   "metadata": {},
   "outputs": [
    {
     "name": "stdout",
     "output_type": "stream",
     "text": [
      "[7, 8, 9, 3, 5, 2]\n"
     ]
    }
   ],
   "source": [
    "# Right rotation\n",
    "\n",
    "lst = [3, 5, 2, 7, 8, 9]\n",
    "steps = 3\n",
    "n = len(lst)\n",
    "steps = steps % n  # Always do this\n",
    "\n",
    "lst = lst[-steps:] + lst[:-steps]\n",
    "print(lst)  # [3, 5, 2, 7, 8, 9]\n"
   ]
  },
  {
   "cell_type": "markdown",
   "id": "162e9dd5",
   "metadata": {},
   "source": [
    "What does right shift do?\n",
    "A right shift (>>) moves all bits in the binary representation of a number one place to the right.\n",
    "Each right shift divides the number by 2 (and drops the decimal part, if any).\n",
    "\n",
    "- n >> 1 is same as n // 2 (for non-negative integers)\n",
    "- Each right shift by 1 ➝ divide by 2\n",
    "- Each left shift by 1 (n << 1) ➝ multiply by 2"
   ]
  },
  {
   "cell_type": "markdown",
   "id": "d70381d8",
   "metadata": {},
   "source": [
    "| Feature                       | `reversed()`                                      | `reverse()`                    |\n",
    "| ----------------------------- | ------------------------------------------------- | ------------------------------ |\n",
    "| **Type**                      | Built-in **function**                             | List **method**                |\n",
    "| **Returns**                   | A new **iterator** (doesn’t change original list) | **Modifies the list in-place** |\n",
    "| **Usage**                     | `reversed(iterable)`                              | `list.reverse()`               |\n",
    "| **Can be used in print/join** | ✅ Yes (e.g., `join(reversed(...))`)               | ❌ No — returns `None`          |\n",
    "\n",
    "\n",
    "✅ Use reversed(list) if:\n",
    "\n",
    "- You need to reverse a copy.\n",
    "\n",
    "- You want to use it inside another expression (like print or join).\n",
    "\n",
    "✅ Use list.reverse() if:\n",
    "\n",
    "- You want to change the original list in-place.\n",
    "\n",
    "- You're not using it inside a join() or print() directly."
   ]
  },
  {
   "cell_type": "code",
   "execution_count": 2,
   "id": "65270c19",
   "metadata": {},
   "outputs": [
    {
     "name": "stdout",
     "output_type": "stream",
     "text": [
      "1010\n"
     ]
    }
   ],
   "source": [
    "n=10\n",
    "binary_digit=[]\n",
    "\n",
    "# Getting the binary digit\n",
    "while n>0:\n",
    "    rem=n%2\n",
    "    binary_digit.append(str(rem))\n",
    "    n=n//2\n",
    "\n",
    "# Reversing the digit\n",
    "print(\"\".join(reversed(binary_digit)))\n"
   ]
  },
  {
   "cell_type": "code",
   "execution_count": null,
   "id": "3fd33929",
   "metadata": {},
   "outputs": [
    {
     "name": "stdout",
     "output_type": "stream",
     "text": [
      "14\n"
     ]
    }
   ],
   "source": [
    "array = [10, 0, 1, 2, 3, 5, 4, 0, 10, 6, 5, -2, -3, 2, 3]\n",
    "print(len(array))\n"
   ]
  },
  {
   "cell_type": "markdown",
   "id": "19949e56",
   "metadata": {},
   "source": [
    "The factorial of a number is the product of all positive integers less than or equal to that number.\n",
    "\n",
    "ex. n!=n×(n−1)×(n−2)×…×2×1\n",
    "\n",
    "5!=5×4×3×2×1=120\n",
    "\n",
    "0!=1 (by definition)"
   ]
  },
  {
   "cell_type": "code",
   "execution_count": 17,
   "id": "81f4c4b5",
   "metadata": {},
   "outputs": [],
   "source": [
    "# To open a file in py.\n",
    "f = open(\"file_handle.txt\")\n",
    "\n",
    "# Python modes\n",
    "# r, w, a, t, b, + "
   ]
  },
  {
   "cell_type": "code",
   "execution_count": null,
   "id": "a59b5c85",
   "metadata": {},
   "outputs": [],
   "source": [
    "# To create a file, it has to be done in write 'w' mode.\n",
    "f = open(\"file_handle.txt\", 'w')"
   ]
  },
  {
   "cell_type": "code",
   "execution_count": 16,
   "id": "2ceed10b",
   "metadata": {},
   "outputs": [
    {
     "data": {
      "text/plain": [
       "True"
      ]
     },
     "execution_count": 16,
     "metadata": {},
     "output_type": "execute_result"
    }
   ],
   "source": [
    "# To check if a file is opne or closed?\n",
    "f.closed\n"
   ]
  },
  {
   "cell_type": "code",
   "execution_count": 19,
   "id": "bdbbed75",
   "metadata": {},
   "outputs": [],
   "source": [
    "# To close a file.\n",
    "f.close()"
   ]
  },
  {
   "cell_type": "code",
   "execution_count": 22,
   "id": "a839ca6e",
   "metadata": {},
   "outputs": [
    {
     "name": "stdout",
     "output_type": "stream",
     "text": [
      "Inside:  False\n",
      "Outside:  True\n"
     ]
    }
   ],
   "source": [
    "# To avoid memory leak, use context manager (with)\n",
    "\n",
    "with open(\"file_handle.txt\", 'r') as f:\n",
    "    print(\"Inside: \", f.closed)\n",
    "\n",
    "print(\"Outside: \", f.closed)"
   ]
  },
  {
   "cell_type": "code",
   "execution_count": 36,
   "id": "15fb36b2",
   "metadata": {},
   "outputs": [],
   "source": [
    "# Writing to a file.\n",
    "\n",
    "with open(\"file_handle.txt\", 'w') as f:\n",
    "    f.write(\"Testing, Testing, 1,2,3,.... \\n\")"
   ]
  },
  {
   "cell_type": "code",
   "execution_count": 37,
   "id": "1a419a76",
   "metadata": {},
   "outputs": [],
   "source": [
    "# Append to a file\n",
    "\n",
    "with open(\"file_handle.txt\", 'a') as f:\n",
    "    f.write(\"Appending to the existig file. \\n\")\n",
    "    f.write(\"jai Jai Siya Ram. \\n\")"
   ]
  },
  {
   "cell_type": "code",
   "execution_count": 38,
   "id": "e7a279b2",
   "metadata": {},
   "outputs": [
    {
     "name": "stdout",
     "output_type": "stream",
     "text": [
      "Testing, Testing, 1,2,3,.... \n",
      "Appending to the existig file. \n",
      "jai Jai Siya Ram. \n",
      "\n"
     ]
    }
   ],
   "source": [
    "# Reading form a file.\n",
    "\n",
    "with open(\"file_handle.txt\", 'r') as f:\n",
    "\n",
    "    data = f.read()\n",
    "    print(data)"
   ]
  },
  {
   "cell_type": "code",
   "execution_count": 44,
   "id": "0b887eb2",
   "metadata": {},
   "outputs": [
    {
     "name": "stdout",
     "output_type": "stream",
     "text": [
      "Testing\n",
      ", Testing\n"
     ]
    }
   ],
   "source": [
    "# To read only few char from a file.\n",
    "\n",
    "with open(\"file_handle.txt\", 'r') as f:\n",
    "    # 1st 6 char..\n",
    "    data = f.read(7)\n",
    "    print(data)\n",
    "\n",
    "    # next 6 char..\n",
    "    data = f.read(9)\n",
    "    print(data)"
   ]
  },
  {
   "cell_type": "code",
   "execution_count": null,
   "id": "da11bd3a",
   "metadata": {},
   "outputs": [
    {
     "name": "stdout",
     "output_type": "stream",
     "text": [
      "0\n",
      "Testing\n",
      "7\n",
      "Testing, Testing, 1,\n"
     ]
    }
   ],
   "source": [
    "# To know the position of file handle use 'tell'.\n",
    "\n",
    "with open(\"file_handle.txt\", 'r') as f:\n",
    "\n",
    "    print(f.tell())\n",
    "\n",
    "    print(f.read(7))\n",
    "\n",
    "    print(f.tell())\n",
    "\n",
    "# To change the position of file handle use 'seek'.\n",
    "\n",
    "    f.seek(0)\n",
    "\n",
    "    print(f.read(20))"
   ]
  },
  {
   "cell_type": "code",
   "execution_count": null,
   "id": "7c3c786a",
   "metadata": {},
   "outputs": [
    {
     "name": "stdout",
     "output_type": "stream",
     "text": [
      "Testing, Testing, 1,2,3,.... \n",
      "\n",
      "Appending to the existig file. \n",
      "\n",
      "jai Jai Siya Ram. \n",
      "\n"
     ]
    }
   ],
   "source": [
    "# To read file line by line.\n",
    "\n",
    "with open(\"file_handle.txt\", 'r') as f:\n",
    "    data = f.readlines()\n",
    "\n",
    "    #print(data)      # This will give list.\n",
    "\n",
    "    for line in data:\n",
    "        print(line)"
   ]
  },
  {
   "cell_type": "code",
   "execution_count": null,
   "id": "4ffb208d",
   "metadata": {},
   "outputs": [
    {
     "name": "stdout",
     "output_type": "stream",
     "text": [
      "['Testing, Testing, 1,2,3,.... \\n', 'Har Har MahaDev!! \\n', 'jai Jai Siya Ram. \\n']\n",
      "Testing, Testing, 1,2,3,.... \n",
      "Har Har MahaDev!! \n",
      "jai Jai Siya Ram. \n",
      "\n"
     ]
    }
   ],
   "source": [
    "import os\n",
    "\n",
    "filename = \"file_handle.txt\"\n",
    "\n",
    "data = None\n",
    "\n",
    "with open(filename, 'r') as f:\n",
    "    data = f.readlines()\n",
    "\n",
    "print(data)\n",
    "\n",
    "# Changing the content of file.\n",
    "data[-2] = \"Har Har MahaDev!! \\n\" \n",
    "\n",
    "# Joining to the output.\n",
    "dataToWrite = \"\".join(data)\n",
    "print(dataToWrite)\n",
    "\n",
    "#creating new file\n",
    "with open(\"temp.txt\", 'w') as f:\n",
    "    f.write(dataToWrite)\n",
    "\n",
    "# removing the OG File.\n",
    "os.remove(filename)\n",
    "\n",
    "# renaming the file.\n",
    "os.rename(\"temp.txt\", filename)"
   ]
  },
  {
   "cell_type": "markdown",
   "id": "5b690242",
   "metadata": {},
   "source": [
    "ERRORs\n"
   ]
  },
  {
   "cell_type": "code",
   "execution_count": 72,
   "id": "24d553a7",
   "metadata": {},
   "outputs": [
    {
     "ename": "NameError",
     "evalue": "name 'a' is not defined",
     "output_type": "error",
     "traceback": [
      "\u001b[31m---------------------------------------------------------------------------\u001b[39m",
      "\u001b[31mNameError\u001b[39m                                 Traceback (most recent call last)",
      "\u001b[36mCell\u001b[39m\u001b[36m \u001b[39m\u001b[32mIn[72]\u001b[39m\u001b[32m, line 1\u001b[39m\n\u001b[32m----> \u001b[39m\u001b[32m1\u001b[39m \u001b[38;5;28mprint\u001b[39m(\u001b[43ma\u001b[49m)\n",
      "\u001b[31mNameError\u001b[39m: name 'a' is not defined"
     ]
    }
   ],
   "source": [
    "print(a)"
   ]
  },
  {
   "cell_type": "code",
   "execution_count": 74,
   "id": "41dc4062",
   "metadata": {},
   "outputs": [
    {
     "ename": "_IncompleteInputError",
     "evalue": "incomplete input (2090848999.py, line 1)",
     "output_type": "error",
     "traceback": [
      "  \u001b[36mCell\u001b[39m\u001b[36m \u001b[39m\u001b[32mIn[74]\u001b[39m\u001b[32m, line 1\u001b[39m\n\u001b[31m    \u001b[39m\u001b[31mif (5 > 3):\u001b[39m\n               ^\n\u001b[31m_IncompleteInputError\u001b[39m\u001b[31m:\u001b[39m incomplete input\n"
     ]
    }
   ],
   "source": [
    "if (5 > 3):"
   ]
  },
  {
   "cell_type": "code",
   "execution_count": 75,
   "id": "8497d54d",
   "metadata": {},
   "outputs": [
    {
     "ename": "ModuleNotFoundError",
     "evalue": "No module named 'dontknow'",
     "output_type": "error",
     "traceback": [
      "\u001b[31m---------------------------------------------------------------------------\u001b[39m",
      "\u001b[31mModuleNotFoundError\u001b[39m                       Traceback (most recent call last)",
      "\u001b[36mCell\u001b[39m\u001b[36m \u001b[39m\u001b[32mIn[75]\u001b[39m\u001b[32m, line 1\u001b[39m\n\u001b[32m----> \u001b[39m\u001b[32m1\u001b[39m \u001b[38;5;28;01mimport\u001b[39;00m\u001b[38;5;250m \u001b[39m\u001b[34;01mdontknow\u001b[39;00m\n",
      "\u001b[31mModuleNotFoundError\u001b[39m: No module named 'dontknow'"
     ]
    }
   ],
   "source": [
    "import dontknow"
   ]
  },
  {
   "cell_type": "code",
   "execution_count": 76,
   "id": "5896dcbb",
   "metadata": {},
   "outputs": [
    {
     "ename": "AttributeError",
     "evalue": "'str' object has no attribute 'sort'",
     "output_type": "error",
     "traceback": [
      "\u001b[31m---------------------------------------------------------------------------\u001b[39m",
      "\u001b[31mAttributeError\u001b[39m                            Traceback (most recent call last)",
      "\u001b[36mCell\u001b[39m\u001b[36m \u001b[39m\u001b[32mIn[76]\u001b[39m\u001b[32m, line 1\u001b[39m\n\u001b[32m----> \u001b[39m\u001b[32m1\u001b[39m \u001b[33;43m\"\u001b[39;49m\u001b[33;43mCoding inutes\u001b[39;49m\u001b[33;43m\"\u001b[39;49m\u001b[43m.\u001b[49m\u001b[43msort\u001b[49m()\n",
      "\u001b[31mAttributeError\u001b[39m: 'str' object has no attribute 'sort'"
     ]
    }
   ],
   "source": [
    "\"Coding inutes\".sort()"
   ]
  },
  {
   "cell_type": "code",
   "execution_count": 77,
   "id": "9bdfe26c",
   "metadata": {},
   "outputs": [
    {
     "name": "stdout",
     "output_type": "stream",
     "text": [
      "['ArithmeticError', 'AssertionError', 'AttributeError', 'BaseException', 'BaseExceptionGroup', 'BlockingIOError', 'BrokenPipeError', 'BufferError', 'BytesWarning', 'ChildProcessError', 'ConnectionAbortedError', 'ConnectionError', 'ConnectionRefusedError', 'ConnectionResetError', 'DeprecationWarning', 'EOFError', 'Ellipsis', 'EncodingWarning', 'EnvironmentError', 'Exception', 'ExceptionGroup', 'False', 'FileExistsError', 'FileNotFoundError', 'FloatingPointError', 'FutureWarning', 'GeneratorExit', 'IOError', 'ImportError', 'ImportWarning', 'IndentationError', 'IndexError', 'InterruptedError', 'IsADirectoryError', 'KeyError', 'KeyboardInterrupt', 'LookupError', 'MemoryError', 'ModuleNotFoundError', 'NameError', 'None', 'NotADirectoryError', 'NotImplemented', 'NotImplementedError', 'OSError', 'OverflowError', 'PendingDeprecationWarning', 'PermissionError', 'ProcessLookupError', 'PythonFinalizationError', 'RecursionError', 'ReferenceError', 'ResourceWarning', 'RuntimeError', 'RuntimeWarning', 'StopAsyncIteration', 'StopIteration', 'SyntaxError', 'SyntaxWarning', 'SystemError', 'SystemExit', 'TabError', 'TimeoutError', 'True', 'TypeError', 'UnboundLocalError', 'UnicodeDecodeError', 'UnicodeEncodeError', 'UnicodeError', 'UnicodeTranslateError', 'UnicodeWarning', 'UserWarning', 'ValueError', 'Warning', 'WindowsError', 'ZeroDivisionError', '_IncompleteInputError', '__IPYTHON__', '__build_class__', '__debug__', '__doc__', '__import__', '__loader__', '__name__', '__package__', '__spec__', 'abs', 'aiter', 'all', 'anext', 'any', 'ascii', 'bin', 'bool', 'breakpoint', 'bytearray', 'bytes', 'callable', 'chr', 'classmethod', 'compile', 'complex', 'copyright', 'credits', 'delattr', 'dict', 'dir', 'display', 'divmod', 'enumerate', 'eval', 'exec', 'execfile', 'filter', 'float', 'format', 'frozenset', 'get_ipython', 'getattr', 'globals', 'hasattr', 'hash', 'help', 'hex', 'id', 'input', 'int', 'isinstance', 'issubclass', 'iter', 'len', 'license', 'list', 'locals', 'map', 'max', 'memoryview', 'min', 'next', 'object', 'oct', 'open', 'ord', 'pow', 'print', 'property', 'range', 'repr', 'reversed', 'round', 'runfile', 'set', 'setattr', 'slice', 'sorted', 'staticmethod', 'str', 'sum', 'super', 'tuple', 'type', 'vars', 'zip']\n"
     ]
    }
   ],
   "source": [
    "print(dir(__builtins__))"
   ]
  },
  {
   "cell_type": "markdown",
   "id": "eb217491",
   "metadata": {},
   "source": [
    "Try - Except"
   ]
  },
  {
   "cell_type": "code",
   "execution_count": 84,
   "id": "b8e04205",
   "metadata": {},
   "outputs": [
    {
     "name": "stdout",
     "output_type": "stream",
     "text": [
      "current Element:  2\n",
      "Result:  2.5\n",
      "--------------------------------------------------\n",
      "current Element:  5\n",
      "Result:  1.0\n",
      "--------------------------------------------------\n",
      "current Element:  0\n",
      "--------------------------------------------------\n",
      "current Element:  Name\n",
      "--------------------------------------------------\n",
      "current Element:  GoGo\n",
      "--------------------------------------------------\n",
      "current Element:  None\n",
      "--------------------------------------------------\n",
      "current Element:  3.0\n",
      "Result:  1.6666666666666667\n",
      "--------------------------------------------------\n"
     ]
    }
   ],
   "source": [
    "lst = [2, 5, 0, \"Name\", \"GoGo\", None, 3.0]\n",
    "\n",
    "for ele in lst:\n",
    "    try:\n",
    "        print(\"current Element: \", ele)\n",
    "        res = 5/int(ele)\n",
    "        print(\"Result: \", res)\n",
    "    except:\n",
    "        pass\n",
    "    print(\"-\" * 50)"
   ]
  },
  {
   "cell_type": "code",
   "execution_count": 83,
   "id": "6904cb38",
   "metadata": {},
   "outputs": [
    {
     "name": "stdout",
     "output_type": "stream",
     "text": [
      "current Element:  2\n",
      "Result:  2.5\n",
      "--------------------------------------------------\n",
      "current Element:  5\n",
      "Result:  1.0\n",
      "--------------------------------------------------\n",
      "current Element:  0\n",
      "Error casued ....\n",
      "--------------------------------------------------\n",
      "current Element:  Name\n",
      "Error casued ....\n",
      "--------------------------------------------------\n",
      "current Element:  GoGo\n",
      "Error casued ....\n",
      "--------------------------------------------------\n",
      "current Element:  None\n",
      "Error casued ....\n",
      "--------------------------------------------------\n",
      "current Element:  3.0\n",
      "Result:  1.6666666666666667\n",
      "--------------------------------------------------\n"
     ]
    }
   ],
   "source": [
    "# Exception handling\n",
    "lst = [2, 5, 0, \"Name\", \"GoGo\", None, 3.0]\n",
    "\n",
    "for ele in lst:\n",
    "    try:\n",
    "        print(\"current Element: \", ele)\n",
    "        res = 5/int(ele)\n",
    "        print(\"Result: \", res)\n",
    "    except:\n",
    "        print(\"Error casued ....\")\n",
    "    print(\"-\" * 50)"
   ]
  },
  {
   "cell_type": "code",
   "execution_count": 82,
   "id": "690fb5df",
   "metadata": {},
   "outputs": [
    {
     "name": "stdout",
     "output_type": "stream",
     "text": [
      "current Element:  2\n",
      "Result:  2.5\n",
      "--------------------------------------------------\n",
      "current Element:  5\n",
      "Result:  1.0\n",
      "--------------------------------------------------\n",
      "current Element:  0\n",
      "Encountered an error:  division by zero\n",
      "--------------------------------------------------\n",
      "current Element:  Name\n",
      "Encountered an error:  invalid literal for int() with base 10: 'Name'\n",
      "--------------------------------------------------\n",
      "current Element:  GoGo\n",
      "Encountered an error:  invalid literal for int() with base 10: 'GoGo'\n",
      "--------------------------------------------------\n",
      "current Element:  None\n",
      "Encountered an error:  int() argument must be a string, a bytes-like object or a real number, not 'NoneType'\n",
      "--------------------------------------------------\n",
      "current Element:  3.0\n",
      "Result:  1.6666666666666667\n",
      "--------------------------------------------------\n"
     ]
    }
   ],
   "source": [
    "# Exception handling - Know more about error.\n",
    "\n",
    "lst = [2, 5, 0, \"Name\", \"GoGo\", None, 3.0]\n",
    "\n",
    "for ele in lst:\n",
    "    try:\n",
    "        print(\"current Element: \", ele)\n",
    "        res = 5/int(ele)\n",
    "        print(\"Result: \", res)\n",
    "    except Exception as e:\n",
    "        print(\"Encountered an error: \", e)\n",
    "    print(\"-\" * 50)"
   ]
  },
  {
   "cell_type": "code",
   "execution_count": 88,
   "id": "b1e2b78f",
   "metadata": {},
   "outputs": [
    {
     "name": "stdout",
     "output_type": "stream",
     "text": [
      "current Element:  2\n",
      "Result:  2.5\n",
      "--------------------------------------------------\n",
      "current Element:  5\n",
      "Result:  1.0\n",
      "--------------------------------------------------\n",
      "current Element:  0\n",
      "Encountered an error:  division by zero\n",
      "<class 'ZeroDivisionError'>\n",
      "--------------------------------------------------\n",
      "current Element:  Name\n",
      "Encountered an error:  invalid literal for int() with base 10: 'Name'\n",
      "<class 'ValueError'>\n",
      "--------------------------------------------------\n",
      "current Element:  GoGo\n",
      "Encountered an error:  invalid literal for int() with base 10: 'GoGo'\n",
      "<class 'ValueError'>\n",
      "--------------------------------------------------\n",
      "current Element:  None\n",
      "Encountered an error:  int() argument must be a string, a bytes-like object or a real number, not 'NoneType'\n",
      "<class 'TypeError'>\n",
      "--------------------------------------------------\n",
      "current Element:  3.0\n",
      "Result:  1.6666666666666667\n",
      "--------------------------------------------------\n"
     ]
    }
   ],
   "source": [
    "# Exception handling - Know more about error and know class of error.\n",
    "\n",
    "import sys\n",
    "\n",
    "lst = [2, 5, 0, \"Name\", \"GoGo\", None, 3.0]\n",
    "\n",
    "for ele in lst:\n",
    "    try:\n",
    "        print(\"current Element: \", ele)\n",
    "        res = 5/int(ele)\n",
    "        print(\"Result: \", res)\n",
    "    except Exception as e:\n",
    "        print(\"Encountered an error: \", e)\n",
    "        print(sys.exc_info()[0])                    # This is a tuple so we can use index to get specific ele at index\n",
    "    print(\"-\" * 50)"
   ]
  },
  {
   "cell_type": "code",
   "execution_count": 95,
   "id": "863f2aa4",
   "metadata": {},
   "outputs": [
    {
     "name": "stdout",
     "output_type": "stream",
     "text": [
      "Current Element:  2\n",
      "Result is:  2.5\n",
      "**************************************************\n",
      "Current Element:  5\n",
      "Result is:  1.0\n",
      "**************************************************\n",
      "Current Element:  0\n",
      "Do not divide by 0... : division by zero\n",
      "**************************************************\n",
      "Current Element:  Name\n",
      "Value Error occured... : invalid literal for int() with base 10: 'Name'\n",
      "**************************************************\n",
      "Current Element:  GoGo\n",
      "Value Error occured... : invalid literal for int() with base 10: 'GoGo'\n",
      "**************************************************\n",
      "Current Element:  None\n",
      "Type Error occured..... : int() argument must be a string, a bytes-like object or a real number, not 'NoneType'\n",
      "**************************************************\n",
      "Current Element:  3.0\n",
      "Result is:  1.6666666666666667\n",
      "**************************************************\n",
      "\n",
      "This is other block of code...\n"
     ]
    }
   ],
   "source": [
    "# Catching specific type of error.\n",
    "import sys\n",
    "\n",
    "lst = [2, 5, 0, \"Name\", \"GoGo\", None, 3.0]\n",
    "\n",
    "for ele in lst:\n",
    "    try:\n",
    "        print(\"Current Element: \", ele)\n",
    "        res = 5/int(ele)\n",
    "        print(\"Result is: \", res)\n",
    "\n",
    "    except ValueError as ve:\n",
    "        print(\"Value Error occured... :\", ve)\n",
    "    except ZeroDivisionError as Zere:\n",
    "        print(\"Do not divide by 0... :\", Zere)\n",
    "    except TypeError as te:\n",
    "        print(\"Type Error occured..... :\", te)\n",
    "    except Exception as e:\n",
    "        print(\"Error Occured... :\", e)\n",
    "        print(sys.exc_info()[0])\n",
    "\n",
    "    print(\"*\" * 50)\n",
    "\n",
    "print( )\n",
    "print(\"This is other block of code...\")\n"
   ]
  },
  {
   "cell_type": "markdown",
   "id": "be4818e6",
   "metadata": {},
   "source": [
    "FINALLY"
   ]
  },
  {
   "cell_type": "code",
   "execution_count": 96,
   "id": "e1fc683b",
   "metadata": {},
   "outputs": [
    {
     "name": "stdout",
     "output_type": "stream",
     "text": [
      "2.5\n",
      "I will always run no matter what !!\n"
     ]
    }
   ],
   "source": [
    "# Finally block will always execute..\n",
    "\n",
    "try:\n",
    "    ans = 5/2\n",
    "    print(ans)\n",
    "except Exception as e:\n",
    "    print(\"Error Occured: \", e)\n",
    "finally:\n",
    "    # f.close()          Can be used to close files, deallocate resources.\n",
    "    # db.close()         Can be used to close connections\n",
    "    print(\"I will always run no matter what !!\")\n"
   ]
  },
  {
   "cell_type": "code",
   "execution_count": 4,
   "id": "abca08b1",
   "metadata": {},
   "outputs": [
    {
     "name": "stdout",
     "output_type": "stream",
     "text": [
      "Error Occured:  Length of name cannot be less then 4 Char...\n",
      "<class 'ValueError'>\n"
     ]
    }
   ],
   "source": [
    "# Raising exception.\n",
    "\n",
    "import sys\n",
    "\n",
    "name = \"Pra\"\n",
    "try:\n",
    "    if len(name) < 4:\n",
    "        raise ValueError(\"Length of name cannot be less then 4 Char...\")\n",
    "    else:\n",
    "        print(\"Hello !! \", name)\n",
    "except Exception as e:\n",
    "    print(\"Error Occured: \", e)\n",
    "    print(sys.exc_info()[0])"
   ]
  },
  {
   "cell_type": "code",
   "execution_count": 5,
   "id": "20c66424",
   "metadata": {},
   "outputs": [
    {
     "ename": "ValueError",
     "evalue": "invalid literal for int() with base 10: '65.43'",
     "output_type": "error",
     "traceback": [
      "\u001b[31m---------------------------------------------------------------------------\u001b[39m",
      "\u001b[31mValueError\u001b[39m                                Traceback (most recent call last)",
      "\u001b[36mCell\u001b[39m\u001b[36m \u001b[39m\u001b[32mIn[5]\u001b[39m\u001b[32m, line 1\u001b[39m\n\u001b[32m----> \u001b[39m\u001b[32m1\u001b[39m \u001b[38;5;28;43mint\u001b[39;49m\u001b[43m(\u001b[49m\u001b[33;43m'\u001b[39;49m\u001b[33;43m65.43\u001b[39;49m\u001b[33;43m'\u001b[39;49m\u001b[43m)\u001b[49m\n",
      "\u001b[31mValueError\u001b[39m: invalid literal for int() with base 10: '65.43'"
     ]
    }
   ],
   "source": [
    "int('65.43')"
   ]
  },
  {
   "cell_type": "markdown",
   "id": "c198f543",
   "metadata": {},
   "source": [
    "OOPS !!"
   ]
  },
  {
   "cell_type": "markdown",
   "id": "ceb100ec",
   "metadata": {},
   "source": [
    "** Think of a class as a blueprint for a car, and each object as a specific car made from that blueprint **\n",
    "\n",
    "Basic Terminologies:\n",
    "- Class: Blueprint for creating objects.\n",
    "- Object: Instance of a class (real-world entity).\n",
    "- Method: A function defined in a class.\n",
    "- Constructor: Special method __init__() to initialize object.\n",
    "\n",
    "\n",
    "Class can be treated as datatype and\n",
    "objects can be treated as variables. "
   ]
  },
  {
   "cell_type": "code",
   "execution_count": null,
   "id": "f05a9e91",
   "metadata": {},
   "outputs": [
    {
     "name": "stdout",
     "output_type": "stream",
     "text": [
      "Hello, my name is Alice and I am 25 years old.\n"
     ]
    }
   ],
   "source": [
    "\n",
    "# Define a class\n",
    "class Person:\n",
    "    def __init__(self, name, age):  # Constructor\n",
    "        self.name = name\n",
    "        self.age = age\n",
    "\n",
    "    def greet(self):\n",
    "        print(f\"Hello, my name is {self.name} and I am {self.age} years old.\")\n",
    "\n",
    "# Create an object\n",
    "p1 = Person(\"Alice\", 25)\n",
    "p1.greet()\n"
   ]
  },
  {
   "cell_type": "code",
   "execution_count": 47,
   "id": "00dd843e",
   "metadata": {},
   "outputs": [
    {
     "name": "stdout",
     "output_type": "stream",
     "text": [
      "Creating New Object.... \n",
      "Creating New Object.... \n",
      "Creating New Object.... \n"
     ]
    }
   ],
   "source": [
    "class Human:\n",
    "\n",
    "    # Class variable\n",
    "    database = []\n",
    "    population = 0\n",
    "    id_seq = 101\n",
    "\n",
    "    # Constructor\n",
    "    def __init__(self, name, age, is_alive = True):\n",
    "        print(\"Creating New Object.... \")\n",
    "\n",
    "        # Instance or Object variable\n",
    "        # attribute reference\n",
    "        self.name = name\n",
    "        self.age = age\n",
    "        self.is_alive = is_alive\n",
    "\n",
    "        self.id = Human.id_seq\n",
    "        Human.id_seq += 1\n",
    "        Human.population += 1\n",
    "\n",
    "        Human.database.append(self)\n",
    "\n",
    "\n",
    "    # Method or Function\n",
    "    def introduce(self):\n",
    "        print(\"Hello, my name is {} and my age is {}\".format(self.name, self.age))\n",
    "\n",
    "    def die(self):\n",
    "        if self.is_alive:\n",
    "            print(\"{} died ... :( !!\".format(self.name))\n",
    "\n",
    "            self.is_alive = False\n",
    "            Human.population -= 1\n",
    "        else:\n",
    "            print(\"{} is already unalive.... \".format(self.name))\n",
    "\n",
    "    def __repr__(self):\n",
    "        #This Function will return a string.\n",
    "\n",
    "        return \"[{}, {}, {}, {}]\".format(self.id, self.name, self.age, self.is_alive)\n",
    "\n",
    "# Creating Object\n",
    "h1 = Human(\"LoLo\", 33)\n",
    "h2 = Human(\"HeHe\", 66)\n",
    "h3 = Human(\"ChiChi\", 99)\n",
    "\n"
   ]
  },
  {
   "cell_type": "code",
   "execution_count": 41,
   "id": "5bc105a9",
   "metadata": {},
   "outputs": [
    {
     "name": "stdout",
     "output_type": "stream",
     "text": [
      "3\n",
      "104\n",
      "This Function will return a string.\n",
      "This Function will return a string.\n",
      "This Function will return a string.\n",
      "[[101, LoLo, 33, True], [102, HeHe, 66, True], [103, ChiChi, 99, True]]\n"
     ]
    }
   ],
   "source": [
    "print(Human.population)\n",
    "print(Human.id_seq)\n",
    "print(Human.database)\n"
   ]
  },
  {
   "cell_type": "code",
   "execution_count": 42,
   "id": "61cb33a9",
   "metadata": {},
   "outputs": [
    {
     "name": "stdout",
     "output_type": "stream",
     "text": [
      "True\n",
      "LoLo died ... :( !!\n",
      "None\n",
      "False\n",
      "2\n",
      "This Function will return a string.\n",
      "This Function will return a string.\n",
      "This Function will return a string.\n",
      "[[101, LoLo, 33, False], [102, HeHe, 66, True], [103, ChiChi, 99, True]]\n"
     ]
    }
   ],
   "source": [
    "print(h1.is_alive)\n",
    "print(h1.die())\n",
    "print(h1.is_alive)\n",
    "print(Human.population)\n",
    "print(Human.database)"
   ]
  },
  {
   "cell_type": "markdown",
   "id": "8d164efc",
   "metadata": {},
   "source": [
    "Magic Function (Dunder Function)\n",
    "\n",
    "- They are called automatically when some particular event occurs."
   ]
  },
  {
   "cell_type": "code",
   "execution_count": null,
   "id": "381f9a28",
   "metadata": {},
   "outputs": [
    {
     "name": "stdout",
     "output_type": "stream",
     "text": [
      "Creating New Object.... \n",
      "Creating New Object.... \n",
      "Creating New Object.... \n"
     ]
    }
   ],
   "source": [
    "class Human:\n",
    "\n",
    "    # Class variable\n",
    "    database = []\n",
    "    population = 0\n",
    "    id_seq = 101\n",
    "\n",
    "    # Constructor\n",
    "    def __init__(self, name, age, is_alive = True):\n",
    "        print(\"Creating New Object.... \")\n",
    "\n",
    "        # Instance or Object variable\n",
    "        # attribute reference\n",
    "        self.name = name\n",
    "        self.age = age\n",
    "        self.is_alive = is_alive\n",
    "\n",
    "        self.id = Human.id_seq\n",
    "        Human.id_seq += 1\n",
    "        Human.population += 1\n",
    "\n",
    "        Human.database.append(self)\n",
    "\n",
    "\n",
    "    # Method or Function\n",
    "    def introduce(self):\n",
    "        print(\"Hello, my name is {} and my age is {}\".format(self.name, self.age))\n",
    "\n",
    "    def die(self):\n",
    "        if self.is_alive:\n",
    "            print(\"{} died ... :( !!\".format(self.name))\n",
    "\n",
    "            self.is_alive = False\n",
    "            Human.population -= 1\n",
    "        else:\n",
    "            print(\"{} is already unalive.... \".format(self.name))\n",
    "\n",
    "    # Magic Function\n",
    "    def __repr__(self):\n",
    "        #This Function will return a string\n",
    "\n",
    "        return \"[{}, {}, {}, {}]\".format(self.id, self.name, self.age, self.is_alive)\n",
    "\n",
    "# Creating Object\n",
    "h1 = Human(\"LoLo\", 33)\n",
    "h2 = Human(\"HeHe\", 66)\n",
    "h3 = Human(\"ChiChi\", 99)\n",
    "\n"
   ]
  },
  {
   "cell_type": "code",
   "execution_count": 50,
   "id": "4d1b32c7",
   "metadata": {},
   "outputs": [
    {
     "name": "stdout",
     "output_type": "stream",
     "text": [
      "[101, LoLo, 33, True]\n",
      "[102, HeHe, 66, True]\n",
      "[103, ChiChi, 99, True]\n"
     ]
    },
    {
     "data": {
      "text/plain": [
       "[[101, LoLo, 33, True], [102, HeHe, 66, True], [103, ChiChi, 99, True]]"
      ]
     },
     "execution_count": 50,
     "metadata": {},
     "output_type": "execute_result"
    }
   ],
   "source": [
    "print(h1)\n",
    "print(h2)\n",
    "print(h3)\n",
    "\n",
    "Human.database"
   ]
  },
  {
   "cell_type": "code",
   "execution_count": null,
   "id": "a76fb5dc",
   "metadata": {},
   "outputs": [
    {
     "name": "stdout",
     "output_type": "stream",
     "text": [
      "__main__\n"
     ]
    }
   ],
   "source": [
    "# __name__ helps you detect whether your script is being run directly or imported as a module.\n",
    "# Your code prints __name__, which would typically show __main__ when you run the file directly.\n",
    "class Demo:\n",
    "    def __init__(self):\n",
    "        pass\n",
    " \n",
    "    def test(self):\n",
    "        print(__name__)\n",
    " \n",
    "obj = Demo()\n",
    "obj.test()"
   ]
  },
  {
   "cell_type": "code",
   "execution_count": 52,
   "id": "2d9bdb76",
   "metadata": {},
   "outputs": [
    {
     "name": "stdout",
     "output_type": "stream",
     "text": [
      "7\n"
     ]
    }
   ],
   "source": [
    "class change:\n",
    "    def __init__(self, x, y, z):\n",
    "        self.a = x + y + z\n",
    " \n",
    "x = change(1,2,3)\n",
    "y = getattr(x, 'a')\n",
    "setattr(x, 'a', y+1)\n",
    "print(x.a)"
   ]
  },
  {
   "cell_type": "code",
   "execution_count": 57,
   "id": "45b0a845",
   "metadata": {},
   "outputs": [
    {
     "name": "stdout",
     "output_type": "stream",
     "text": [
      "__str__ function called\n"
     ]
    }
   ],
   "source": [
    "# Python looks for __str__() first when printing an object.\n",
    "\n",
    "'''\n",
    "| Function   | Purpose                 | Used by            |\n",
    "| ---------- | ----------------------- | ------------------ |\n",
    "| `__str__`  | User-friendly display   | `print()`, `str()` |\n",
    "| `__repr__` | Developer/debug display | `repr()`, console  |\n",
    "\n",
    "\n",
    "\n",
    "What are __str__() and __repr__()?\n",
    "\n",
    "✅ __str__(self)\n",
    "> Defines the string representation of the object.\n",
    "> Used by print(), str(obj), and f-strings like f\"{obj}\".\n",
    "\n",
    "✅ __repr__(self)\n",
    "> Defines the official representation of the object.\n",
    "\n",
    "> Used in:\n",
    "- Interactive console (when you just type s)\n",
    "- repr(s)\n",
    "- Debugging tools\n",
    "\n",
    "'''\n",
    "\n",
    "class demo():\n",
    "    def __repr__(self):\n",
    "        return '__repr__ function called'\n",
    "    def __str__(self):\n",
    "        return '__str__ function called'\n",
    " \n",
    "s=demo()\n",
    "print(s)"
   ]
  },
  {
   "cell_type": "markdown",
   "id": "afc27040",
   "metadata": {},
   "source": [
    "Inheritance"
   ]
  },
  {
   "cell_type": "code",
   "execution_count": null,
   "id": "d9a79fa8",
   "metadata": {},
   "outputs": [
    {
     "name": "stdout",
     "output_type": "stream",
     "text": [
      "Creating New Object.... \n",
      "Creating New Object.... \n",
      "Creating New Object.... \n",
      "Creating New Object.... \n"
     ]
    }
   ],
   "source": [
    "# Base/Parent Class\n",
    "class Human:\n",
    "\n",
    "    # Class variable\n",
    "    database = []\n",
    "    population = 0\n",
    "    id_seq = 101\n",
    "\n",
    "    # Constructor\n",
    "    def __init__(self, name, age, is_alive = True):\n",
    "        print(\"Creating New Object.... \")\n",
    "\n",
    "        # Instance or Object variable\n",
    "        # attribute reference\n",
    "        self.name = name\n",
    "        self.age = age\n",
    "        self.is_alive = is_alive\n",
    "\n",
    "        self.id = Human.id_seq\n",
    "        Human.id_seq += 1\n",
    "        Human.population += 1\n",
    "\n",
    "        Human.database.append(self)\n",
    "\n",
    "\n",
    "    # Method or Function\n",
    "    def introduce(self):\n",
    "        print(\"Hello, my name is {} and my age is {}\".format(self.name, self.age))\n",
    "\n",
    "    def die(self):\n",
    "        if self.is_alive:\n",
    "            print(\"{} died ... :( !!\".format(self.name))\n",
    "\n",
    "            self.is_alive = False\n",
    "            Human.population -= 1\n",
    "        else:\n",
    "            print(\"{} is already unalive.... \".format(self.name))\n",
    "\n",
    "    # Magic Function\n",
    "    def __repr__(self):\n",
    "        #This Function will return a string\n",
    "\n",
    "        return \"[{}, {}, {}, {}]\".format(self.id, self.name, self.age, self.is_alive)\n",
    "\n",
    "# Creating Base Object\n",
    "h1 = Human(\"LoLo\", 33)\n",
    "h2 = Human(\"HeHe\", 66)\n",
    "h3 = Human(\"ChiChi\", 99)\n",
    "\n",
    "\n",
    "# Derived/Child Class\n",
    "\n",
    "class Hitman(Human):\n",
    "    def __init__(self, name, age):\n",
    "        super().__init__(name, age)\n",
    "\n",
    "        self.kills = 0\n",
    "        self.kill_list = []\n",
    "\n",
    "    # Killing method\n",
    "    def kill(self, person):\n",
    "        '''Person: Object of Human'''\n",
    "\n",
    "        if(person.is_alive):\n",
    "            print(\"{} is killing {}\".format(self.name, person.name))\n",
    "            person.die()\n",
    "            self.kills += 1\n",
    "            self.kill_list.append(person)\n",
    "        else:\n",
    "            print(\"{} is already dead.\".format(person.name))\n",
    "\n",
    "# Child Object \n",
    "hit = Hitman(\"YoYo\", 34)\n"
   ]
  },
  {
   "cell_type": "code",
   "execution_count": 99,
   "id": "a76bc62e",
   "metadata": {},
   "outputs": [
    {
     "name": "stdout",
     "output_type": "stream",
     "text": [
      "4\n",
      "Hello, my name is YoYo and my age is 34\n",
      "None\n",
      "[104, YoYo, 34, True]\n",
      "0\n",
      "[]\n"
     ]
    }
   ],
   "source": [
    "print(Human.population)\n",
    "print(hit.introduce())\n",
    "print(hit)\n",
    "print(hit.kills)\n",
    "print(hit.kill_list)"
   ]
  },
  {
   "cell_type": "code",
   "execution_count": 102,
   "id": "45210034",
   "metadata": {},
   "outputs": [
    {
     "name": "stdout",
     "output_type": "stream",
     "text": [
      "HeHe is already dead.\n"
     ]
    }
   ],
   "source": [
    "hit.kill(h2)"
   ]
  },
  {
   "cell_type": "code",
   "execution_count": 103,
   "id": "a11f42df",
   "metadata": {},
   "outputs": [
    {
     "name": "stdout",
     "output_type": "stream",
     "text": [
      "3\n",
      "Hello, my name is YoYo and my age is 34\n",
      "None\n",
      "[104, YoYo, 34, True]\n",
      "1\n",
      "[[102, HeHe, 66, False]]\n"
     ]
    }
   ],
   "source": [
    "print(Human.population)\n",
    "print(hit.introduce())\n",
    "print(hit)\n",
    "print(hit.kills)\n",
    "print(hit.kill_list)"
   ]
  },
  {
   "cell_type": "code",
   "execution_count": 123,
   "id": "5667ef58",
   "metadata": {},
   "outputs": [],
   "source": [
    "# Multi Level Inheritence\n",
    "\n",
    "class A:\n",
    "    def m(self):\n",
    "        print(\"I am inside class A\")\n",
    "        \n",
    "\n",
    "class B(A):\n",
    "    def m1(self):\n",
    "        print(\"I am inside Class B\")\n",
    "        \n",
    "class C(B):\n",
    "    def m1(self):\n",
    "        print(\"I am inside Class C\")\n",
    "\n",
    "    def m2(self):\n",
    "        print(\"I am inside Class C\")\n",
    "\n",
    "obj1 = A()\n",
    "obj2 = B()\n",
    "obj3 = C()"
   ]
  },
  {
   "cell_type": "code",
   "execution_count": 124,
   "id": "3e1d5959",
   "metadata": {},
   "outputs": [
    {
     "name": "stdout",
     "output_type": "stream",
     "text": [
      "I am inside class A\n",
      "None\n",
      "I am inside class A\n",
      "None\n",
      "I am inside Class B\n",
      "None\n",
      "I am inside class A\n",
      "None\n",
      "I am inside Class C\n",
      "None\n",
      "I am inside Class C\n",
      "None\n"
     ]
    }
   ],
   "source": [
    "print(obj1.m())\n",
    "\n",
    "print(obj2.m())\n",
    "print(obj2.m1())\n",
    "\n",
    "print(obj3.m())\n",
    "print(obj3.m1())\n",
    "print(obj3.m2())"
   ]
  },
  {
   "cell_type": "markdown",
   "id": "d2d05383",
   "metadata": {},
   "source": [
    "MRO (Method Resolution Order)"
   ]
  },
  {
   "cell_type": "markdown",
   "id": "02c03a56",
   "metadata": {},
   "source": [
    "Operator Level Polymorphism"
   ]
  },
  {
   "cell_type": "code",
   "execution_count": 4,
   "id": "160c5257",
   "metadata": {},
   "outputs": [
    {
     "name": "stdout",
     "output_type": "stream",
     "text": [
      "SiyaRam\n",
      "3\n"
     ]
    }
   ],
   "source": [
    "a = \"Siya\"\n",
    "b = \"Ram\"\n",
    "\n",
    "print(a + b)\n",
    "\n",
    "a = 1\n",
    "b = 2\n",
    "print(a + b)\n"
   ]
  },
  {
   "cell_type": "markdown",
   "id": "f0a941b4",
   "metadata": {},
   "source": [
    "Function Level Polymorphism"
   ]
  },
  {
   "cell_type": "code",
   "execution_count": null,
   "id": "6ef07fef",
   "metadata": {},
   "outputs": [
    {
     "name": "stdout",
     "output_type": "stream",
     "text": [
      "4\n",
      "13\n",
      "1\n"
     ]
    },
    {
     "data": {
      "text/plain": [
       "5"
      ]
     },
     "execution_count": 13,
     "metadata": {},
     "output_type": "execute_result"
    }
   ],
   "source": [
    "a = [1,2,3,4]\n",
    "b = \"HarHarMadaDev\"\n",
    "c = {1,1,1,1,1}\n",
    "\n",
    "print(len(a))\n",
    "print(len(b))\n",
    "print(len(c))\n",
    "\n",
    "def my_sum(*args):\n",
    "    return sum(args)\n",
    "\n",
    "my_sum(1,4)"
   ]
  },
  {
   "cell_type": "markdown",
   "id": "2bad938b",
   "metadata": {},
   "source": [
    "Object/Class Level Ploymorphism"
   ]
  },
  {
   "cell_type": "code",
   "execution_count": 16,
   "id": "5177d3e6",
   "metadata": {},
   "outputs": [],
   "source": [
    "class Animal():\n",
    "    def __init__(self):\n",
    "        self.colour = \"white\"\n",
    "\n",
    "        def speak(self):\n",
    "            print(\"I will speak !!\")\n",
    "\n",
    "class Dog(Animal):\n",
    "    # Function Overiding\n",
    "    def speak(self):\n",
    "        print(\"Bark !!....\")\n",
    "\n",
    "class Cat(Animal):\n",
    "    def speak(self):\n",
    "        print(\"Meoww !!...\")\n",
    "\n",
    "class Duck(Animal):\n",
    "    def speak(self):\n",
    "        print(\"Quack !!...\")"
   ]
  },
  {
   "cell_type": "code",
   "execution_count": 17,
   "id": "557d902d",
   "metadata": {},
   "outputs": [],
   "source": [
    "dog = Dog()\n",
    "cat = Cat()\n",
    "duck = Duck()"
   ]
  },
  {
   "cell_type": "code",
   "execution_count": 19,
   "id": "974231c4",
   "metadata": {},
   "outputs": [
    {
     "name": "stdout",
     "output_type": "stream",
     "text": [
      "Bark !!....\n",
      "Meoww !!...\n",
      "Quack !!...\n"
     ]
    }
   ],
   "source": [
    "for obj in [dog, cat, duck]:\n",
    "    obj.speak()"
   ]
  },
  {
   "cell_type": "code",
   "execution_count": null,
   "id": "0c307271",
   "metadata": {},
   "outputs": [],
   "source": []
  }
 ],
 "metadata": {
  "kernelspec": {
   "display_name": "venv",
   "language": "python",
   "name": "python3"
  },
  "language_info": {
   "codemirror_mode": {
    "name": "ipython",
    "version": 3
   },
   "file_extension": ".py",
   "mimetype": "text/x-python",
   "name": "python",
   "nbconvert_exporter": "python",
   "pygments_lexer": "ipython3",
   "version": "3.13.5"
  }
 },
 "nbformat": 4,
 "nbformat_minor": 5
}
