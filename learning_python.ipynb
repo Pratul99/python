{
 "cells": [
  {
   "cell_type": "code",
   "execution_count": 4,
   "id": "09c1770f",
   "metadata": {},
   "outputs": [
    {
     "name": "stdout",
     "output_type": "stream",
     "text": [
      "Jai Bhairava Baba\n"
     ]
    }
   ],
   "source": [
    "print(\"Jai Bhairava Baba\")"
   ]
  },
  {
   "cell_type": "code",
   "execution_count": 10,
   "id": "e1b924d2",
   "metadata": {},
   "outputs": [
    {
     "name": "stdout",
     "output_type": "stream",
     "text": [
      "12\n",
      "<class 'int'>\n"
     ]
    },
    {
     "data": {
      "text/plain": [
       "int"
      ]
     },
     "execution_count": 10,
     "metadata": {},
     "output_type": "execute_result"
    }
   ],
   "source": [
    "a= 12\n",
    "print(a)\n",
    "print(type(a))\n",
    "type(a)"
   ]
  },
  {
   "cell_type": "code",
   "execution_count": 12,
   "id": "1945a40f",
   "metadata": {},
   "outputs": [
    {
     "data": {
      "text/plain": [
       "140735086808744"
      ]
     },
     "execution_count": 12,
     "metadata": {},
     "output_type": "execute_result"
    }
   ],
   "source": [
    "# To find location of a variable\n",
    "i = 89\n",
    "id(i)"
   ]
  },
  {
   "cell_type": "markdown",
   "id": "c1adbab6",
   "metadata": {},
   "source": [
    "''' Everything in python is an object, and object is part of some class\n",
    "ex. <class 'int'>, <class 'float'>'''"
   ]
  },
  {
   "cell_type": "code",
   "execution_count": 15,
   "id": "bcb6956c",
   "metadata": {},
   "outputs": [
    {
     "name": "stdout",
     "output_type": "stream",
     "text": [
      "True\n",
      "<class 'bool'>\n"
     ]
    }
   ],
   "source": [
    "my_var = True\n",
    "print(my_var)\n",
    "print(type(my_var))"
   ]
  },
  {
   "cell_type": "code",
   "execution_count": null,
   "id": "808e425f",
   "metadata": {},
   "outputs": [],
   "source": [
    "# input() will always return a str value.\n",
    "name = input(\"Enter your name : \")\n",
    "\n",
    "print(name)\n",
    "print(type(name))"
   ]
  },
  {
   "cell_type": "code",
   "execution_count": 8,
   "id": "81d1173f",
   "metadata": {},
   "outputs": [
    {
     "name": "stdout",
     "output_type": "stream",
     "text": [
      "21\n",
      "21\n"
     ]
    }
   ],
   "source": [
    "# Multi line statement\n",
    "a = 1 + 2 + \\\n",
    "    3 + 4 + \\\n",
    "    5 + 6\n",
    "\n",
    "#or\n",
    "\n",
    "b = (1 + 2 + \n",
    "    3 + 4 + \n",
    "    5 + 6 )\n",
    "\n",
    "print(a)\n",
    "print(b)\n",
    "    "
   ]
  },
  {
   "cell_type": "code",
   "execution_count": 51,
   "id": "78b80ce2",
   "metadata": {},
   "outputs": [
    {
     "name": "stdout",
     "output_type": "stream",
     "text": [
      "Who is Bhatt & Ji\n"
     ]
    }
   ],
   "source": [
    "# Output Formating  \n",
    "# {} -->> This is called placeholder\n",
    "\n",
    "c = \"Bhatt\"\n",
    "d = \"Ji\"\n",
    "\n",
    "print(\"Who is {1} & {0}\".format(d,c))\n",
    "\n",
    "# or\n",
    "\n",
    "#print(\"Who is {a} & {b}\".format(a=\"Bhatt\",b=\"Ji\"))"
   ]
  },
  {
   "cell_type": "markdown",
   "id": "8bbc5c15",
   "metadata": {},
   "source": [
    "- Python does not impose a maximum length on identifiers; they can be as long as needed\n",
    "\n",
    "- Identifiers in Python are the names used to identify:\n",
    "\n",
    "Variables,\n",
    "Functions,\n",
    "Classes,\n",
    "Modules,\n",
    "Objects, etc."
   ]
  },
  {
   "cell_type": "code",
   "execution_count": 23,
   "id": "8b5e19c3",
   "metadata": {},
   "outputs": [
    {
     "name": "stdout",
     "output_type": "stream",
     "text": [
      "Fahrenheit : 62.6\n"
     ]
    }
   ],
   "source": [
    "celsius = 17\n",
    "fahrenheit = (celsius * 9/5) + 32\n",
    "\n",
    "print(\"Fahrenheit :\", fahrenheit) "
   ]
  },
  {
   "cell_type": "code",
   "execution_count": 29,
   "id": "2984ad95",
   "metadata": {},
   "outputs": [
    {
     "data": {
      "text/plain": [
       "'0b1010'"
      ]
     },
     "execution_count": 29,
     "metadata": {},
     "output_type": "execute_result"
    }
   ],
   "source": [
    "# bitwise\n",
    "bin(10)"
   ]
  },
  {
   "cell_type": "code",
   "execution_count": 30,
   "id": "aeb8148e",
   "metadata": {},
   "outputs": [
    {
     "data": {
      "text/plain": [
       "'0b10001'"
      ]
     },
     "execution_count": 30,
     "metadata": {},
     "output_type": "execute_result"
    }
   ],
   "source": [
    "bin(17)"
   ]
  },
  {
   "cell_type": "code",
   "execution_count": null,
   "id": "7a16d852",
   "metadata": {},
   "outputs": [
    {
     "data": {
      "text/plain": [
       "0"
      ]
     },
     "execution_count": 39,
     "metadata": {},
     "output_type": "execute_result"
    }
   ],
   "source": [
    "# And\n",
    "10 & 17\n"
   ]
  },
  {
   "cell_type": "code",
   "execution_count": null,
   "id": "055b3bb0",
   "metadata": {},
   "outputs": [
    {
     "data": {
      "text/plain": [
       "27"
      ]
     },
     "execution_count": 37,
     "metadata": {},
     "output_type": "execute_result"
    }
   ],
   "source": [
    "# or\n",
    "10 | 17"
   ]
  },
  {
   "cell_type": "code",
   "execution_count": null,
   "id": "afd97414",
   "metadata": {},
   "outputs": [
    {
     "data": {
      "text/plain": [
       "27"
      ]
     },
     "execution_count": 38,
     "metadata": {},
     "output_type": "execute_result"
    }
   ],
   "source": [
    "# xor \n",
    "10 ^ 17"
   ]
  },
  {
   "cell_type": "markdown",
   "id": "c96cf325",
   "metadata": {},
   "source": [
    "🔁 Operators with Left-to-Right Associativity:\n",
    "\n",
    "| Operator Type             | Example           | \n",
    "| ------------------------- | ----------------- | \n",
    "| Arithmetic                | `+ - * / // %`    |   \n",
    "| Bitwise                   | \\`&               | \n",
    "| Comparison                | `== != > < >= <=` | \n",
    "| Logical                   | `and or`          |  \n",
    "| Sequence Index/Slice      | `mylist[1:3]`     | \n",
    "| Membership/Identity Tests | `in, is`          | \n"
   ]
  },
  {
   "cell_type": "markdown",
   "id": "99a8a728",
   "metadata": {},
   "source": [
    "🔁 Operators with Right-to-Left Associativity:\n",
    "\n",
    "| Operator Type         | Example            |\n",
    "| --------------------- | ------------------ |\n",
    "| Assignment            | `= += -= *=`       |\n",
    "| Exponentiation        | `**`               |\n",
    "| Ternary (conditional) | `x if cond else y` |\n"
   ]
  },
  {
   "cell_type": "code",
   "execution_count": 44,
   "id": "54c7db55",
   "metadata": {},
   "outputs": [
    {
     "name": "stdout",
     "output_type": "stream",
     "text": [
      "t\n"
     ]
    },
    {
     "data": {
      "text/plain": [
       "\"\\nExplanation\\nmy_list = ['f', 't']\\nindex = bool('spam')  # True → 1\\nprint(my_list[index])  # → my_list[1] → 't'\\n\""
      ]
     },
     "execution_count": 44,
     "metadata": {},
     "output_type": "execute_result"
    }
   ],
   "source": [
    "print(['f', 't'][bool('spam')])\n",
    "\n",
    "'''\n",
    "Explanation\n",
    "my_list = ['f', 't']\n",
    "index = bool('spam')  # True → 1\n",
    "print(my_list[index])  # → my_list[1] → 't'\n",
    "'''"
   ]
  },
  {
   "cell_type": "code",
   "execution_count": 45,
   "id": "1f905f96",
   "metadata": {},
   "outputs": [
    {
     "data": {
      "text/plain": [
       "4"
      ]
     },
     "execution_count": 45,
     "metadata": {},
     "output_type": "execute_result"
    }
   ],
   "source": [
    "num1 = 5 \n",
    "num2 = 4\n",
    "\n",
    "bin(num1)\n",
    "bin(num2)\n",
    "\n",
    "num1 & num2"
   ]
  },
  {
   "cell_type": "code",
   "execution_count": 48,
   "id": "8a051c74",
   "metadata": {},
   "outputs": [
    {
     "name": "stdout",
     "output_type": "stream",
     "text": [
      "240.0\n"
     ]
    }
   ],
   "source": [
    "P = 2000\n",
    "R = 3\n",
    "T = 4\n",
    "\n",
    "print((P * R * T)/100)"
   ]
  },
  {
   "cell_type": "markdown",
   "id": "6f6069a3",
   "metadata": {},
   "source": [
    "Python program to find the largest element among three numbers"
   ]
  },
  {
   "cell_type": "code",
   "execution_count": 56,
   "id": "60a4c6d6",
   "metadata": {},
   "outputs": [
    {
     "name": "stdout",
     "output_type": "stream",
     "text": [
      "Largest of given three numbers is 17\n"
     ]
    }
   ],
   "source": [
    "'''num1 = 1\n",
    "num2 = 4\n",
    "num3 = 17\n",
    "\n",
    "if((num1 >= num2) and (num1 >= num3)):\n",
    "    print(\"num1 is largest of given three numbers\")\n",
    "elif((num2 >= num1) and (num2 >= num3)):\n",
    "    print(\"num2 is largest of given three numbers\")\n",
    "else:\n",
    "    print(\"num3 is largest of given three numbers\")\n",
    "'''\n",
    "\n",
    "num1 = 1\n",
    "num2 = 4\n",
    "num3 = 17\n",
    "\n",
    "if((num1 >= num2) and (num1 >= num3)):\n",
    "    largest = num1\n",
    "elif((num2 >= num1) and (num2 >= num3)):\n",
    "    largest = num2\n",
    "else:\n",
    "    largest = num3\n",
    "print(\"Largest of given three numbers is {}\".format(largest))"
   ]
  },
  {
   "cell_type": "code",
   "execution_count": 63,
   "id": "72ef8067",
   "metadata": {},
   "outputs": [
    {
     "name": "stdout",
     "output_type": "stream",
     "text": [
      "It's a leap year\n"
     ]
    }
   ],
   "source": [
    "'''\n",
    "A year is a leap year if:\n",
    "\n",
    "It is divisible by 4 and not divisible by 100, or\n",
    "\n",
    "It is divisible by 400\n",
    "'''\n",
    "\n",
    "input = 2012\n",
    "\n",
    "if(input % 4 == 0 and input % 100 !=0) or (input % 400 == 0):\n",
    "    print(\"It's a leap year\")\n",
    "else:\n",
    "    print(\"It is a regular year.\")\n"
   ]
  },
  {
   "cell_type": "code",
   "execution_count": 65,
   "id": "ef0d5c14",
   "metadata": {},
   "outputs": [
    {
     "name": "stdout",
     "output_type": "stream",
     "text": [
      "Leap year\n",
      "Not a leap year\n"
     ]
    }
   ],
   "source": [
    "def is_leap_year(year):\n",
    "    if (year % 4 == 0 and year % 100 != 0) or (year % 400 == 0):\n",
    "        return \"Leap year\"\n",
    "    else:\n",
    "        return \"Not a leap year\"\n",
    "\n",
    "print(is_leap_year(2012))  # Output: Leap year\n",
    "print(is_leap_year(2017))  # Output: Not a leap year"
   ]
  },
  {
   "cell_type": "code",
   "execution_count": 72,
   "id": "fae391e5",
   "metadata": {},
   "outputs": [
    {
     "name": "stdout",
     "output_type": "stream",
     "text": [
      "* \n",
      "* * \n",
      "* * * \n",
      "* * * * \n",
      "* * * * * \n",
      "* * * * * * \n",
      "* * * * * * * \n",
      "* * * * * * * * \n",
      "* * * * * * * * * \n",
      "* * * * * * * * * * \n",
      "* * * * * * * * * * * \n",
      "* * * * * * * * * * * * \n",
      "* * * * * * * * * * * * * \n",
      "* * * * * * * * * * * * * * \n",
      "* * * * * * * * * * * * * * * \n",
      "* * * * * * * * * * * * * * * * \n",
      "* * * * * * * * * * * * * * * * * \n"
     ]
    }
   ],
   "source": [
    "n=17\n",
    "\n",
    "for row in range(1, n+1):\n",
    "    for j in range(1, row+1):\n",
    "        print(\"*\", end=\" \")\n",
    "    print()"
   ]
  },
  {
   "cell_type": "code",
   "execution_count": 76,
   "id": "fd46cc30",
   "metadata": {},
   "outputs": [
    {
     "name": "stdout",
     "output_type": "stream",
     "text": [
      "*****\n",
      "****\n",
      "***\n",
      "**\n",
      "*\n"
     ]
    }
   ],
   "source": [
    "n=5\n",
    "for row in range(n, 0, -1):\n",
    "    print(\"*\"*(row))"
   ]
  },
  {
   "cell_type": "code",
   "execution_count": 81,
   "id": "a6654169",
   "metadata": {},
   "outputs": [
    {
     "name": "stdout",
     "output_type": "stream",
     "text": [
      "*********\n",
      " *******\n",
      "  *****\n",
      "   ***\n",
      "    *\n"
     ]
    }
   ],
   "source": [
    "#Centered Inverted Triangle (Pyramid Style)\n",
    "n = 5\n",
    "for row in range(n, 0, -1):\n",
    "    spaces = n - row\n",
    "    stars = 2 * row - 1\n",
    "    print(\" \" * spaces + \"*\" * stars)\n"
   ]
  },
  {
   "cell_type": "code",
   "execution_count": 109,
   "id": "67b834a1",
   "metadata": {},
   "outputs": [
    {
     "name": "stdout",
     "output_type": "stream",
     "text": [
      "Sum of first 5 number is 15\n"
     ]
    }
   ],
   "source": [
    "s=0\n",
    "n=5\n",
    "for i in range(1, n+1):\n",
    "    s +=i\n",
    "#print(\"Sum of first n mubers is: \", s)\n",
    "print(\"Sum of first {} number is {}\".format(n,s))"
   ]
  },
  {
   "cell_type": "code",
   "execution_count": 94,
   "id": "a9a83103",
   "metadata": {},
   "outputs": [
    {
     "name": "stdout",
     "output_type": "stream",
     "text": [
      "The number 17 is Prime number.\n"
     ]
    }
   ],
   "source": [
    "n = 17\n",
    "is_prime = True\n",
    "\n",
    "for i in range(2,n):\n",
    "    if(n%i == 0):\n",
    "        is_prime = False\n",
    "\n",
    "if(is_prime):\n",
    "    print(\"The number {} is Prime number.\".format(n))\n",
    "else:\n",
    "    print(\"The number {} is not Prime number.\".format(n))"
   ]
  },
  {
   "cell_type": "code",
   "execution_count": null,
   "id": "da4bc96d",
   "metadata": {},
   "outputs": [
    {
     "name": "stdout",
     "output_type": "stream",
     "text": [
      "Sum of all odd number in range 1 to 17 is 81\n"
     ]
    }
   ],
   "source": [
    "N = 17\n",
    "sum_odd = 0\n",
    "\n",
    "for i in range(1, N+1):\n",
    "    if(i%2 != 0):\n",
    "        sum_odd += i\n",
    "print (\"Sum of all odd number in range 1 to {} is {}\".format(N,sum_odd))"
   ]
  },
  {
   "cell_type": "code",
   "execution_count": 133,
   "id": "582e9bda",
   "metadata": {},
   "outputs": [
    {
     "name": "stdout",
     "output_type": "stream",
     "text": [
      "Odd number in range 1 to 17: [1, 3, 5, 7, 9, 11, 13, 15, 17]\n",
      "Sum of all odd number in range 1 to 17 is: 81\n"
     ]
    }
   ],
   "source": [
    "N=17\n",
    "odd_numbers=[]\n",
    "\n",
    "for i in range(1,N+1):\n",
    "    if(i%2 !=0):\n",
    "        odd_numbers.append(i)\n",
    "print(\"Odd number in range 1 to {}:\".format(N), odd_numbers)\n",
    "\n",
    "print(\"Sum of all odd number in range 1 to {} is:\".format(N), sum(odd_numbers))"
   ]
  },
  {
   "cell_type": "code",
   "execution_count": 149,
   "id": "aeca1a8d",
   "metadata": {},
   "outputs": [
    {
     "name": "stdout",
     "output_type": "stream",
     "text": [
      "Total cab fare for distance 25 travelled in time 20 is ₹260\n"
     ]
    }
   ],
   "source": [
    "# Input: distance in km and time in minutes\n",
    "distance = 25\n",
    "time = 20\n",
    "\n",
    "base_price=50\n",
    "free_kms=5\n",
    "per_km_charge=10\n",
    "free_mins=15\n",
    "per_min_change=2\n",
    "\n",
    "# Distance travelled\n",
    "if distance > free_kms:\n",
    "    extra_kms = distance - free_kms\n",
    "    distance_charge = extra_kms * per_km_charge\n",
    "else:\n",
    "    distance_charge = 0 \n",
    "\n",
    "# Time taken\n",
    "if time > free_mins:\n",
    "    extra_time_taken = time - free_mins\n",
    "    time_charge = extra_time_taken * 2\n",
    "else:\n",
    "    time_charge = 0\n",
    "\n",
    "total_fare = base_price + distance_charge + time_charge\n",
    "\n",
    "print(\"Total cab fare for distance {} travelled in time {} is ₹{}\".format(25,20, total_fare))\n"
   ]
  },
  {
   "cell_type": "code",
   "execution_count": 155,
   "id": "8eddad37",
   "metadata": {},
   "outputs": [
    {
     "name": "stdout",
     "output_type": "stream",
     "text": [
      "[5, 4, 3, 2, 1]\n",
      "120\n"
     ]
    }
   ],
   "source": [
    "N=5\n",
    "list=[]\n",
    "\n",
    "for i in range(N, 0, -1):\n",
    "    list.append(i)\n",
    "print(list)\n",
    "\n",
    "product=1\n",
    "for num in list:\n",
    "    product *= num\n",
    "print(product)"
   ]
  },
  {
   "cell_type": "code",
   "execution_count": 156,
   "id": "e7ed7b51",
   "metadata": {},
   "outputs": [
    {
     "name": "stdout",
     "output_type": "stream",
     "text": [
      "120\n"
     ]
    }
   ],
   "source": [
    "N = 5\n",
    "product = 1\n",
    "for i in range(1, N + 1):\n",
    "    product *= i\n",
    "\n",
    "print(product)\n"
   ]
  },
  {
   "cell_type": "code",
   "execution_count": 171,
   "id": "9c321cdf",
   "metadata": {},
   "outputs": [
    {
     "name": "stdout",
     "output_type": "stream",
     "text": [
      "14\n"
     ]
    }
   ],
   "source": [
    "N = 2534\n",
    "total = 0\n",
    "while N > 0:\n",
    "    total += N % 10   # Add last digit\n",
    "    N = N // 10       # Remove last digit\n",
    "\n",
    "print(total)"
   ]
  },
  {
   "cell_type": "code",
   "execution_count": 177,
   "id": "4360b01f",
   "metadata": {},
   "outputs": [
    {
     "name": "stdout",
     "output_type": "stream",
     "text": [
      "The number of vowels in input string are 11.\n"
     ]
    }
   ],
   "source": [
    "cnt=0\n",
    "my_str= \"This is an Input string to count vowels\"\n",
    "for i in my_str:\n",
    "    if i in \"aeiouAEIOU\":\n",
    "        cnt +=1\n",
    "print(\"The number of vowels in input string are {}.\".format(cnt))"
   ]
  },
  {
   "cell_type": "markdown",
   "id": "924c9012",
   "metadata": {},
   "source": [
    "A palindrome string is a string that reads the same forward and backward.\n",
    "\n",
    "ex. \"madam\", \"racecar\""
   ]
  },
  {
   "cell_type": "code",
   "execution_count": 179,
   "id": "2e8b10ef",
   "metadata": {},
   "outputs": [
    {
     "name": "stdout",
     "output_type": "stream",
     "text": [
      "madam is a Palindrome string.\n"
     ]
    }
   ],
   "source": [
    "my_str = \"madam\"\n",
    "rev_str = my_str[::-1]\n",
    "\n",
    "if my_str == rev_str:\n",
    "    print(\"{} is a Palindrome string.\".format(my_str))\n",
    "else:\n",
    "    print(\"{} is not Palindrome string.\".format(my_str))"
   ]
  },
  {
   "cell_type": "code",
   "execution_count": 182,
   "id": "32dddb1a",
   "metadata": {},
   "outputs": [
    {
     "name": "stdout",
     "output_type": "stream",
     "text": [
      "coding is not Palindrome string.\n"
     ]
    }
   ],
   "source": [
    "my_str = \"coding\"\n",
    "start= 0\n",
    "end = len(my_str) -1\n",
    "\n",
    "is_palindrome = True\n",
    "\n",
    "while(start<=end):\n",
    "    if(my_str[start] != my_str[end]):\n",
    "        is_palindrome = False\n",
    "        break\n",
    "\n",
    "    start +=1\n",
    "    end -= 1\n",
    "    \n",
    "if(is_palindrome):\n",
    "    print(\"{} is a Palindrome string.\".format(my_str))\n",
    "else:\n",
    "    print(\"{} is not Palindrome string.\".format(my_str))"
   ]
  },
  {
   "cell_type": "markdown",
   "id": "362902b8",
   "metadata": {},
   "source": [
    "format(x, \"10.4f\")\n",
    "\n",
    "\n",
    "Where:\n",
    "\n",
    "x = 985.3556\n",
    "\n",
    "\"10.4f\" is the format specification string\n",
    "\n",
    "✅ Let's break it down:\n",
    "\"10.4f\" means:\n",
    "f → Fixed-point number (decimal format)\n",
    "\n",
    ".4 → 4 digits after the decimal point\n",
    "\n",
    "10 → Total width of the output (includes digits, decimal point, and spaces)"
   ]
  },
  {
   "cell_type": "code",
   "execution_count": 190,
   "id": "49e32db8",
   "metadata": {},
   "outputs": [
    {
     "name": "stdout",
     "output_type": "stream",
     "text": [
      "Son\n"
     ]
    }
   ],
   "source": [
    "my_str = \"JaSonAy\"\n",
    "\n",
    "middle_index = len(my_str) // 2\n",
    "middle_3 = my_str[(middle_index -1 ):(middle_index + 2)]\n",
    "\n",
    "print(middle_3)"
   ]
  },
  {
   "cell_type": "code",
   "execution_count": 198,
   "id": "a255e86d",
   "metadata": {},
   "outputs": [
    {
     "name": "stdout",
     "output_type": "stream",
     "text": [
      "rauPTL\n"
     ]
    }
   ],
   "source": [
    "st = \"PraTuL\"\n",
    "\n",
    "lowercase = \"\"\n",
    "uppercase = \"\"\n",
    "\n",
    "for char in st:\n",
    "    if char.islower():\n",
    "        lowercase += char\n",
    "    elif char.isupper():\n",
    "        uppercase += char\n",
    "\n",
    "print(lowercase + uppercase)"
   ]
  },
  {
   "cell_type": "code",
   "execution_count": 201,
   "id": "0979874b",
   "metadata": {},
   "outputs": [
    {
     "name": "stdout",
     "output_type": "stream",
     "text": [
      "No\n"
     ]
    }
   ],
   "source": [
    "s1 = \"cdng python\"\n",
    "s2 = \"coding minutes\"\n",
    "\n",
    "i = 0\n",
    "j = 0\n",
    "\n",
    "while(i<len(s1) and j>len(s2)):\n",
    "    if s1[i] == s2[j]:\n",
    "        i +=1\n",
    "    j +=1\n",
    "\n",
    "if i == len(s1):\n",
    "    print(\"Yes\")\n",
    "else: print(\"No\")"
   ]
  },
  {
   "cell_type": "markdown",
   "id": "d821bdca",
   "metadata": {},
   "source": [
    "1. To create a matrix/an empty 2D, 3D (Multi dimension) list we use None.\n",
    "Ex. \n",
    "C = [None, None ][None, None]\n",
    "\n",
    "2. To create empty multi dimensions list of lot of row, columns.\n",
    "[ [None]*10 ]*10"
   ]
  },
  {
   "cell_type": "code",
   "execution_count": 6,
   "id": "7bb11ec1",
   "metadata": {},
   "outputs": [
    {
     "data": {
      "text/plain": [
       "[2, 7, 8, 9, 3, 5]"
      ]
     },
     "execution_count": 6,
     "metadata": {},
     "output_type": "execute_result"
    }
   ],
   "source": [
    "lst = [3, 5, 2, 7,8, 9]\n",
    "steps = 4\n",
    "\n",
    "for _ in range(steps):\n",
    "    n=len(lst)\n",
    "    key = lst[-1]\n",
    "\n",
    "    for i in range(n-1, 0, -1):\n",
    "        lst[i] = lst[i-1]\n",
    "\n",
    "    lst[0]=key\n",
    "\n",
    "lst"
   ]
  },
  {
   "cell_type": "code",
   "execution_count": 8,
   "id": "5a219d95",
   "metadata": {},
   "outputs": [
    {
     "data": {
      "text/plain": [
       "[5, 3, 9, 8, 7, 2]"
      ]
     },
     "execution_count": 8,
     "metadata": {},
     "output_type": "execute_result"
    }
   ],
   "source": [
    "# To reverse a list\n",
    "lst[::-1]"
   ]
  },
  {
   "cell_type": "markdown",
   "id": "b30759cb",
   "metadata": {},
   "source": [
    "Below is not a valid form. i not in a is a condition (i.e., it evaluates to True or False), not something that Python can iterate over."
   ]
  },
  {
   "cell_type": "code",
   "execution_count": 11,
   "id": "94738dd8",
   "metadata": {},
   "outputs": [
    {
     "ename": "SyntaxError",
     "evalue": "invalid syntax (3587516390.py, line 4)",
     "output_type": "error",
     "traceback": [
      "  \u001b[36mCell\u001b[39m\u001b[36m \u001b[39m\u001b[32mIn[11]\u001b[39m\u001b[32m, line 4\u001b[39m\n\u001b[31m    \u001b[39m\u001b[31mfor i not in a:\u001b[39m\n          ^\n\u001b[31mSyntaxError\u001b[39m\u001b[31m:\u001b[39m invalid syntax\n"
     ]
    }
   ],
   "source": [
    "a = [0, 1, 2, 3]\n",
    "i = -2\n",
    "\n",
    "for i not in a:\n",
    "    print(i)\n",
    "    i += 1"
   ]
  },
  {
   "cell_type": "markdown",
   "id": "93f2ade1",
   "metadata": {},
   "source": [
    "To calculate the sum of the principal diagonal (also called the main diagonal) of a 2D square matrix, you sum the elements where the row index == column index."
   ]
  },
  {
   "cell_type": "code",
   "execution_count": 13,
   "id": "e8b25173",
   "metadata": {},
   "outputs": [
    {
     "name": "stdout",
     "output_type": "stream",
     "text": [
      "The sum of the principal diagonal (also called the main diagonal) of a 2D square matrix is: 14\n"
     ]
    }
   ],
   "source": [
    "matrix = [ [1,3,5], [1,4,6], [7,6,9] ]\n",
    "\n",
    "sum_diagonal = 0\n",
    "\n",
    "for i in range(len(matrix)):\n",
    "    sum_diagonal += matrix[i][i]\n",
    "\n",
    "print(\"The sum of the principal diagonal (also called the main diagonal) of a 2D square matrix is: {}\".format(sum_diagonal))"
   ]
  },
  {
   "cell_type": "code",
   "execution_count": null,
   "id": "6327d569",
   "metadata": {},
   "outputs": [
    {
     "name": "stdout",
     "output_type": "stream",
     "text": [
      "86\n",
      "81\n"
     ]
    }
   ],
   "source": [
    "marks = [78, 86, 66, 81, 66, 81, 50, 81, 23, 45, 79, 62, 86, 33]\n",
    "\n",
    "def top_two_marks(marks):\n",
    "    if len(marks) == 0:\n",
    "        print(\"No marks to return\")\n",
    "\n",
    "    first = -1\n",
    "    second = -1\n",
    "\n",
    "# Fist highest marks\n",
    "    for mark in marks:\n",
    "        if mark > first:\n",
    "            first = mark\n",
    "\n",
    "# Second highest marks\n",
    "    for mark in marks:\n",
    "        if  mark != first and mark > second:\n",
    "            second = mark\n",
    "    \n",
    "    print(first)\n",
    "    if second != -1:\n",
    "        print(second)\n",
    "    else: print(\"There are no highest marks\")\n",
    "\n",
    "\n",
    "top_two_marks(marks)\n"
   ]
  },
  {
   "cell_type": "code",
   "execution_count": 20,
   "id": "d18d6038",
   "metadata": {},
   "outputs": [
    {
     "name": "stdout",
     "output_type": "stream",
     "text": [
      "None\n"
     ]
    }
   ],
   "source": [
    "lst = [8, 8, 8]\n",
    "\n",
    "def top_two_marks(lst):\n",
    "    if len(lst) == 0:\n",
    "        print(\"No marks to return\")\n",
    "        return\n",
    "    \n",
    "    first = float('-inf')\n",
    "    second = float('-inf')\n",
    "\n",
    "# Fist highest marks\n",
    "    for l in lst:\n",
    "        if l > first:\n",
    "            first = l\n",
    "\n",
    "# Second highest marks\n",
    "    for l in lst:\n",
    "        if  l != first and l > second:\n",
    "            second = l\n",
    "    \n",
    "    \n",
    "    if second != float('-inf'):\n",
    "        print(second)\n",
    "    else: print(None)\n",
    "\n",
    "\n",
    "top_two_marks(lst)\n"
   ]
  },
  {
   "cell_type": "code",
   "execution_count": 23,
   "id": "5cce2a88",
   "metadata": {},
   "outputs": [
    {
     "data": {
      "text/plain": [
       "tuple"
      ]
     },
     "execution_count": 23,
     "metadata": {},
     "output_type": "execute_result"
    }
   ],
   "source": [
    "# For one element in tuple \",\" is mandatory. Only paranthesis is not enough.\n",
    "\n",
    "#ex.\n",
    "t = ('Mark')\n",
    "type(t)        # This will return str\n",
    "\n",
    "t = ('Mark', )\n",
    "type(t)         # This will return tuple"
   ]
  },
  {
   "cell_type": "code",
   "execution_count": 27,
   "id": "68e00967",
   "metadata": {},
   "outputs": [
    {
     "name": "stdout",
     "output_type": "stream",
     "text": [
      "4 2 1\n",
      "4 2 1\n"
     ]
    }
   ],
   "source": [
    "# Tuple is 10 x faster then list.\n",
    "# Tuple unpacking\n",
    "t = (4, 2, 1)\n",
    "\n",
    "a, b, c = t\n",
    "print(a, b, c)\n",
    "\n",
    "# or\n",
    "print(*t)"
   ]
  },
  {
   "cell_type": "code",
   "execution_count": 28,
   "id": "3087620c",
   "metadata": {},
   "outputs": [
    {
     "data": {
      "text/plain": [
       "'\\nwhy false is correct answer for below code?\\na=(1,2,(4,5))\\nb=(1,2,(3,4))\\na<b\\n\\nPython compares tuples element by element, from left to right, just like in a dictionary sort.\\n\\n'"
      ]
     },
     "execution_count": 28,
     "metadata": {},
     "output_type": "execute_result"
    }
   ],
   "source": [
    "# Tuple has only \"Count\" & \"Index\" attribute.\n",
    "\n",
    "'''\n",
    "why false is correct answer for below code?\n",
    "a=(1,2,(4,5))\n",
    "b=(1,2,(3,4))\n",
    "a<b\n",
    "\n",
    "Python compares tuples element by element, from left to right, just like in a dictionary sort.\n",
    "\n",
    "'''"
   ]
  },
  {
   "cell_type": "code",
   "execution_count": 9,
   "id": "a4c2fa34",
   "metadata": {},
   "outputs": [
    {
     "name": "stdout",
     "output_type": "stream",
     "text": [
      "Hello Buddy how are you\n"
     ]
    }
   ],
   "source": [
    "data = [(\"Hello Buddy\", 11), (\"sample\", 6), (\"to\", 2), (\"how are you\", 11)]\n",
    "\n",
    "# Step 1: Find the maximum magnitude\n",
    "max_mag = -1\n",
    "for item in data:\n",
    "    if item[1] > max_mag:\n",
    "        max_mag = item[1]\n",
    "\n",
    "# Step 2: Collect strings with maximum magnitude\n",
    "result = \"\"\n",
    "for item in data:\n",
    "    if item[1] == max_mag:\n",
    "        result += item[0] + \" \"\n",
    "\n",
    "# Step 3: Remove extra space and print\n",
    "print(result.strip())\n"
   ]
  },
  {
   "cell_type": "code",
   "execution_count": 1,
   "id": "fe369faa",
   "metadata": {},
   "outputs": [
    {
     "name": "stdout",
     "output_type": "stream",
     "text": [
      "[(3, -1), (-4, -3), (1, -3), (-2, -5), (-4, -2), (-9, -3)]\n"
     ]
    }
   ],
   "source": [
    "lst_of_tup = [(3, -1), (-4, -3), (1, 3), (-2, 5), (-4, 2), (-9, -3)]\n",
    "\n",
    "result = []\n",
    "\n",
    "for a, b in lst_of_tup:\n",
    "    if a < 0:\n",
    "        a = +a\n",
    "\n",
    "    if b > 0:\n",
    "        b = -b\n",
    "    result.append((a,b))\n",
    "\n",
    "print(result)"
   ]
  },
  {
   "attachments": {
    "image-2.png": {
     "image/png": "[encoded data removed]"
    },
    "image.png": {
     "image/png": "[encoded data removed]"
    }
   },
   "cell_type": "markdown",
   "id": "82af032b",
   "metadata": {},
   "source": [
    "![image.png](attachment:image.png)\n",
    "![image-2.png](attachment:image-2.png)"
   ]
  },
  {
   "cell_type": "code",
   "execution_count": null,
   "id": "bb27d2ff",
   "metadata": {},
   "outputs": [],
   "source": []
  }
 ],
 "metadata": {
  "kernelspec": {
   "display_name": "venv",
   "language": "python",
   "name": "python3"
  },
  "language_info": {
   "codemirror_mode": {
    "name": "ipython",
    "version": 3
   },
   "file_extension": ".py",
   "mimetype": "text/x-python",
   "name": "python",
   "nbconvert_exporter": "python",
   "pygments_lexer": "ipython3",
   "version": "3.13.5"
  }
 },
 "nbformat": 4,
 "nbformat_minor": 5
}
