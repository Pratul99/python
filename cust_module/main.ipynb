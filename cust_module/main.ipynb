{
 "cells": [
  {
   "cell_type": "code",
   "execution_count": 25,
   "id": "dbb169ed",
   "metadata": {},
   "outputs": [
    {
     "name": "stdout",
     "output_type": "stream",
     "text": [
      "10001\n",
      "<class 'list'>\n"
     ]
    }
   ],
   "source": [
    "#import cust_mod\n",
    "#cust_mod.greetings(\"Pratul\")\n",
    "\n",
    "\n",
    "import importlib\n",
    "import cust_mod\n",
    "importlib.reload(cust_mod)\n",
    "cust_mod.decinalToBinary(17)\n"
   ]
  },
  {
   "cell_type": "code",
   "execution_count": null,
   "id": "4059ccbe",
   "metadata": {},
   "outputs": [],
   "source": [
    "import importlib\n"
   ]
  }
 ],
 "metadata": {
  "kernelspec": {
   "display_name": "venv",
   "language": "python",
   "name": "python3"
  },
  "language_info": {
   "codemirror_mode": {
    "name": "ipython",
    "version": 3
   },
   "file_extension": ".py",
   "mimetype": "text/x-python",
   "name": "python",
   "nbconvert_exporter": "python",
   "pygments_lexer": "ipython3",
   "version": "3.13.5"
  }
 },
 "nbformat": 4,
 "nbformat_minor": 5
}
