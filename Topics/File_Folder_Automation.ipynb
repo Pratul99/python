{
 "cells": [
  {
   "cell_type": "markdown",
   "id": "e3f78b7b",
   "metadata": {},
   "source": [
    "# os, shutil, pathlib → rename/move files, organize folders."
   ]
  },
  {
   "cell_type": "code",
   "execution_count": null,
   "id": "e4895d77",
   "metadata": {},
   "outputs": [],
   "source": [
    "import shutil\n",
    "import os\n",
    "\n",
    "shutil.copy(\"File_Folder_Automation.ipynb\", \"File_Folder_Automation.py\")\n",
    "shutil.move(\"File_Folder_Automation.py\", \"test.py\")\n",
    "#os.remove(\"ffa.py\")"
   ]
  },
  {
   "cell_type": "code",
   "execution_count": null,
   "id": "c4704bed",
   "metadata": {},
   "outputs": [
    {
     "name": "stdout",
     "output_type": "stream",
     "text": [
      "c:\\Users\\pratu\\OneDrive\\Desktop\\Study\\python\\Topics\n",
      "\n",
      "File_Folder_Automation.ipynb\n",
      "myvenv\n",
      "test.py\n"
     ]
    }
   ],
   "source": [
    "import os\n",
    "from pathlib import Path\n",
    "\n",
    "print(Path.cwd())\n",
    "print( )\n",
    "\n",
    "for p in Path().iterdir():\n",
    "    print(p)"
   ]
  },
  {
   "cell_type": "code",
   "execution_count": null,
   "id": "456a2ae4",
   "metadata": {},
   "outputs": [],
   "source": []
  }
 ],
 "metadata": {
  "kernelspec": {
   "display_name": "myvenv",
   "language": "python",
   "name": "python3"
  },
  "language_info": {
   "codemirror_mode": {
    "name": "ipython",
    "version": 3
   },
   "file_extension": ".py",
   "mimetype": "text/x-python",
   "name": "python",
   "nbconvert_exporter": "python",
   "pygments_lexer": "ipython3",
   "version": "3.13.5"
  }
 },
 "nbformat": 4,
 "nbformat_minor": 5
}
